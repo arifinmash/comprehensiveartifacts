{
 "cells": [
  {
   "cell_type": "markdown",
   "id": "11d2add9",
   "metadata": {},
   "source": [
    "### Load the packages and functions"
   ]
  },
  {
   "cell_type": "code",
   "execution_count": 1,
   "id": "5d1abca7",
   "metadata": {
    "scrolled": true
   },
   "outputs": [
    {
     "name": "stderr",
     "output_type": "stream",
     "text": [
      "2023-10-25 03:50:03.864829: I tensorflow/core/util/port.cc:110] oneDNN custom operations are on. You may see slightly different numerical results due to floating-point round-off errors from different computation orders. To turn them off, set the environment variable `TF_ENABLE_ONEDNN_OPTS=0`.\n",
      "2023-10-25 03:50:03.866293: I tensorflow/tsl/cuda/cudart_stub.cc:28] Could not find cuda drivers on your machine, GPU will not be used.\n",
      "2023-10-25 03:50:03.898533: I tensorflow/tsl/cuda/cudart_stub.cc:28] Could not find cuda drivers on your machine, GPU will not be used.\n",
      "2023-10-25 03:50:03.899037: I tensorflow/core/platform/cpu_feature_guard.cc:182] This TensorFlow binary is optimized to use available CPU instructions in performance-critical operations.\n",
      "To enable the following instructions: AVX2 AVX512F AVX512_VNNI FMA, in other operations, rebuild TensorFlow with the appropriate compiler flags.\n",
      "2023-10-25 03:50:04.517595: W tensorflow/compiler/tf2tensorrt/utils/py_utils.cc:38] TF-TRT Warning: Could not find TensorRT\n"
     ]
    }
   ],
   "source": [
    "%run artifactpackage.ipynb\n",
    "%run Confusionmatrix.ipynb\n",
    "%run masrur_ploting_utils.ipynb"
   ]
  },
  {
   "cell_type": "markdown",
   "id": "f6464945",
   "metadata": {},
   "source": [
    "### Load the training and test datasets"
   ]
  },
  {
   "cell_type": "code",
   "execution_count": 2,
   "id": "366ae7b1",
   "metadata": {},
   "outputs": [
    {
     "data": {
      "text/html": [
       "<div>\n",
       "<style scoped>\n",
       "    .dataframe tbody tr th:only-of-type {\n",
       "        vertical-align: middle;\n",
       "    }\n",
       "\n",
       "    .dataframe tbody tr th {\n",
       "        vertical-align: top;\n",
       "    }\n",
       "\n",
       "    .dataframe thead th {\n",
       "        text-align: right;\n",
       "    }\n",
       "</style>\n",
       "<table border=\"1\" class=\"dataframe\">\n",
       "  <thead>\n",
       "    <tr style=\"text-align: right;\">\n",
       "      <th></th>\n",
       "      <th>pslist.nproc</th>\n",
       "      <th>pslist.nppid</th>\n",
       "      <th>pslist.avg_threads</th>\n",
       "      <th>pslist.nprocs64bit</th>\n",
       "      <th>pslist.avg_handlers</th>\n",
       "      <th>dlllist.ndlls</th>\n",
       "      <th>dlllist.avg_dlls_per_proc</th>\n",
       "      <th>handles.nhandles</th>\n",
       "      <th>handles.avg_handles_per_proc</th>\n",
       "      <th>handles.nport</th>\n",
       "      <th>...</th>\n",
       "      <th>svcscan.shared_process_services</th>\n",
       "      <th>svcscan.interactive_process_services</th>\n",
       "      <th>svcscan.nactive</th>\n",
       "      <th>callbacks.ncallbacks</th>\n",
       "      <th>callbacks.nanonymous</th>\n",
       "      <th>callbacks.ngeneric</th>\n",
       "      <th>apihooks.nhooks</th>\n",
       "      <th>apihooks.nhooksInline</th>\n",
       "      <th>apihooks.nhooksUsermode</th>\n",
       "      <th>Class</th>\n",
       "    </tr>\n",
       "  </thead>\n",
       "  <tbody>\n",
       "    <tr>\n",
       "      <th>0</th>\n",
       "      <td>54</td>\n",
       "      <td>17</td>\n",
       "      <td>19.111111</td>\n",
       "      <td>0</td>\n",
       "      <td>-0.055556</td>\n",
       "      <td>3052</td>\n",
       "      <td>56.518519</td>\n",
       "      <td>21894</td>\n",
       "      <td>437.880000</td>\n",
       "      <td>0</td>\n",
       "      <td>...</td>\n",
       "      <td>0</td>\n",
       "      <td>0</td>\n",
       "      <td>0</td>\n",
       "      <td>49</td>\n",
       "      <td>1</td>\n",
       "      <td>19</td>\n",
       "      <td>38958</td>\n",
       "      <td>38672</td>\n",
       "      <td>38805</td>\n",
       "      <td>1</td>\n",
       "    </tr>\n",
       "    <tr>\n",
       "      <th>1</th>\n",
       "      <td>51</td>\n",
       "      <td>14</td>\n",
       "      <td>21.000000</td>\n",
       "      <td>0</td>\n",
       "      <td>-0.039216</td>\n",
       "      <td>3048</td>\n",
       "      <td>59.764706</td>\n",
       "      <td>21760</td>\n",
       "      <td>453.333333</td>\n",
       "      <td>0</td>\n",
       "      <td>...</td>\n",
       "      <td>0</td>\n",
       "      <td>0</td>\n",
       "      <td>0</td>\n",
       "      <td>48</td>\n",
       "      <td>1</td>\n",
       "      <td>20</td>\n",
       "      <td>37501</td>\n",
       "      <td>37204</td>\n",
       "      <td>37348</td>\n",
       "      <td>1</td>\n",
       "    </tr>\n",
       "    <tr>\n",
       "      <th>2</th>\n",
       "      <td>58</td>\n",
       "      <td>17</td>\n",
       "      <td>19.017241</td>\n",
       "      <td>0</td>\n",
       "      <td>-0.051724</td>\n",
       "      <td>3140</td>\n",
       "      <td>54.137931</td>\n",
       "      <td>19673</td>\n",
       "      <td>364.314815</td>\n",
       "      <td>0</td>\n",
       "      <td>...</td>\n",
       "      <td>0</td>\n",
       "      <td>0</td>\n",
       "      <td>0</td>\n",
       "      <td>40</td>\n",
       "      <td>0</td>\n",
       "      <td>17</td>\n",
       "      <td>36283</td>\n",
       "      <td>36038</td>\n",
       "      <td>36130</td>\n",
       "      <td>1</td>\n",
       "    </tr>\n",
       "    <tr>\n",
       "      <th>3</th>\n",
       "      <td>83</td>\n",
       "      <td>26</td>\n",
       "      <td>19.855422</td>\n",
       "      <td>0</td>\n",
       "      <td>-0.060241</td>\n",
       "      <td>4200</td>\n",
       "      <td>50.602410</td>\n",
       "      <td>3963</td>\n",
       "      <td>52.144737</td>\n",
       "      <td>0</td>\n",
       "      <td>...</td>\n",
       "      <td>0</td>\n",
       "      <td>0</td>\n",
       "      <td>0</td>\n",
       "      <td>40</td>\n",
       "      <td>0</td>\n",
       "      <td>17</td>\n",
       "      <td>40675</td>\n",
       "      <td>40262</td>\n",
       "      <td>40522</td>\n",
       "      <td>1</td>\n",
       "    </tr>\n",
       "    <tr>\n",
       "      <th>4</th>\n",
       "      <td>50</td>\n",
       "      <td>16</td>\n",
       "      <td>16.900000</td>\n",
       "      <td>0</td>\n",
       "      <td>-0.040000</td>\n",
       "      <td>2878</td>\n",
       "      <td>57.560000</td>\n",
       "      <td>17711</td>\n",
       "      <td>376.829787</td>\n",
       "      <td>0</td>\n",
       "      <td>...</td>\n",
       "      <td>0</td>\n",
       "      <td>0</td>\n",
       "      <td>0</td>\n",
       "      <td>44</td>\n",
       "      <td>1</td>\n",
       "      <td>18</td>\n",
       "      <td>33353</td>\n",
       "      <td>33116</td>\n",
       "      <td>33200</td>\n",
       "      <td>1</td>\n",
       "    </tr>\n",
       "    <tr>\n",
       "      <th>...</th>\n",
       "      <td>...</td>\n",
       "      <td>...</td>\n",
       "      <td>...</td>\n",
       "      <td>...</td>\n",
       "      <td>...</td>\n",
       "      <td>...</td>\n",
       "      <td>...</td>\n",
       "      <td>...</td>\n",
       "      <td>...</td>\n",
       "      <td>...</td>\n",
       "      <td>...</td>\n",
       "      <td>...</td>\n",
       "      <td>...</td>\n",
       "      <td>...</td>\n",
       "      <td>...</td>\n",
       "      <td>...</td>\n",
       "      <td>...</td>\n",
       "      <td>...</td>\n",
       "      <td>...</td>\n",
       "      <td>...</td>\n",
       "      <td>...</td>\n",
       "    </tr>\n",
       "    <tr>\n",
       "      <th>58591</th>\n",
       "      <td>67</td>\n",
       "      <td>22</td>\n",
       "      <td>3028.814201</td>\n",
       "      <td>0</td>\n",
       "      <td>-0.059500</td>\n",
       "      <td>3191</td>\n",
       "      <td>49.268511</td>\n",
       "      <td>27074</td>\n",
       "      <td>436.688368</td>\n",
       "      <td>0</td>\n",
       "      <td>...</td>\n",
       "      <td>0</td>\n",
       "      <td>0</td>\n",
       "      <td>0</td>\n",
       "      <td>46</td>\n",
       "      <td>0</td>\n",
       "      <td>19</td>\n",
       "      <td>22990</td>\n",
       "      <td>22752</td>\n",
       "      <td>22861</td>\n",
       "      <td>1</td>\n",
       "    </tr>\n",
       "    <tr>\n",
       "      <th>58592</th>\n",
       "      <td>63</td>\n",
       "      <td>20</td>\n",
       "      <td>19.338365</td>\n",
       "      <td>0</td>\n",
       "      <td>-0.056538</td>\n",
       "      <td>3502</td>\n",
       "      <td>55.457282</td>\n",
       "      <td>23073</td>\n",
       "      <td>387.917384</td>\n",
       "      <td>0</td>\n",
       "      <td>...</td>\n",
       "      <td>0</td>\n",
       "      <td>0</td>\n",
       "      <td>0</td>\n",
       "      <td>51</td>\n",
       "      <td>0</td>\n",
       "      <td>21</td>\n",
       "      <td>39248</td>\n",
       "      <td>38957</td>\n",
       "      <td>39095</td>\n",
       "      <td>1</td>\n",
       "    </tr>\n",
       "    <tr>\n",
       "      <th>58593</th>\n",
       "      <td>70</td>\n",
       "      <td>20</td>\n",
       "      <td>17.508938</td>\n",
       "      <td>0</td>\n",
       "      <td>-0.042491</td>\n",
       "      <td>3485</td>\n",
       "      <td>49.884989</td>\n",
       "      <td>23146</td>\n",
       "      <td>353.198812</td>\n",
       "      <td>0</td>\n",
       "      <td>...</td>\n",
       "      <td>0</td>\n",
       "      <td>0</td>\n",
       "      <td>0</td>\n",
       "      <td>51</td>\n",
       "      <td>0</td>\n",
       "      <td>21</td>\n",
       "      <td>37414</td>\n",
       "      <td>36833</td>\n",
       "      <td>37261</td>\n",
       "      <td>1</td>\n",
       "    </tr>\n",
       "    <tr>\n",
       "      <th>58594</th>\n",
       "      <td>73</td>\n",
       "      <td>22</td>\n",
       "      <td>15.585836</td>\n",
       "      <td>0</td>\n",
       "      <td>-0.054515</td>\n",
       "      <td>3047</td>\n",
       "      <td>45.028320</td>\n",
       "      <td>26234</td>\n",
       "      <td>400.605471</td>\n",
       "      <td>0</td>\n",
       "      <td>...</td>\n",
       "      <td>0</td>\n",
       "      <td>0</td>\n",
       "      <td>0</td>\n",
       "      <td>45</td>\n",
       "      <td>0</td>\n",
       "      <td>17</td>\n",
       "      <td>20050</td>\n",
       "      <td>19900</td>\n",
       "      <td>19920</td>\n",
       "      <td>1</td>\n",
       "    </tr>\n",
       "    <tr>\n",
       "      <th>58595</th>\n",
       "      <td>68</td>\n",
       "      <td>22</td>\n",
       "      <td>18.595954</td>\n",
       "      <td>0</td>\n",
       "      <td>-0.057559</td>\n",
       "      <td>3612</td>\n",
       "      <td>54.630247</td>\n",
       "      <td>3552</td>\n",
       "      <td>57.804929</td>\n",
       "      <td>0</td>\n",
       "      <td>...</td>\n",
       "      <td>0</td>\n",
       "      <td>0</td>\n",
       "      <td>0</td>\n",
       "      <td>46</td>\n",
       "      <td>0</td>\n",
       "      <td>18</td>\n",
       "      <td>39651</td>\n",
       "      <td>39333</td>\n",
       "      <td>39509</td>\n",
       "      <td>1</td>\n",
       "    </tr>\n",
       "  </tbody>\n",
       "</table>\n",
       "<p>58596 rows × 55 columns</p>\n",
       "</div>"
      ],
      "text/plain": [
       "       pslist.nproc  pslist.nppid  pslist.avg_threads  pslist.nprocs64bit  \\\n",
       "0                54            17           19.111111                   0   \n",
       "1                51            14           21.000000                   0   \n",
       "2                58            17           19.017241                   0   \n",
       "3                83            26           19.855422                   0   \n",
       "4                50            16           16.900000                   0   \n",
       "...             ...           ...                 ...                 ...   \n",
       "58591            67            22         3028.814201                   0   \n",
       "58592            63            20           19.338365                   0   \n",
       "58593            70            20           17.508938                   0   \n",
       "58594            73            22           15.585836                   0   \n",
       "58595            68            22           18.595954                   0   \n",
       "\n",
       "       pslist.avg_handlers  dlllist.ndlls  dlllist.avg_dlls_per_proc  \\\n",
       "0                -0.055556           3052                  56.518519   \n",
       "1                -0.039216           3048                  59.764706   \n",
       "2                -0.051724           3140                  54.137931   \n",
       "3                -0.060241           4200                  50.602410   \n",
       "4                -0.040000           2878                  57.560000   \n",
       "...                    ...            ...                        ...   \n",
       "58591            -0.059500           3191                  49.268511   \n",
       "58592            -0.056538           3502                  55.457282   \n",
       "58593            -0.042491           3485                  49.884989   \n",
       "58594            -0.054515           3047                  45.028320   \n",
       "58595            -0.057559           3612                  54.630247   \n",
       "\n",
       "       handles.nhandles  handles.avg_handles_per_proc  handles.nport  ...  \\\n",
       "0                 21894                    437.880000              0  ...   \n",
       "1                 21760                    453.333333              0  ...   \n",
       "2                 19673                    364.314815              0  ...   \n",
       "3                  3963                     52.144737              0  ...   \n",
       "4                 17711                    376.829787              0  ...   \n",
       "...                 ...                           ...            ...  ...   \n",
       "58591             27074                    436.688368              0  ...   \n",
       "58592             23073                    387.917384              0  ...   \n",
       "58593             23146                    353.198812              0  ...   \n",
       "58594             26234                    400.605471              0  ...   \n",
       "58595              3552                     57.804929              0  ...   \n",
       "\n",
       "       svcscan.shared_process_services  svcscan.interactive_process_services  \\\n",
       "0                                    0                                     0   \n",
       "1                                    0                                     0   \n",
       "2                                    0                                     0   \n",
       "3                                    0                                     0   \n",
       "4                                    0                                     0   \n",
       "...                                ...                                   ...   \n",
       "58591                                0                                     0   \n",
       "58592                                0                                     0   \n",
       "58593                                0                                     0   \n",
       "58594                                0                                     0   \n",
       "58595                                0                                     0   \n",
       "\n",
       "       svcscan.nactive  callbacks.ncallbacks  callbacks.nanonymous  \\\n",
       "0                    0                    49                     1   \n",
       "1                    0                    48                     1   \n",
       "2                    0                    40                     0   \n",
       "3                    0                    40                     0   \n",
       "4                    0                    44                     1   \n",
       "...                ...                   ...                   ...   \n",
       "58591                0                    46                     0   \n",
       "58592                0                    51                     0   \n",
       "58593                0                    51                     0   \n",
       "58594                0                    45                     0   \n",
       "58595                0                    46                     0   \n",
       "\n",
       "       callbacks.ngeneric  apihooks.nhooks  apihooks.nhooksInline  \\\n",
       "0                      19            38958                  38672   \n",
       "1                      20            37501                  37204   \n",
       "2                      17            36283                  36038   \n",
       "3                      17            40675                  40262   \n",
       "4                      18            33353                  33116   \n",
       "...                   ...              ...                    ...   \n",
       "58591                  19            22990                  22752   \n",
       "58592                  21            39248                  38957   \n",
       "58593                  21            37414                  36833   \n",
       "58594                  17            20050                  19900   \n",
       "58595                  18            39651                  39333   \n",
       "\n",
       "       apihooks.nhooksUsermode  Class  \n",
       "0                        38805      1  \n",
       "1                        37348      1  \n",
       "2                        36130      1  \n",
       "3                        40522      1  \n",
       "4                        33200      1  \n",
       "...                        ...    ...  \n",
       "58591                    22861      1  \n",
       "58592                    39095      1  \n",
       "58593                    37261      1  \n",
       "58594                    19920      1  \n",
       "58595                    39509      1  \n",
       "\n",
       "[58596 rows x 55 columns]"
      ]
     },
     "execution_count": 2,
     "metadata": {},
     "output_type": "execute_result"
    }
   ],
   "source": [
    "dr = pd.read_csv('/media/masharifin/D Drive/ComprehensiveExam/Datasets/CIC-Malmem/New/newcicresampled-smote.csv')\n",
    "dr['Class'] = dr['Class'].replace({'Benign': 0, 'Malware': 1})\n",
    "dr"
   ]
  },
  {
   "cell_type": "code",
   "execution_count": 3,
   "id": "93d36824",
   "metadata": {},
   "outputs": [
    {
     "data": {
      "text/html": [
       "<div>\n",
       "<style scoped>\n",
       "    .dataframe tbody tr th:only-of-type {\n",
       "        vertical-align: middle;\n",
       "    }\n",
       "\n",
       "    .dataframe tbody tr th {\n",
       "        vertical-align: top;\n",
       "    }\n",
       "\n",
       "    .dataframe thead th {\n",
       "        text-align: right;\n",
       "    }\n",
       "</style>\n",
       "<table border=\"1\" class=\"dataframe\">\n",
       "  <thead>\n",
       "    <tr style=\"text-align: right;\">\n",
       "      <th></th>\n",
       "      <th>pslist.nproc</th>\n",
       "      <th>pslist.nppid</th>\n",
       "      <th>pslist.avg_threads</th>\n",
       "      <th>pslist.nprocs64bit</th>\n",
       "      <th>pslist.avg_handlers</th>\n",
       "      <th>dlllist.ndlls</th>\n",
       "      <th>dlllist.avg_dlls_per_proc</th>\n",
       "      <th>handles.nhandles</th>\n",
       "      <th>handles.avg_handles_per_proc</th>\n",
       "      <th>handles.nport</th>\n",
       "      <th>...</th>\n",
       "      <th>svcscan.kernel_drivers</th>\n",
       "      <th>svcscan.fs_drivers</th>\n",
       "      <th>svcscan.process_services</th>\n",
       "      <th>svcscan.shared_process_services</th>\n",
       "      <th>svcscan.interactive_process_services</th>\n",
       "      <th>svcscan.nactive</th>\n",
       "      <th>callbacks.ncallbacks</th>\n",
       "      <th>callbacks.nanonymous</th>\n",
       "      <th>callbacks.ngeneric</th>\n",
       "      <th>Class</th>\n",
       "    </tr>\n",
       "  </thead>\n",
       "  <tbody>\n",
       "    <tr>\n",
       "      <th>0</th>\n",
       "      <td>45</td>\n",
       "      <td>17</td>\n",
       "      <td>10.555556</td>\n",
       "      <td>0</td>\n",
       "      <td>202.844444</td>\n",
       "      <td>1694</td>\n",
       "      <td>38.500000</td>\n",
       "      <td>9129</td>\n",
       "      <td>212.302326</td>\n",
       "      <td>0</td>\n",
       "      <td>...</td>\n",
       "      <td>221</td>\n",
       "      <td>26</td>\n",
       "      <td>24</td>\n",
       "      <td>116</td>\n",
       "      <td>0</td>\n",
       "      <td>121</td>\n",
       "      <td>87</td>\n",
       "      <td>0</td>\n",
       "      <td>8</td>\n",
       "      <td>1</td>\n",
       "    </tr>\n",
       "    <tr>\n",
       "      <th>1</th>\n",
       "      <td>47</td>\n",
       "      <td>19</td>\n",
       "      <td>11.531915</td>\n",
       "      <td>0</td>\n",
       "      <td>242.234043</td>\n",
       "      <td>2074</td>\n",
       "      <td>44.127660</td>\n",
       "      <td>11385</td>\n",
       "      <td>242.234043</td>\n",
       "      <td>0</td>\n",
       "      <td>...</td>\n",
       "      <td>222</td>\n",
       "      <td>26</td>\n",
       "      <td>24</td>\n",
       "      <td>118</td>\n",
       "      <td>0</td>\n",
       "      <td>122</td>\n",
       "      <td>87</td>\n",
       "      <td>0</td>\n",
       "      <td>8</td>\n",
       "      <td>1</td>\n",
       "    </tr>\n",
       "    <tr>\n",
       "      <th>2</th>\n",
       "      <td>40</td>\n",
       "      <td>14</td>\n",
       "      <td>14.725000</td>\n",
       "      <td>0</td>\n",
       "      <td>288.225000</td>\n",
       "      <td>1932</td>\n",
       "      <td>48.300000</td>\n",
       "      <td>11529</td>\n",
       "      <td>288.225000</td>\n",
       "      <td>0</td>\n",
       "      <td>...</td>\n",
       "      <td>222</td>\n",
       "      <td>26</td>\n",
       "      <td>27</td>\n",
       "      <td>118</td>\n",
       "      <td>0</td>\n",
       "      <td>120</td>\n",
       "      <td>88</td>\n",
       "      <td>0</td>\n",
       "      <td>8</td>\n",
       "      <td>1</td>\n",
       "    </tr>\n",
       "    <tr>\n",
       "      <th>3</th>\n",
       "      <td>32</td>\n",
       "      <td>13</td>\n",
       "      <td>13.500000</td>\n",
       "      <td>0</td>\n",
       "      <td>264.281250</td>\n",
       "      <td>1445</td>\n",
       "      <td>45.156250</td>\n",
       "      <td>8457</td>\n",
       "      <td>264.281250</td>\n",
       "      <td>0</td>\n",
       "      <td>...</td>\n",
       "      <td>222</td>\n",
       "      <td>26</td>\n",
       "      <td>27</td>\n",
       "      <td>118</td>\n",
       "      <td>0</td>\n",
       "      <td>120</td>\n",
       "      <td>88</td>\n",
       "      <td>0</td>\n",
       "      <td>8</td>\n",
       "      <td>1</td>\n",
       "    </tr>\n",
       "    <tr>\n",
       "      <th>4</th>\n",
       "      <td>42</td>\n",
       "      <td>16</td>\n",
       "      <td>11.452381</td>\n",
       "      <td>0</td>\n",
       "      <td>281.333333</td>\n",
       "      <td>2067</td>\n",
       "      <td>49.214286</td>\n",
       "      <td>11816</td>\n",
       "      <td>281.333333</td>\n",
       "      <td>0</td>\n",
       "      <td>...</td>\n",
       "      <td>222</td>\n",
       "      <td>26</td>\n",
       "      <td>24</td>\n",
       "      <td>118</td>\n",
       "      <td>0</td>\n",
       "      <td>124</td>\n",
       "      <td>87</td>\n",
       "      <td>0</td>\n",
       "      <td>8</td>\n",
       "      <td>1</td>\n",
       "    </tr>\n",
       "    <tr>\n",
       "      <th>...</th>\n",
       "      <td>...</td>\n",
       "      <td>...</td>\n",
       "      <td>...</td>\n",
       "      <td>...</td>\n",
       "      <td>...</td>\n",
       "      <td>...</td>\n",
       "      <td>...</td>\n",
       "      <td>...</td>\n",
       "      <td>...</td>\n",
       "      <td>...</td>\n",
       "      <td>...</td>\n",
       "      <td>...</td>\n",
       "      <td>...</td>\n",
       "      <td>...</td>\n",
       "      <td>...</td>\n",
       "      <td>...</td>\n",
       "      <td>...</td>\n",
       "      <td>...</td>\n",
       "      <td>...</td>\n",
       "      <td>...</td>\n",
       "      <td>...</td>\n",
       "    </tr>\n",
       "    <tr>\n",
       "      <th>58591</th>\n",
       "      <td>37</td>\n",
       "      <td>15</td>\n",
       "      <td>10.108108</td>\n",
       "      <td>0</td>\n",
       "      <td>215.486487</td>\n",
       "      <td>1453</td>\n",
       "      <td>39.270270</td>\n",
       "      <td>7973</td>\n",
       "      <td>215.486487</td>\n",
       "      <td>0</td>\n",
       "      <td>...</td>\n",
       "      <td>221</td>\n",
       "      <td>26</td>\n",
       "      <td>24</td>\n",
       "      <td>116</td>\n",
       "      <td>0</td>\n",
       "      <td>120</td>\n",
       "      <td>86</td>\n",
       "      <td>0</td>\n",
       "      <td>8</td>\n",
       "      <td>1</td>\n",
       "    </tr>\n",
       "    <tr>\n",
       "      <th>58592</th>\n",
       "      <td>37</td>\n",
       "      <td>14</td>\n",
       "      <td>9.945946</td>\n",
       "      <td>0</td>\n",
       "      <td>190.216216</td>\n",
       "      <td>1347</td>\n",
       "      <td>36.405405</td>\n",
       "      <td>7038</td>\n",
       "      <td>190.216216</td>\n",
       "      <td>0</td>\n",
       "      <td>...</td>\n",
       "      <td>221</td>\n",
       "      <td>26</td>\n",
       "      <td>24</td>\n",
       "      <td>116</td>\n",
       "      <td>0</td>\n",
       "      <td>116</td>\n",
       "      <td>88</td>\n",
       "      <td>0</td>\n",
       "      <td>8</td>\n",
       "      <td>1</td>\n",
       "    </tr>\n",
       "    <tr>\n",
       "      <th>58593</th>\n",
       "      <td>38</td>\n",
       "      <td>15</td>\n",
       "      <td>9.842105</td>\n",
       "      <td>0</td>\n",
       "      <td>210.026316</td>\n",
       "      <td>1448</td>\n",
       "      <td>38.105263</td>\n",
       "      <td>7982</td>\n",
       "      <td>215.729730</td>\n",
       "      <td>0</td>\n",
       "      <td>...</td>\n",
       "      <td>221</td>\n",
       "      <td>26</td>\n",
       "      <td>24</td>\n",
       "      <td>116</td>\n",
       "      <td>0</td>\n",
       "      <td>120</td>\n",
       "      <td>88</td>\n",
       "      <td>0</td>\n",
       "      <td>8</td>\n",
       "      <td>1</td>\n",
       "    </tr>\n",
       "    <tr>\n",
       "      <th>58594</th>\n",
       "      <td>37</td>\n",
       "      <td>15</td>\n",
       "      <td>10.243243</td>\n",
       "      <td>0</td>\n",
       "      <td>215.513513</td>\n",
       "      <td>1452</td>\n",
       "      <td>39.243243</td>\n",
       "      <td>7974</td>\n",
       "      <td>215.513513</td>\n",
       "      <td>0</td>\n",
       "      <td>...</td>\n",
       "      <td>221</td>\n",
       "      <td>26</td>\n",
       "      <td>24</td>\n",
       "      <td>116</td>\n",
       "      <td>0</td>\n",
       "      <td>120</td>\n",
       "      <td>87</td>\n",
       "      <td>0</td>\n",
       "      <td>8</td>\n",
       "      <td>1</td>\n",
       "    </tr>\n",
       "    <tr>\n",
       "      <th>58595</th>\n",
       "      <td>38</td>\n",
       "      <td>15</td>\n",
       "      <td>9.868421</td>\n",
       "      <td>0</td>\n",
       "      <td>213.026316</td>\n",
       "      <td>1487</td>\n",
       "      <td>39.131579</td>\n",
       "      <td>8095</td>\n",
       "      <td>213.026316</td>\n",
       "      <td>0</td>\n",
       "      <td>...</td>\n",
       "      <td>221</td>\n",
       "      <td>26</td>\n",
       "      <td>24</td>\n",
       "      <td>116</td>\n",
       "      <td>0</td>\n",
       "      <td>120</td>\n",
       "      <td>86</td>\n",
       "      <td>0</td>\n",
       "      <td>8</td>\n",
       "      <td>1</td>\n",
       "    </tr>\n",
       "  </tbody>\n",
       "</table>\n",
       "<p>58596 rows × 55 columns</p>\n",
       "</div>"
      ],
      "text/plain": [
       "       pslist.nproc  pslist.nppid  pslist.avg_threads  pslist.nprocs64bit  \\\n",
       "0                45            17           10.555556                   0   \n",
       "1                47            19           11.531915                   0   \n",
       "2                40            14           14.725000                   0   \n",
       "3                32            13           13.500000                   0   \n",
       "4                42            16           11.452381                   0   \n",
       "...             ...           ...                 ...                 ...   \n",
       "58591            37            15           10.108108                   0   \n",
       "58592            37            14            9.945946                   0   \n",
       "58593            38            15            9.842105                   0   \n",
       "58594            37            15           10.243243                   0   \n",
       "58595            38            15            9.868421                   0   \n",
       "\n",
       "       pslist.avg_handlers  dlllist.ndlls  dlllist.avg_dlls_per_proc  \\\n",
       "0               202.844444           1694                  38.500000   \n",
       "1               242.234043           2074                  44.127660   \n",
       "2               288.225000           1932                  48.300000   \n",
       "3               264.281250           1445                  45.156250   \n",
       "4               281.333333           2067                  49.214286   \n",
       "...                    ...            ...                        ...   \n",
       "58591           215.486487           1453                  39.270270   \n",
       "58592           190.216216           1347                  36.405405   \n",
       "58593           210.026316           1448                  38.105263   \n",
       "58594           215.513513           1452                  39.243243   \n",
       "58595           213.026316           1487                  39.131579   \n",
       "\n",
       "       handles.nhandles  handles.avg_handles_per_proc  handles.nport  ...  \\\n",
       "0                  9129                    212.302326              0  ...   \n",
       "1                 11385                    242.234043              0  ...   \n",
       "2                 11529                    288.225000              0  ...   \n",
       "3                  8457                    264.281250              0  ...   \n",
       "4                 11816                    281.333333              0  ...   \n",
       "...                 ...                           ...            ...  ...   \n",
       "58591              7973                    215.486487              0  ...   \n",
       "58592              7038                    190.216216              0  ...   \n",
       "58593              7982                    215.729730              0  ...   \n",
       "58594              7974                    215.513513              0  ...   \n",
       "58595              8095                    213.026316              0  ...   \n",
       "\n",
       "       svcscan.kernel_drivers  svcscan.fs_drivers  svcscan.process_services  \\\n",
       "0                         221                  26                        24   \n",
       "1                         222                  26                        24   \n",
       "2                         222                  26                        27   \n",
       "3                         222                  26                        27   \n",
       "4                         222                  26                        24   \n",
       "...                       ...                 ...                       ...   \n",
       "58591                     221                  26                        24   \n",
       "58592                     221                  26                        24   \n",
       "58593                     221                  26                        24   \n",
       "58594                     221                  26                        24   \n",
       "58595                     221                  26                        24   \n",
       "\n",
       "       svcscan.shared_process_services  svcscan.interactive_process_services  \\\n",
       "0                                  116                                     0   \n",
       "1                                  118                                     0   \n",
       "2                                  118                                     0   \n",
       "3                                  118                                     0   \n",
       "4                                  118                                     0   \n",
       "...                                ...                                   ...   \n",
       "58591                              116                                     0   \n",
       "58592                              116                                     0   \n",
       "58593                              116                                     0   \n",
       "58594                              116                                     0   \n",
       "58595                              116                                     0   \n",
       "\n",
       "       svcscan.nactive  callbacks.ncallbacks  callbacks.nanonymous  \\\n",
       "0                  121                    87                     0   \n",
       "1                  122                    87                     0   \n",
       "2                  120                    88                     0   \n",
       "3                  120                    88                     0   \n",
       "4                  124                    87                     0   \n",
       "...                ...                   ...                   ...   \n",
       "58591              120                    86                     0   \n",
       "58592              116                    88                     0   \n",
       "58593              120                    88                     0   \n",
       "58594              120                    87                     0   \n",
       "58595              120                    86                     0   \n",
       "\n",
       "       callbacks.ngeneric  Class  \n",
       "0                       8      1  \n",
       "1                       8      1  \n",
       "2                       8      1  \n",
       "3                       8      1  \n",
       "4                       8      1  \n",
       "...                   ...    ...  \n",
       "58591                   8      1  \n",
       "58592                   8      1  \n",
       "58593                   8      1  \n",
       "58594                   8      1  \n",
       "58595                   8      1  \n",
       "\n",
       "[58596 rows x 55 columns]"
      ]
     },
     "execution_count": 3,
     "metadata": {},
     "output_type": "execute_result"
    }
   ],
   "source": [
    "dc = pd.read_csv('/media/masharifin/D Drive/ComprehensiveExam/Datasets/CIC-Malmem/ObfuscatedMalMem2022.csv')\n",
    "dc['Class'] = dr['Class'].replace({'Benign': 0, 'Malware': 1})\n",
    "dc"
   ]
  },
  {
   "cell_type": "code",
   "execution_count": 4,
   "id": "2718a340",
   "metadata": {},
   "outputs": [],
   "source": [
    "# # List of columns to drop\n",
    "# columns_to_drop_dc = ['ldrmodules.not_in_init_avg', 'ldrmodules.not_in_load_avg', 'ldrmodules.not_in_mem_avg']\n",
    "# # Drop the specified columns\n",
    "# dc.drop(columns=columns_to_drop_dc, inplace=True)\n",
    "# dc.info()"
   ]
  },
  {
   "cell_type": "code",
   "execution_count": 5,
   "id": "5d6284f3",
   "metadata": {},
   "outputs": [],
   "source": [
    "# # List of columns to drop\n",
    "# columns_to_drop_dr = ['apihooks.nhooks', 'apihooks.nhooksInline', 'apihooks.nhooksUsermode']\n",
    "# # Drop the specified columns\n",
    "# dr.drop(columns=columns_to_drop_dr, inplace=True)\n",
    "# dr.info()"
   ]
  },
  {
   "cell_type": "code",
   "execution_count": 6,
   "id": "7802ed92",
   "metadata": {},
   "outputs": [],
   "source": [
    "features = dc.drop('Class', axis=1).values\n",
    "Class = dc['Class'].values\n",
    "X_train=dc.drop(columns='Class')\n",
    "y_train=dc['Class']"
   ]
  },
  {
   "cell_type": "code",
   "execution_count": 7,
   "id": "b942fbf3",
   "metadata": {},
   "outputs": [],
   "source": [
    "features = dr.drop('Class', axis=1).values\n",
    "Class = dr['Class'].values\n",
    "X_test=dr.drop(columns='Class')\n",
    "y_test=dr['Class']"
   ]
  },
  {
   "cell_type": "markdown",
   "id": "43457084",
   "metadata": {},
   "source": [
    "## Machine learning Model Build "
   ]
  },
  {
   "cell_type": "markdown",
   "id": "e64c5062",
   "metadata": {},
   "source": [
    "### Model_1: Decision Tree"
   ]
  },
  {
   "cell_type": "code",
   "execution_count": 8,
   "id": "fde35b56",
   "metadata": {},
   "outputs": [
    {
     "name": "stdout",
     "output_type": "stream",
     "text": [
      "Training Accuracy: 1.0\n",
      "Test Accuracy: 0.9987883131954399\n"
     ]
    },
    {
     "name": "stderr",
     "output_type": "stream",
     "text": [
      "/home/masharifin/.local/lib/python3.10/site-packages/sklearn/base.py:493: FutureWarning: The feature names should match those that were passed during fit. Starting version 1.2, an error will be raised.\n",
      "Feature names unseen at fit time:\n",
      "- apihooks.nhooks\n",
      "- apihooks.nhooksInline\n",
      "- apihooks.nhooksUsermode\n",
      "Feature names seen at fit time, yet now missing:\n",
      "- ldrmodules.not_in_init_avg\n",
      "- ldrmodules.not_in_load_avg\n",
      "- ldrmodules.not_in_mem_avg\n",
      "\n",
      "  warnings.warn(message, FutureWarning)\n"
     ]
    }
   ],
   "source": [
    "Dt_classifier= DecisionTreeClassifier(random_state=29)\n",
    "Dt_classifier.fit(X_train, y_train)\n",
    "\n",
    "# Predict on training and test sets\n",
    "y_pred_train_dt = Dt_classifier.predict(X_train)\n",
    "y_pred_test_dt = Dt_classifier.predict(X_test)\n",
    "\n",
    "# Calculate accuracy on training and test sets\n",
    "accuracy_train_dt = accuracy_score(y_train, y_pred_train_dt)\n",
    "accuracy_test_dt = accuracy_score(y_test, y_pred_test_dt)\n",
    "\n",
    "print(f\"Training Accuracy: {accuracy_train_dt}\")\n",
    "print(f\"Test Accuracy: {accuracy_test_dt}\")"
   ]
  },
  {
   "cell_type": "code",
   "execution_count": 9,
   "id": "f90cba0e",
   "metadata": {},
   "outputs": [
    {
     "name": "stderr",
     "output_type": "stream",
     "text": [
      "/home/masharifin/.local/lib/python3.10/site-packages/sklearn/base.py:493: FutureWarning: The feature names should match those that were passed during fit. Starting version 1.2, an error will be raised.\n",
      "Feature names unseen at fit time:\n",
      "- apihooks.nhooks\n",
      "- apihooks.nhooksInline\n",
      "- apihooks.nhooksUsermode\n",
      "Feature names seen at fit time, yet now missing:\n",
      "- ldrmodules.not_in_init_avg\n",
      "- ldrmodules.not_in_load_avg\n",
      "- ldrmodules.not_in_mem_avg\n",
      "\n",
      "  warnings.warn(message, FutureWarning)\n"
     ]
    }
   ],
   "source": [
    "filename_dt= 'Binary_security_dt_sm.sav'\n",
    "pickle.dump(Dt_classifier, open(filename_dt, 'wb'))\n",
    "load_model_dt=pickle.load(open('Binary_security_dt_sm.sav','rb'))\n",
    "load_pred_dt=load_model_dt.predict(X_test)"
   ]
  },
  {
   "cell_type": "code",
   "execution_count": 10,
   "id": "b286c434",
   "metadata": {},
   "outputs": [
    {
     "data": {
      "image/png": "[encoded data removed]",
      "text/plain": [
       "<Figure size 720x720 with 1 Axes>"
      ]
     },
     "metadata": {
      "needs_background": "light"
     },
     "output_type": "display_data"
    }
   ],
   "source": [
    "plot_cm(y_test, load_pred_dt)\n",
    "plt.savefig('cm.eps',dpi=600)"
   ]
  },
  {
   "cell_type": "code",
   "execution_count": 11,
   "id": "b279322a",
   "metadata": {},
   "outputs": [
    {
     "name": "stdout",
     "output_type": "stream",
     "text": [
      "                                   Feature  Importance\n",
      "44                svcscan.process_services    0.977733\n",
      "47                         svcscan.nactive    0.006772\n",
      "8             handles.avg_handles_per_proc    0.004539\n",
      "7                         handles.nhandles    0.001764\n",
      "51                         apihooks.nhooks    0.001168\n",
      "11                          handles.nevent    0.000965\n",
      "27            psxview.not_in_eprocess_pool    0.000850\n",
      "23                     malfind.ninjections    0.000832\n",
      "2                       pslist.avg_threads    0.000769\n",
      "4                      pslist.avg_handlers    0.000672\n",
      "10                           handles.nfile    0.000552\n",
      "14                         handles.nthread    0.000498\n",
      "13                            handles.nkey    0.000250\n",
      "1                             pslist.nppid    0.000249\n",
      "24                    malfind.commitCharge    0.000244\n",
      "25                      malfind.protection    0.000236\n",
      "32                 psxview.not_in_deskthrd    0.000178\n",
      "20                  ldrmodules.not_in_load    0.000176\n",
      "19                         handles.nmutant    0.000176\n",
      "5                            dlllist.ndlls    0.000149\n",
      "42                  svcscan.kernel_drivers    0.000140\n",
      "36    psxview.not_in_pspcid_list_false_avg    0.000128\n",
      "6                dlllist.avg_dlls_per_proc    0.000122\n",
      "18                        handles.nsection    0.000111\n",
      "41                       svcscan.nservices    0.000102\n",
      "40                        modules.nmodules    0.000089\n",
      "31                  psxview.not_in_session    0.000077\n",
      "16                      handles.nsemaphore    0.000069\n",
      "39       psxview.not_in_deskthrd_false_avg    0.000068\n",
      "12                        handles.ndesktop    0.000065\n",
      "22                   ldrmodules.not_in_mem    0.000064\n",
      "33         psxview.not_in_pslist_false_avg    0.000046\n",
      "38        psxview.not_in_session_false_avg    0.000045\n",
      "29              psxview.not_in_pspcid_list    0.000034\n",
      "50                      callbacks.ngeneric    0.000024\n",
      "26                   psxview.not_in_pslist    0.000021\n",
      "34  psxview.not_in_eprocess_pool_false_avg    0.000010\n",
      "15                      handles.ndirectory    0.000010\n",
      "43                      svcscan.fs_drivers    0.000005\n",
      "48                    callbacks.ncallbacks    0.000000\n",
      "46    svcscan.interactive_process_services    0.000000\n",
      "45         svcscan.shared_process_services    0.000000\n",
      "49                    callbacks.nanonymous    0.000000\n",
      "52                   apihooks.nhooksInline    0.000000\n",
      "0                             pslist.nproc    0.000000\n",
      "37  psxview.not_in_csrss_handles_false_avg    0.000000\n",
      "35   psxview.not_in_ethread_pool_false_avg    0.000000\n",
      "30            psxview.not_in_csrss_handles    0.000000\n",
      "28             psxview.not_in_ethread_pool    0.000000\n",
      "21                  ldrmodules.not_in_init    0.000000\n",
      "17                          handles.ntimer    0.000000\n",
      "9                            handles.nport    0.000000\n",
      "3                       pslist.nprocs64bit    0.000000\n",
      "53                 apihooks.nhooksUsermode    0.000000\n"
     ]
    },
    {
     "data": {
      "image/png": "[encoded data removed]",
      "text/plain": [
       "<Figure size 720x432 with 1 Axes>"
      ]
     },
     "metadata": {
      "needs_background": "light"
     },
     "output_type": "display_data"
    }
   ],
   "source": [
    "# Get the feature importance scores from the trained Decision Tree model\n",
    "feature_importance = Dt_classifier.feature_importances_\n",
    "\n",
    "# Create a DataFrame to store the feature names and their importance scores\n",
    "feature_importance_df = pd.DataFrame({'Feature': X_test.columns, 'Importance': feature_importance})\n",
    "\n",
    "# Sort the DataFrame by importance in descending order\n",
    "feature_importance_df = feature_importance_df.sort_values(by='Importance', ascending=False)\n",
    "\n",
    "# Print the ranked list of features with their importance scores\n",
    "print(feature_importance_df)\n",
    "\n",
    "# Plot the feature importances\n",
    "plt.figure(figsize=(10, 6))\n",
    "plt.bar(feature_importance_df['Feature'], feature_importance_df['Importance'])\n",
    "plt.xticks(rotation=90)\n",
    "plt.xlabel('Feature')\n",
    "plt.ylabel('Importance')\n",
    "plt.title('Feature Importances - XGBoost')\n",
    "plt.tight_layout()\n",
    "plt.show()"
   ]
  },
  {
   "cell_type": "code",
   "execution_count": 12,
   "id": "6ee9087e",
   "metadata": {},
   "outputs": [
    {
     "name": "stdout",
     "output_type": "stream",
     "text": [
      "Cross-Validation Scores: [1. 1. 1. 1. 1.]\n",
      "Mean Score: 1.0\n",
      "Standard Deviation: 0.0\n"
     ]
    }
   ],
   "source": [
    "# Initialize  model\n",
    "Dt_classifier = DecisionTreeClassifier(random_state=29)\n",
    "\n",
    "# Define the number of folds for cross-validation\n",
    "num_folds = 5\n",
    "\n",
    "# Perform cross-validation\n",
    "cross_val_scores = cross_val_score(Dt_classifier, X_test, y_test, cv=num_folds)\n",
    "\n",
    "# Print the cross-validation scores\n",
    "print(\"Cross-Validation Scores:\", cross_val_scores)\n",
    "\n",
    "# Calculate the mean and standard deviation of the cross-validation scores\n",
    "mean_score = cross_val_scores.mean()\n",
    "std_score = cross_val_scores.std()\n",
    "\n",
    "# Print the mean and standard deviation\n",
    "print(\"Mean Score:\", mean_score)\n",
    "print(\"Standard Deviation:\", std_score)"
   ]
  },
  {
   "cell_type": "markdown",
   "id": "8edb6ecb",
   "metadata": {},
   "source": [
    "### Model_2: Random forest"
   ]
  },
  {
   "cell_type": "code",
   "execution_count": 13,
   "id": "9baf50f3",
   "metadata": {},
   "outputs": [
    {
     "name": "stderr",
     "output_type": "stream",
     "text": [
      "/home/masharifin/.local/lib/python3.10/site-packages/sklearn/base.py:493: FutureWarning: The feature names should match those that were passed during fit. Starting version 1.2, an error will be raised.\n",
      "Feature names unseen at fit time:\n",
      "- apihooks.nhooks\n",
      "- apihooks.nhooksInline\n",
      "- apihooks.nhooksUsermode\n",
      "Feature names seen at fit time, yet now missing:\n",
      "- ldrmodules.not_in_init_avg\n",
      "- ldrmodules.not_in_load_avg\n",
      "- ldrmodules.not_in_mem_avg\n",
      "\n",
      "  warnings.warn(message, FutureWarning)\n",
      "/home/masharifin/.local/lib/python3.10/site-packages/sklearn/base.py:493: FutureWarning: The feature names should match those that were passed during fit. Starting version 1.2, an error will be raised.\n",
      "Feature names unseen at fit time:\n",
      "- apihooks.nhooks\n",
      "- apihooks.nhooksInline\n",
      "- apihooks.nhooksUsermode\n",
      "Feature names seen at fit time, yet now missing:\n",
      "- ldrmodules.not_in_init_avg\n",
      "- ldrmodules.not_in_load_avg\n",
      "- ldrmodules.not_in_mem_avg\n",
      "\n",
      "  warnings.warn(message, FutureWarning)\n"
     ]
    },
    {
     "name": "stdout",
     "output_type": "stream",
     "text": [
      "Training Accuracy: 1.0\n",
      "Test Accuracy: 0.9988053792067718\n"
     ]
    }
   ],
   "source": [
    "rf_classifier=RandomForestClassifier(n_estimators=100)\n",
    "rf_classifier.fit(X_train, y_train)\n",
    "y_pred_rf=rf_classifier.predict(X_test)\n",
    "# Predict on training and test sets\n",
    "y_pred_train_rf = rf_classifier.predict(X_train)\n",
    "y_pred_test_rf = rf_classifier.predict(X_test)\n",
    "\n",
    "# Calculate accuracy on training and test sets\n",
    "accuracy_train_rf = accuracy_score(y_train, y_pred_train_rf)\n",
    "accuracy_test_rf = accuracy_score(y_test, y_pred_test_rf)\n",
    "\n",
    "print(f\"Training Accuracy: {accuracy_train_rf}\")\n",
    "print(f\"Test Accuracy: {accuracy_test_rf}\")"
   ]
  },
  {
   "cell_type": "code",
   "execution_count": 14,
   "id": "63d2818a",
   "metadata": {},
   "outputs": [
    {
     "name": "stderr",
     "output_type": "stream",
     "text": [
      "/home/masharifin/.local/lib/python3.10/site-packages/sklearn/base.py:493: FutureWarning: The feature names should match those that were passed during fit. Starting version 1.2, an error will be raised.\n",
      "Feature names unseen at fit time:\n",
      "- apihooks.nhooks\n",
      "- apihooks.nhooksInline\n",
      "- apihooks.nhooksUsermode\n",
      "Feature names seen at fit time, yet now missing:\n",
      "- ldrmodules.not_in_init_avg\n",
      "- ldrmodules.not_in_load_avg\n",
      "- ldrmodules.not_in_mem_avg\n",
      "\n",
      "  warnings.warn(message, FutureWarning)\n"
     ]
    }
   ],
   "source": [
    "filename_rf= 'Binary_security_rf_sm.sav'\n",
    "pickle.dump(rf_classifier, open(filename_rf, 'wb'))\n",
    "load_model_dt=pickle.load(open('Binary_security_rf_sm.sav','rb'))\n",
    "load_pred_rf=load_model_dt.predict(X_test)"
   ]
  },
  {
   "cell_type": "code",
   "execution_count": 15,
   "id": "5ee727d2",
   "metadata": {},
   "outputs": [
    {
     "data": {
      "image/png": "[encoded data removed]",
      "text/plain": [
       "<Figure size 720x720 with 1 Axes>"
      ]
     },
     "metadata": {
      "needs_background": "light"
     },
     "output_type": "display_data"
    }
   ],
   "source": [
    "plot_cm(y_test, load_pred_rf)\n",
    "plt.savefig('cm.eps',dpi=600)"
   ]
  },
  {
   "cell_type": "code",
   "execution_count": 16,
   "id": "4b3afd83",
   "metadata": {},
   "outputs": [
    {
     "name": "stdout",
     "output_type": "stream",
     "text": [
      "                                   Feature    Importance\n",
      "45         svcscan.shared_process_services  1.100054e-01\n",
      "44                svcscan.process_services  1.077844e-01\n",
      "18                        handles.nsection  1.057246e-01\n",
      "19                         handles.nmutant  9.896573e-02\n",
      "6                dlllist.avg_dlls_per_proc  8.773199e-02\n",
      "48                    callbacks.ncallbacks  7.700445e-02\n",
      "5                            dlllist.ndlls  7.273745e-02\n",
      "8             handles.avg_handles_per_proc  5.790860e-02\n",
      "11                          handles.nevent  4.857250e-02\n",
      "13                            handles.nkey  4.727236e-02\n",
      "7                         handles.nhandles  2.898618e-02\n",
      "16                      handles.nsemaphore  2.767056e-02\n",
      "22                   ldrmodules.not_in_mem  2.547745e-02\n",
      "4                      pslist.avg_handlers  2.154359e-02\n",
      "10                           handles.nfile  1.702536e-02\n",
      "47                         svcscan.nactive  1.470931e-02\n",
      "27            psxview.not_in_eprocess_pool  1.115792e-02\n",
      "14                         handles.nthread  9.823181e-03\n",
      "2                       pslist.avg_threads  9.013272e-03\n",
      "20                  ldrmodules.not_in_load  8.678120e-03\n",
      "25                      malfind.protection  1.361559e-03\n",
      "17                          handles.ntimer  1.340706e-03\n",
      "24                    malfind.commitCharge  1.097214e-03\n",
      "35   psxview.not_in_ethread_pool_false_avg  1.010520e-03\n",
      "23                     malfind.ninjections  9.485163e-04\n",
      "50                      callbacks.ngeneric  6.716235e-04\n",
      "1                             pslist.nppid  6.077322e-04\n",
      "0                             pslist.nproc  5.647166e-04\n",
      "51                         apihooks.nhooks  5.451034e-04\n",
      "21                  ldrmodules.not_in_init  5.408187e-04\n",
      "42                  svcscan.kernel_drivers  5.144837e-04\n",
      "15                      handles.ndirectory  4.609994e-04\n",
      "40                        modules.nmodules  3.603044e-04\n",
      "28             psxview.not_in_ethread_pool  2.954648e-04\n",
      "41                       svcscan.nservices  2.937069e-04\n",
      "26                   psxview.not_in_pslist  2.816615e-04\n",
      "38        psxview.not_in_session_false_avg  2.268816e-04\n",
      "36    psxview.not_in_pspcid_list_false_avg  2.204854e-04\n",
      "12                        handles.ndesktop  2.169907e-04\n",
      "33         psxview.not_in_pslist_false_avg  1.392081e-04\n",
      "39       psxview.not_in_deskthrd_false_avg  1.352790e-04\n",
      "34  psxview.not_in_eprocess_pool_false_avg  9.447707e-05\n",
      "31                  psxview.not_in_session  9.262458e-05\n",
      "32                 psxview.not_in_deskthrd  7.836936e-05\n",
      "29              psxview.not_in_pspcid_list  7.037904e-05\n",
      "43                      svcscan.fs_drivers  3.730205e-05\n",
      "37  psxview.not_in_csrss_handles_false_avg  3.456140e-07\n",
      "30            psxview.not_in_csrss_handles  3.045054e-08\n",
      "46    svcscan.interactive_process_services  0.000000e+00\n",
      "9                            handles.nport  0.000000e+00\n",
      "49                    callbacks.nanonymous  0.000000e+00\n",
      "3                       pslist.nprocs64bit  0.000000e+00\n",
      "52                   apihooks.nhooksInline  0.000000e+00\n",
      "53                 apihooks.nhooksUsermode  0.000000e+00\n"
     ]
    },
    {
     "data": {
      "image/png": "[encoded data removed]",
      "text/plain": [
       "<Figure size 720x432 with 1 Axes>"
      ]
     },
     "metadata": {
      "needs_background": "light"
     },
     "output_type": "display_data"
    }
   ],
   "source": [
    "# Get the feature importance scores from the trained Random Forest model\n",
    "feature_importance = rf_classifier.feature_importances_\n",
    "\n",
    "# Create a DataFrame to store the feature names and their importance scores\n",
    "feature_importance_df = pd.DataFrame({'Feature': X_test.columns, 'Importance': feature_importance})\n",
    "\n",
    "# Sort the DataFrame by importance in descending order\n",
    "feature_importance_df = feature_importance_df.sort_values(by='Importance', ascending=False)\n",
    "\n",
    "# Print the ranked list of features with their importance scores\n",
    "print(feature_importance_df)\n",
    "\n",
    "# Plot the feature importances\n",
    "plt.figure(figsize=(10, 6))\n",
    "plt.bar(feature_importance_df['Feature'], feature_importance_df['Importance'])\n",
    "plt.xticks(rotation=90)\n",
    "plt.xlabel('Feature')\n",
    "plt.ylabel('Importance')\n",
    "plt.title('Feature Importances - Random Forest (Smote)')\n",
    "plt.tight_layout()\n",
    "plt.show()"
   ]
  },
  {
   "cell_type": "code",
   "execution_count": 17,
   "id": "488cf58e",
   "metadata": {},
   "outputs": [
    {
     "name": "stdout",
     "output_type": "stream",
     "text": [
      "Cross-Validation Scores: [1. 1. 1. 1. 1.]\n",
      "Mean Score: 1.0\n",
      "Standard Deviation: 0.0\n"
     ]
    }
   ],
   "source": [
    "# Define the number of folds for cross-validation\n",
    "num_folds = 5\n",
    "\n",
    "# Perform cross-validation\n",
    "cross_val_scores = cross_val_score(rf_classifier, X_test, y_test, cv=num_folds)\n",
    "\n",
    "# Print the cross-validation scores\n",
    "print(\"Cross-Validation Scores:\", cross_val_scores)\n",
    "\n",
    "# Calculate the mean and standard deviation of the cross-validation scores\n",
    "mean_score = cross_val_scores.mean()\n",
    "std_score = cross_val_scores.std()\n",
    "\n",
    "# Print the mean and standard deviation\n",
    "print(\"Mean Score:\", mean_score)\n",
    "print(\"Standard Deviation:\", std_score)"
   ]
  },
  {
   "cell_type": "markdown",
   "id": "174cfa0a",
   "metadata": {},
   "source": [
    "### Model_3: LGBM"
   ]
  },
  {
   "cell_type": "code",
   "execution_count": 18,
   "id": "05777759",
   "metadata": {},
   "outputs": [
    {
     "name": "stdout",
     "output_type": "stream",
     "text": [
      "[1 1 1 ... 1 1 1]\n"
     ]
    },
    {
     "data": {
      "text/plain": [
       "0.9992149634787357"
      ]
     },
     "execution_count": 18,
     "metadata": {},
     "output_type": "execute_result"
    }
   ],
   "source": [
    "lgb_nor=lgb.LGBMClassifier(n_jobs= -1)\n",
    "lgb_nor.fit(X_train,y_train)\n",
    "y_pred_lgbm =lgb_nor.predict(X_test)\n",
    "print(y_pred_lgbm)\n",
    "cohen_kappa_score(y_test,y_pred_lgbm)"
   ]
  },
  {
   "cell_type": "code",
   "execution_count": 19,
   "id": "4972334d",
   "metadata": {},
   "outputs": [
    {
     "name": "stdout",
     "output_type": "stream",
     "text": [
      "Training Accuracy: 0.9987883131954399\n",
      "Test Accuracy: 0.9996074817393679\n"
     ]
    }
   ],
   "source": [
    "# Predict on training and test sets\n",
    "y_pred_train_lgb = lgb_nor.predict(X_train)\n",
    "y_pred_test_lgb = lgb_nor.predict(X_test)\n",
    "\n",
    "# Calculate accuracy on training and test sets\n",
    "accuracy_train_lgb = accuracy_score(y_train, y_pred_train_lgb)\n",
    "accuracy_test_lgb = accuracy_score(y_test, y_pred_test_lgb)\n",
    "\n",
    "print(f\"Training Accuracy: {accuracy_train_lgb}\")\n",
    "print(f\"Test Accuracy: {accuracy_test_lgb}\")"
   ]
  },
  {
   "cell_type": "code",
   "execution_count": 20,
   "id": "ca6fa254",
   "metadata": {},
   "outputs": [
    {
     "name": "stdout",
     "output_type": "stream",
     "text": [
      "               precision    recall  f1-score   support\n",
      "\n",
      "           0       1.00      1.00      1.00     29298\n",
      "           1       1.00      1.00      1.00     29298\n",
      "\n",
      "    accuracy                           1.00     58596\n",
      "   macro avg       1.00      1.00      1.00     58596\n",
      "weighted avg       1.00      1.00      1.00     58596\n",
      "\n"
     ]
    }
   ],
   "source": [
    "print(\"\",classification_report(y_test,y_pred_lgbm))"
   ]
  },
  {
   "cell_type": "code",
   "execution_count": 21,
   "id": "10bb955f",
   "metadata": {},
   "outputs": [
    {
     "name": "stdout",
     "output_type": "stream",
     "text": [
      "Accuracy: 0.9996074817393679\n"
     ]
    }
   ],
   "source": [
    "accuracy = lgb_nor.score(X_test, y_test)\n",
    "print(\"Accuracy:\", accuracy)"
   ]
  },
  {
   "cell_type": "code",
   "execution_count": 22,
   "id": "a500e80d",
   "metadata": {},
   "outputs": [],
   "source": [
    "filename_lgbm= 'Binary_security_lgbm_rm.sav'\n",
    "pickle.dump(lgb_nor, open(filename_lgbm, 'wb'))\n",
    "load_model_lgbm=pickle.load(open('Binary_security_lgbm_sm.sav','rb'))\n",
    "load_pred_lgbm=load_model_lgbm.predict(X_test)"
   ]
  },
  {
   "cell_type": "code",
   "execution_count": 23,
   "id": "945ed016",
   "metadata": {},
   "outputs": [
    {
     "data": {
      "image/png": "[encoded data removed]",
      "text/plain": [
       "<Figure size 720x720 with 1 Axes>"
      ]
     },
     "metadata": {
      "needs_background": "light"
     },
     "output_type": "display_data"
    }
   ],
   "source": [
    "plot_cm(y_test, load_pred_lgbm)\n",
    "plt.savefig('cm.eps',dpi=600)"
   ]
  },
  {
   "cell_type": "code",
   "execution_count": 24,
   "id": "4ac7b06b",
   "metadata": {},
   "outputs": [
    {
     "name": "stdout",
     "output_type": "stream",
     "text": [
      "                                   Feature    Importance\n",
      "45         svcscan.shared_process_services  1.100054e-01\n",
      "44                svcscan.process_services  1.077844e-01\n",
      "18                        handles.nsection  1.057246e-01\n",
      "19                         handles.nmutant  9.896573e-02\n",
      "6                dlllist.avg_dlls_per_proc  8.773199e-02\n",
      "48                    callbacks.ncallbacks  7.700445e-02\n",
      "5                            dlllist.ndlls  7.273745e-02\n",
      "8             handles.avg_handles_per_proc  5.790860e-02\n",
      "11                          handles.nevent  4.857250e-02\n",
      "13                            handles.nkey  4.727236e-02\n",
      "7                         handles.nhandles  2.898618e-02\n",
      "16                      handles.nsemaphore  2.767056e-02\n",
      "22                   ldrmodules.not_in_mem  2.547745e-02\n",
      "4                      pslist.avg_handlers  2.154359e-02\n",
      "10                           handles.nfile  1.702536e-02\n",
      "47                         svcscan.nactive  1.470931e-02\n",
      "27            psxview.not_in_eprocess_pool  1.115792e-02\n",
      "14                         handles.nthread  9.823181e-03\n",
      "2                       pslist.avg_threads  9.013272e-03\n",
      "20                  ldrmodules.not_in_load  8.678120e-03\n",
      "25                      malfind.protection  1.361559e-03\n",
      "17                          handles.ntimer  1.340706e-03\n",
      "24                    malfind.commitCharge  1.097214e-03\n",
      "35   psxview.not_in_ethread_pool_false_avg  1.010520e-03\n",
      "23                     malfind.ninjections  9.485163e-04\n",
      "50                      callbacks.ngeneric  6.716235e-04\n",
      "1                             pslist.nppid  6.077322e-04\n",
      "0                             pslist.nproc  5.647166e-04\n",
      "51                         apihooks.nhooks  5.451034e-04\n",
      "21                  ldrmodules.not_in_init  5.408187e-04\n",
      "42                  svcscan.kernel_drivers  5.144837e-04\n",
      "15                      handles.ndirectory  4.609994e-04\n",
      "40                        modules.nmodules  3.603044e-04\n",
      "28             psxview.not_in_ethread_pool  2.954648e-04\n",
      "41                       svcscan.nservices  2.937069e-04\n",
      "26                   psxview.not_in_pslist  2.816615e-04\n",
      "38        psxview.not_in_session_false_avg  2.268816e-04\n",
      "36    psxview.not_in_pspcid_list_false_avg  2.204854e-04\n",
      "12                        handles.ndesktop  2.169907e-04\n",
      "33         psxview.not_in_pslist_false_avg  1.392081e-04\n",
      "39       psxview.not_in_deskthrd_false_avg  1.352790e-04\n",
      "34  psxview.not_in_eprocess_pool_false_avg  9.447707e-05\n",
      "31                  psxview.not_in_session  9.262458e-05\n",
      "32                 psxview.not_in_deskthrd  7.836936e-05\n",
      "29              psxview.not_in_pspcid_list  7.037904e-05\n",
      "43                      svcscan.fs_drivers  3.730205e-05\n",
      "37  psxview.not_in_csrss_handles_false_avg  3.456140e-07\n",
      "30            psxview.not_in_csrss_handles  3.045054e-08\n",
      "46    svcscan.interactive_process_services  0.000000e+00\n",
      "9                            handles.nport  0.000000e+00\n",
      "49                    callbacks.nanonymous  0.000000e+00\n",
      "3                       pslist.nprocs64bit  0.000000e+00\n",
      "52                   apihooks.nhooksInline  0.000000e+00\n",
      "53                 apihooks.nhooksUsermode  0.000000e+00\n"
     ]
    },
    {
     "data": {
      "image/png": "[encoded data removed]",
      "text/plain": [
       "<Figure size 720x432 with 1 Axes>"
      ]
     },
     "metadata": {
      "needs_background": "light"
     },
     "output_type": "display_data"
    }
   ],
   "source": [
    "# Get the feature importance scores from the trained LGBM model\n",
    "feature_importance = lgb_nor.feature_importances_\n",
    "\n",
    "# Create a DataFrame to store the feature names and their importance scores\n",
    "feature_importance_lgb = pd.DataFrame({'Feature': X_train.columns, 'Importance': feature_importance})\n",
    "\n",
    "# Sort the DataFrame by importance in descending order\n",
    "feature_importance_lgb = feature_importance_df.sort_values(by='Importance', ascending=False)\n",
    "\n",
    "# Print the ranked list of features with their importance scores\n",
    "print(feature_importance_lgb)\n",
    "\n",
    "# Plot the feature importances\n",
    "plt.figure(figsize=(10, 6))\n",
    "plt.bar(feature_importance_df['Feature'], feature_importance_df['Importance'])\n",
    "plt.xticks(rotation=90)\n",
    "plt.xlabel('Feature')\n",
    "plt.ylabel('Importance')\n",
    "plt.title('Feature Importances - LGBM (Random)')\n",
    "plt.tight_layout()\n",
    "plt.show()"
   ]
  },
  {
   "cell_type": "code",
   "execution_count": 25,
   "id": "748f51fa",
   "metadata": {},
   "outputs": [
    {
     "name": "stdout",
     "output_type": "stream",
     "text": [
      "Cross-Validation Scores: [1. 1. 1. 1. 1.]\n",
      "Mean Score: 1.0\n",
      "Standard Deviation: 0.0\n"
     ]
    }
   ],
   "source": [
    "# Define the number of folds for cross-validation\n",
    "num_folds = 5\n",
    "\n",
    "# Perform cross-validation\n",
    "cross_val_scores = cross_val_score(lgb_nor, X_test, y_test, cv=num_folds)\n",
    "\n",
    "# Print the cross-validation scores\n",
    "print(\"Cross-Validation Scores:\", cross_val_scores)\n",
    "\n",
    "# Calculate the mean and standard deviation of the cross-validation scores\n",
    "mean_score = cross_val_scores.mean()\n",
    "std_score = cross_val_scores.std()\n",
    "\n",
    "# Print the mean and standard deviation\n",
    "print(\"Mean Score:\", mean_score)\n",
    "print(\"Standard Deviation:\", std_score)"
   ]
  },
  {
   "cell_type": "markdown",
   "id": "8d416bc4",
   "metadata": {},
   "source": [
    "### Model_4: GaussianNB"
   ]
  },
  {
   "cell_type": "code",
   "execution_count": 26,
   "id": "708b577f",
   "metadata": {},
   "outputs": [
    {
     "name": "stdout",
     "output_type": "stream",
     "text": [
      "Training Accuracy: 0.9894873370195918\n",
      "Test Accuracy: 0.9939586319885316\n"
     ]
    },
    {
     "name": "stderr",
     "output_type": "stream",
     "text": [
      "/home/masharifin/.local/lib/python3.10/site-packages/sklearn/base.py:493: FutureWarning: The feature names should match those that were passed during fit. Starting version 1.2, an error will be raised.\n",
      "Feature names unseen at fit time:\n",
      "- apihooks.nhooks\n",
      "- apihooks.nhooksInline\n",
      "- apihooks.nhooksUsermode\n",
      "Feature names seen at fit time, yet now missing:\n",
      "- ldrmodules.not_in_init_avg\n",
      "- ldrmodules.not_in_load_avg\n",
      "- ldrmodules.not_in_mem_avg\n",
      "\n",
      "  warnings.warn(message, FutureWarning)\n"
     ]
    }
   ],
   "source": [
    "# Create a Gaussian Naive Bayes classifier\n",
    "nb_classifier = GaussianNB()\n",
    "\n",
    "# Train the classifier\n",
    "nb_classifier.fit(X_train, y_train)\n",
    "\n",
    "# Predict on training and test sets\n",
    "y_pred_train_nb = nb_classifier.predict(X_train)\n",
    "y_pred_test_nb = nb_classifier.predict(X_test)\n",
    "\n",
    "# Calculate accuracy on training and test sets\n",
    "accuracy_train_nb = accuracy_score(y_train, y_pred_train_nb)\n",
    "accuracy_test_nb = accuracy_score(y_test, y_pred_test_nb)\n",
    "\n",
    "print(f\"Training Accuracy: {accuracy_train_nb}\")\n",
    "print(f\"Test Accuracy: {accuracy_test_nb}\")"
   ]
  },
  {
   "cell_type": "code",
   "execution_count": 27,
   "id": "3652334b",
   "metadata": {},
   "outputs": [
    {
     "name": "stderr",
     "output_type": "stream",
     "text": [
      "/home/masharifin/.local/lib/python3.10/site-packages/sklearn/base.py:493: FutureWarning: The feature names should match those that were passed during fit. Starting version 1.2, an error will be raised.\n",
      "Feature names unseen at fit time:\n",
      "- apihooks.nhooks\n",
      "- apihooks.nhooksInline\n",
      "- apihooks.nhooksUsermode\n",
      "Feature names seen at fit time, yet now missing:\n",
      "- ldrmodules.not_in_init_avg\n",
      "- ldrmodules.not_in_load_avg\n",
      "- ldrmodules.not_in_mem_avg\n",
      "\n",
      "  warnings.warn(message, FutureWarning)\n"
     ]
    }
   ],
   "source": [
    "filename_nb= 'Binary_security_nb_sm.sav'\n",
    "pickle.dump(nb_classifier, open(filename_nb, 'wb'))\n",
    "load_model_nb=pickle.load(open('Binary_security_nb_rm.sav','rb'))\n",
    "load_pred_nb=load_model_nb.predict(X_test)"
   ]
  },
  {
   "cell_type": "code",
   "execution_count": 28,
   "id": "61834d17",
   "metadata": {},
   "outputs": [
    {
     "data": {
      "image/png": "[encoded data removed]",
      "text/plain": [
       "<Figure size 720x720 with 1 Axes>"
      ]
     },
     "metadata": {
      "needs_background": "light"
     },
     "output_type": "display_data"
    }
   ],
   "source": [
    "plot_cm(y_test, load_pred_nb)\n",
    "plt.savefig('cm.eps',dpi=600)"
   ]
  },
  {
   "cell_type": "code",
   "execution_count": 29,
   "id": "a246ad34",
   "metadata": {},
   "outputs": [
    {
     "name": "stdout",
     "output_type": "stream",
     "text": [
      "Cross-Validation Scores: [1. 1. 1. 1. 1.]\n",
      "Mean Score: 1.0\n",
      "Standard Deviation: 0.0\n"
     ]
    }
   ],
   "source": [
    "# Define the number of folds for cross-validation\n",
    "num_folds = 5\n",
    "\n",
    "# Perform cross-validation\n",
    "cross_val_scores = cross_val_score(nb_classifier, X_test, y_test, cv=num_folds)\n",
    "\n",
    "# Print the cross-validation scores\n",
    "print(\"Cross-Validation Scores:\", cross_val_scores)\n",
    "\n",
    "# Calculate the mean and standard deviation of the cross-validation scores\n",
    "mean_score = cross_val_scores.mean()\n",
    "std_score = cross_val_scores.std()\n",
    "\n",
    "# Print the mean and standard deviation\n",
    "print(\"Mean Score:\", mean_score)\n",
    "print(\"Standard Deviation:\", std_score)"
   ]
  },
  {
   "cell_type": "markdown",
   "id": "46826f58",
   "metadata": {},
   "source": [
    "# ROC "
   ]
  },
  {
   "cell_type": "code",
   "execution_count": 44,
   "id": "b3d5777b",
   "metadata": {},
   "outputs": [
    {
     "data": {
      "text/html": [
       "<style>#sk-container-id-1 {color: black;background-color: white;}#sk-container-id-1 pre{padding: 0;}#sk-container-id-1 div.sk-toggleable {background-color: white;}#sk-container-id-1 label.sk-toggleable__label {cursor: pointer;display: block;width: 100%;margin-bottom: 0;padding: 0.3em;box-sizing: border-box;text-align: center;}#sk-container-id-1 label.sk-toggleable__label-arrow:before {content: \"▸\";float: left;margin-right: 0.25em;color: #696969;}#sk-container-id-1 label.sk-toggleable__label-arrow:hover:before {color: black;}#sk-container-id-1 div.sk-estimator:hover label.sk-toggleable__label-arrow:before {color: black;}#sk-container-id-1 div.sk-toggleable__content {max-height: 0;max-width: 0;overflow: hidden;text-align: left;background-color: #f0f8ff;}#sk-container-id-1 div.sk-toggleable__content pre {margin: 0.2em;color: black;border-radius: 0.25em;background-color: #f0f8ff;}#sk-container-id-1 input.sk-toggleable__control:checked~div.sk-toggleable__content {max-height: 200px;max-width: 100%;overflow: auto;}#sk-container-id-1 input.sk-toggleable__control:checked~label.sk-toggleable__label-arrow:before {content: \"▾\";}#sk-container-id-1 div.sk-estimator input.sk-toggleable__control:checked~label.sk-toggleable__label {background-color: #d4ebff;}#sk-container-id-1 div.sk-label input.sk-toggleable__control:checked~label.sk-toggleable__label {background-color: #d4ebff;}#sk-container-id-1 input.sk-hidden--visually {border: 0;clip: rect(1px 1px 1px 1px);clip: rect(1px, 1px, 1px, 1px);height: 1px;margin: -1px;overflow: hidden;padding: 0;position: absolute;width: 1px;}#sk-container-id-1 div.sk-estimator {font-family: monospace;background-color: #f0f8ff;border: 1px dotted black;border-radius: 0.25em;box-sizing: border-box;margin-bottom: 0.5em;}#sk-container-id-1 div.sk-estimator:hover {background-color: #d4ebff;}#sk-container-id-1 div.sk-parallel-item::after {content: \"\";width: 100%;border-bottom: 1px solid gray;flex-grow: 1;}#sk-container-id-1 div.sk-label:hover label.sk-toggleable__label {background-color: #d4ebff;}#sk-container-id-1 div.sk-serial::before {content: \"\";position: absolute;border-left: 1px solid gray;box-sizing: border-box;top: 0;bottom: 0;left: 50%;z-index: 0;}#sk-container-id-1 div.sk-serial {display: flex;flex-direction: column;align-items: center;background-color: white;padding-right: 0.2em;padding-left: 0.2em;position: relative;}#sk-container-id-1 div.sk-item {position: relative;z-index: 1;}#sk-container-id-1 div.sk-parallel {display: flex;align-items: stretch;justify-content: center;background-color: white;position: relative;}#sk-container-id-1 div.sk-item::before, #sk-container-id-1 div.sk-parallel-item::before {content: \"\";position: absolute;border-left: 1px solid gray;box-sizing: border-box;top: 0;bottom: 0;left: 50%;z-index: -1;}#sk-container-id-1 div.sk-parallel-item {display: flex;flex-direction: column;z-index: 1;position: relative;background-color: white;}#sk-container-id-1 div.sk-parallel-item:first-child::after {align-self: flex-end;width: 50%;}#sk-container-id-1 div.sk-parallel-item:last-child::after {align-self: flex-start;width: 50%;}#sk-container-id-1 div.sk-parallel-item:only-child::after {width: 0;}#sk-container-id-1 div.sk-dashed-wrapped {border: 1px dashed gray;margin: 0 0.4em 0.5em 0.4em;box-sizing: border-box;padding-bottom: 0.4em;background-color: white;}#sk-container-id-1 div.sk-label label {font-family: monospace;font-weight: bold;display: inline-block;line-height: 1.2em;}#sk-container-id-1 div.sk-label-container {text-align: center;}#sk-container-id-1 div.sk-container {/* jupyter's `normalize.less` sets `[hidden] { display: none; }` but bootstrap.min.css set `[hidden] { display: none !important; }` so we also need the `!important` here to be able to override the default hidden behavior on the sphinx rendered scikit-learn.org. See: https://github.com/scikit-learn/scikit-learn/issues/21755 */display: inline-block !important;position: relative;}#sk-container-id-1 div.sk-text-repr-fallback {display: none;}</style><div id=\"sk-container-id-1\" class=\"sk-top-container\"><div class=\"sk-text-repr-fallback\"><pre>LGBMClassifier()</pre><b>In a Jupyter environment, please rerun this cell to show the HTML representation or trust the notebook. <br />On GitHub, the HTML representation is unable to render, please try loading this page with nbviewer.org.</b></div><div class=\"sk-container\" hidden><div class=\"sk-item\"><div class=\"sk-estimator sk-toggleable\"><input class=\"sk-toggleable__control sk-hidden--visually\" id=\"sk-estimator-id-1\" type=\"checkbox\" checked><label for=\"sk-estimator-id-1\" class=\"sk-toggleable__label sk-toggleable__label-arrow\">LGBMClassifier</label><div class=\"sk-toggleable__content\"><pre>LGBMClassifier()</pre></div></div></div></div></div>"
      ],
      "text/plain": [
       "LGBMClassifier()"
      ]
     },
     "execution_count": 44,
     "metadata": {},
     "output_type": "execute_result"
    }
   ],
   "source": [
    "# Fit the classifiers with training data\n",
    "Dt_classifier.fit(X_train, y_train)\n",
    "rf_classifier.fit(X_train, y_train)\n",
    "lgb_nor.fit(X_train, y_train)"
   ]
  },
  {
   "cell_type": "code",
   "execution_count": 45,
   "id": "a97c49ef",
   "metadata": {},
   "outputs": [
    {
     "name": "stderr",
     "output_type": "stream",
     "text": [
      "/home/masharifin/.local/lib/python3.10/site-packages/sklearn/base.py:493: FutureWarning: The feature names should match those that were passed during fit. Starting version 1.2, an error will be raised.\n",
      "Feature names unseen at fit time:\n",
      "- apihooks.nhooks\n",
      "- apihooks.nhooksInline\n",
      "- apihooks.nhooksUsermode\n",
      "Feature names seen at fit time, yet now missing:\n",
      "- ldrmodules.not_in_init_avg\n",
      "- ldrmodules.not_in_load_avg\n",
      "- ldrmodules.not_in_mem_avg\n",
      "\n",
      "  warnings.warn(message, FutureWarning)\n",
      "/home/masharifin/.local/lib/python3.10/site-packages/sklearn/base.py:493: FutureWarning: The feature names should match those that were passed during fit. Starting version 1.2, an error will be raised.\n",
      "Feature names unseen at fit time:\n",
      "- apihooks.nhooks\n",
      "- apihooks.nhooksInline\n",
      "- apihooks.nhooksUsermode\n",
      "Feature names seen at fit time, yet now missing:\n",
      "- ldrmodules.not_in_init_avg\n",
      "- ldrmodules.not_in_load_avg\n",
      "- ldrmodules.not_in_mem_avg\n",
      "\n",
      "  warnings.warn(message, FutureWarning)\n",
      "/home/masharifin/.local/lib/python3.10/site-packages/sklearn/base.py:493: FutureWarning: The feature names should match those that were passed during fit. Starting version 1.2, an error will be raised.\n",
      "Feature names unseen at fit time:\n",
      "- apihooks.nhooks\n",
      "- apihooks.nhooksInline\n",
      "- apihooks.nhooksUsermode\n",
      "Feature names seen at fit time, yet now missing:\n",
      "- ldrmodules.not_in_init_avg\n",
      "- ldrmodules.not_in_load_avg\n",
      "- ldrmodules.not_in_mem_avg\n",
      "\n",
      "  warnings.warn(message, FutureWarning)\n"
     ]
    },
    {
     "data": {
      "text/html": [
       "<div>\n",
       "<style scoped>\n",
       "    .dataframe tbody tr th:only-of-type {\n",
       "        vertical-align: middle;\n",
       "    }\n",
       "\n",
       "    .dataframe tbody tr th {\n",
       "        vertical-align: top;\n",
       "    }\n",
       "\n",
       "    .dataframe thead th {\n",
       "        text-align: right;\n",
       "    }\n",
       "</style>\n",
       "<table border=\"1\" class=\"dataframe\">\n",
       "  <thead>\n",
       "    <tr style=\"text-align: right;\">\n",
       "      <th></th>\n",
       "      <th>DECISIONTREE</th>\n",
       "      <th>RANDOMFORREST</th>\n",
       "      <th>LGBM</th>\n",
       "      <th>NB</th>\n",
       "    </tr>\n",
       "  </thead>\n",
       "  <tbody>\n",
       "    <tr>\n",
       "      <th>0</th>\n",
       "      <td>1.0</td>\n",
       "      <td>0.66</td>\n",
       "      <td>0.985908</td>\n",
       "      <td>1.0</td>\n",
       "    </tr>\n",
       "    <tr>\n",
       "      <th>1</th>\n",
       "      <td>1.0</td>\n",
       "      <td>0.67</td>\n",
       "      <td>0.985102</td>\n",
       "      <td>1.0</td>\n",
       "    </tr>\n",
       "    <tr>\n",
       "      <th>2</th>\n",
       "      <td>1.0</td>\n",
       "      <td>0.69</td>\n",
       "      <td>0.988607</td>\n",
       "      <td>1.0</td>\n",
       "    </tr>\n",
       "    <tr>\n",
       "      <th>3</th>\n",
       "      <td>1.0</td>\n",
       "      <td>0.76</td>\n",
       "      <td>0.999023</td>\n",
       "      <td>1.0</td>\n",
       "    </tr>\n",
       "    <tr>\n",
       "      <th>4</th>\n",
       "      <td>1.0</td>\n",
       "      <td>0.69</td>\n",
       "      <td>0.996804</td>\n",
       "      <td>1.0</td>\n",
       "    </tr>\n",
       "    <tr>\n",
       "      <th>...</th>\n",
       "      <td>...</td>\n",
       "      <td>...</td>\n",
       "      <td>...</td>\n",
       "      <td>...</td>\n",
       "    </tr>\n",
       "    <tr>\n",
       "      <th>58591</th>\n",
       "      <td>1.0</td>\n",
       "      <td>0.65</td>\n",
       "      <td>0.937132</td>\n",
       "      <td>1.0</td>\n",
       "    </tr>\n",
       "    <tr>\n",
       "      <th>58592</th>\n",
       "      <td>1.0</td>\n",
       "      <td>0.70</td>\n",
       "      <td>0.988607</td>\n",
       "      <td>1.0</td>\n",
       "    </tr>\n",
       "    <tr>\n",
       "      <th>58593</th>\n",
       "      <td>1.0</td>\n",
       "      <td>0.70</td>\n",
       "      <td>0.994767</td>\n",
       "      <td>1.0</td>\n",
       "    </tr>\n",
       "    <tr>\n",
       "      <th>58594</th>\n",
       "      <td>1.0</td>\n",
       "      <td>0.66</td>\n",
       "      <td>0.976217</td>\n",
       "      <td>1.0</td>\n",
       "    </tr>\n",
       "    <tr>\n",
       "      <th>58595</th>\n",
       "      <td>1.0</td>\n",
       "      <td>0.75</td>\n",
       "      <td>0.998923</td>\n",
       "      <td>1.0</td>\n",
       "    </tr>\n",
       "  </tbody>\n",
       "</table>\n",
       "<p>58596 rows × 4 columns</p>\n",
       "</div>"
      ],
      "text/plain": [
       "       DECISIONTREE  RANDOMFORREST      LGBM   NB\n",
       "0               1.0           0.66  0.985908  1.0\n",
       "1               1.0           0.67  0.985102  1.0\n",
       "2               1.0           0.69  0.988607  1.0\n",
       "3               1.0           0.76  0.999023  1.0\n",
       "4               1.0           0.69  0.996804  1.0\n",
       "...             ...            ...       ...  ...\n",
       "58591           1.0           0.65  0.937132  1.0\n",
       "58592           1.0           0.70  0.988607  1.0\n",
       "58593           1.0           0.70  0.994767  1.0\n",
       "58594           1.0           0.66  0.976217  1.0\n",
       "58595           1.0           0.75  0.998923  1.0\n",
       "\n",
       "[58596 rows x 4 columns]"
      ]
     },
     "execution_count": 45,
     "metadata": {},
     "output_type": "execute_result"
    }
   ],
   "source": [
    "proba_df = pd.DataFrame({\n",
    "       \n",
    "    'DECISIONTREE':Dt_classifier.predict_proba(X_test)[:,1],\n",
    "    'RANDOMFORREST':rf_classifier.predict_proba(X_test)[:,1],\n",
    "    'LGBM':lgb_nor.predict_proba(X_test)[:,1],\n",
    "    'NB':nb_classifier.predict_proba(X_test)[:,1],\n",
    "    })\n",
    "proba_df"
   ]
  },
  {
   "cell_type": "code",
   "execution_count": 46,
   "id": "fac2953c",
   "metadata": {},
   "outputs": [],
   "source": [
    "proba_df.to_csv('probability.csv')"
   ]
  },
  {
   "cell_type": "code",
   "execution_count": 47,
   "id": "07aebeac",
   "metadata": {},
   "outputs": [
    {
     "name": "stdout",
     "output_type": "stream",
     "text": [
      "DECISIONTREE\n",
      "  AUC: 0.999\n",
      "RANDOMFORREST\n",
      "  AUC: 0.999\n",
      "LGBM\n",
      "  AUC: 1.0\n",
      "NB\n",
      "  AUC: 0.995\n"
     ]
    },
    {
     "data": {
      "image/png": "[encoded data removed]",
      "text/plain": [
       "<Figure size 576x576 with 1 Axes>"
      ]
     },
     "metadata": {
      "needs_background": "light"
     },
     "output_type": "display_data"
    }
   ],
   "source": [
    "filename_ROC='ROC_curve_Binary_security.png'\n",
    "plot_roc_curves(proba_df, y_test,filename_ROC)"
   ]
  },
  {
   "cell_type": "markdown",
   "id": "3546a900",
   "metadata": {},
   "source": [
    "# Performance Metrics"
   ]
  },
  {
   "cell_type": "code",
   "execution_count": 48,
   "id": "e05f5840",
   "metadata": {},
   "outputs": [],
   "source": [
    "#estimator and names fuction\n",
    "def est(clf,names):\n",
    "    estm=[]\n",
    "    for i in range(len(clf)):\n",
    "        n=names[i]\n",
    "        claf=clf[i]\n",
    "        estm.append((n,claf))\n",
    "    return estm\n",
    "clf=[Dt_classifier,rf_classifier,lgb_nor,nb_classifier]\n",
    "name=['DecisionTree','RandomForest','LightGBM','NB']\n",
    "est_1=est(clf,name)"
   ]
  },
  {
   "cell_type": "code",
   "execution_count": 49,
   "id": "22709bdc",
   "metadata": {},
   "outputs": [
    {
     "name": "stderr",
     "output_type": "stream",
     "text": [
      "/home/masharifin/.local/lib/python3.10/site-packages/sklearn/base.py:493: FutureWarning: The feature names should match those that were passed during fit. Starting version 1.2, an error will be raised.\n",
      "Feature names unseen at fit time:\n",
      "- apihooks.nhooks\n",
      "- apihooks.nhooksInline\n",
      "- apihooks.nhooksUsermode\n",
      "Feature names seen at fit time, yet now missing:\n",
      "- ldrmodules.not_in_init_avg\n",
      "- ldrmodules.not_in_load_avg\n",
      "- ldrmodules.not_in_mem_avg\n",
      "\n",
      "  warnings.warn(message, FutureWarning)\n",
      "/home/masharifin/.local/lib/python3.10/site-packages/sklearn/base.py:493: FutureWarning: The feature names should match those that were passed during fit. Starting version 1.2, an error will be raised.\n",
      "Feature names unseen at fit time:\n",
      "- apihooks.nhooks\n",
      "- apihooks.nhooksInline\n",
      "- apihooks.nhooksUsermode\n",
      "Feature names seen at fit time, yet now missing:\n",
      "- ldrmodules.not_in_init_avg\n",
      "- ldrmodules.not_in_load_avg\n",
      "- ldrmodules.not_in_mem_avg\n",
      "\n",
      "  warnings.warn(message, FutureWarning)\n"
     ]
    },
    {
     "name": "stdout",
     "output_type": "stream",
     "text": [
      "done for one\n"
     ]
    },
    {
     "name": "stderr",
     "output_type": "stream",
     "text": [
      "/home/masharifin/.local/lib/python3.10/site-packages/sklearn/base.py:493: FutureWarning: The feature names should match those that were passed during fit. Starting version 1.2, an error will be raised.\n",
      "Feature names unseen at fit time:\n",
      "- apihooks.nhooks\n",
      "- apihooks.nhooksInline\n",
      "- apihooks.nhooksUsermode\n",
      "Feature names seen at fit time, yet now missing:\n",
      "- ldrmodules.not_in_init_avg\n",
      "- ldrmodules.not_in_load_avg\n",
      "- ldrmodules.not_in_mem_avg\n",
      "\n",
      "  warnings.warn(message, FutureWarning)\n",
      "/home/masharifin/.local/lib/python3.10/site-packages/sklearn/base.py:493: FutureWarning: The feature names should match those that were passed during fit. Starting version 1.2, an error will be raised.\n",
      "Feature names unseen at fit time:\n",
      "- apihooks.nhooks\n",
      "- apihooks.nhooksInline\n",
      "- apihooks.nhooksUsermode\n",
      "Feature names seen at fit time, yet now missing:\n",
      "- ldrmodules.not_in_init_avg\n",
      "- ldrmodules.not_in_load_avg\n",
      "- ldrmodules.not_in_mem_avg\n",
      "\n",
      "  warnings.warn(message, FutureWarning)\n"
     ]
    },
    {
     "name": "stdout",
     "output_type": "stream",
     "text": [
      "done for one\n",
      "done for one\n"
     ]
    },
    {
     "name": "stderr",
     "output_type": "stream",
     "text": [
      "/home/masharifin/.local/lib/python3.10/site-packages/sklearn/base.py:493: FutureWarning: The feature names should match those that were passed during fit. Starting version 1.2, an error will be raised.\n",
      "Feature names unseen at fit time:\n",
      "- apihooks.nhooks\n",
      "- apihooks.nhooksInline\n",
      "- apihooks.nhooksUsermode\n",
      "Feature names seen at fit time, yet now missing:\n",
      "- ldrmodules.not_in_init_avg\n",
      "- ldrmodules.not_in_load_avg\n",
      "- ldrmodules.not_in_mem_avg\n",
      "\n",
      "  warnings.warn(message, FutureWarning)\n",
      "/home/masharifin/.local/lib/python3.10/site-packages/sklearn/base.py:493: FutureWarning: The feature names should match those that were passed during fit. Starting version 1.2, an error will be raised.\n",
      "Feature names unseen at fit time:\n",
      "- apihooks.nhooks\n",
      "- apihooks.nhooksInline\n",
      "- apihooks.nhooksUsermode\n",
      "Feature names seen at fit time, yet now missing:\n",
      "- ldrmodules.not_in_init_avg\n",
      "- ldrmodules.not_in_load_avg\n",
      "- ldrmodules.not_in_mem_avg\n",
      "\n",
      "  warnings.warn(message, FutureWarning)\n"
     ]
    },
    {
     "name": "stdout",
     "output_type": "stream",
     "text": [
      "done for one\n"
     ]
    }
   ],
   "source": [
    "cross_val_scores = {}\n",
    "accuracy_scores = {}\n",
    "error_scores = {}\n",
    "f1_scores = {}\n",
    "fpr_scores = {}\n",
    "kappa_scores = {}\n",
    "mcc_scores = {}\n",
    "ppv_scores = {}\n",
    "sensitivity_scores = {}\n",
    "specificity_scores = {}\n",
    "auc_scores = {}\n",
    "y_preds = {}\n",
    "y_probs = {}\n",
    "threat_scores = {}\n",
    "balanced_accuracy_scores = {}\n",
    "\n",
    "\n",
    "for algorithm, model in est_1:\n",
    "    y_pred = model.predict(X_test)\n",
    "    y_prob = model.predict_proba(X_test)\n",
    "    y_preds[algorithm] = y_pred\n",
    "    y_probs[algorithm] = y_prob\n",
    "    \n",
    "    cross_val_scores[algorithm] = cross_val_score(model, X_train, y_train, cv=10).mean()\n",
    "    accuracy_scores[algorithm] = accuracy_score(y_test, y_pred)\n",
    "    error_scores[algorithm] = 1 - accuracy_scores[algorithm]\n",
    "    f1_scores[algorithm] = f1_score(y_test, y_pred, average=\"weighted\")\n",
    "    kappa_scores[algorithm] = cohen_kappa_score(y_test, y_pred)\n",
    "    mcc_scores[algorithm] = matthews_corrcoef(y_test, y_pred)\n",
    "    ppv_scores[algorithm] = precision_score(y_test, y_pred, average=\"weighted\")\n",
    "    sensitivity_scores[algorithm] = recall_score(y_test, y_pred, average=\"weighted\")\n",
    "    confusion_matrix_= confusion_matrix(y_test, y_pred)\n",
    "    FP = confusion_matrix_.sum(axis=0) - np.diag(confusion_matrix_)  \n",
    "    FN = confusion_matrix_.sum(axis=1) - np.diag(confusion_matrix_)\n",
    "    TP = np.diag(confusion_matrix_)\n",
    "    TN = confusion_matrix_.sum() - (FP + FN + TP)\n",
    "    fpr_scores[algorithm] = (FP/(FP+TN)).mean()\n",
    "    specificity_scores[algorithm] = (TN/(TN+FP)).mean()\n",
    "    threat_scores[algorithm] = (TP/(TP+FN+FP)).mean()\n",
    "    balanced_accuracy_scores[algorithm] = ((sensitivity_scores[algorithm] + specificity_scores[algorithm])/2).mean()\n",
    "    print('done for one')\n"
   ]
  },
  {
   "cell_type": "code",
   "execution_count": 50,
   "id": "9901774c",
   "metadata": {},
   "outputs": [
    {
     "data": {
      "text/html": [
       "<div>\n",
       "<style scoped>\n",
       "    .dataframe tbody tr th:only-of-type {\n",
       "        vertical-align: middle;\n",
       "    }\n",
       "\n",
       "    .dataframe tbody tr th {\n",
       "        vertical-align: top;\n",
       "    }\n",
       "\n",
       "    .dataframe thead th {\n",
       "        text-align: right;\n",
       "    }\n",
       "</style>\n",
       "<table border=\"1\" class=\"dataframe\">\n",
       "  <thead>\n",
       "    <tr style=\"text-align: right;\">\n",
       "      <th></th>\n",
       "      <th>cross_val_scores</th>\n",
       "      <th>accuracy_scores</th>\n",
       "      <th>error_scores</th>\n",
       "      <th>f1_scores</th>\n",
       "      <th>fpr_scores</th>\n",
       "      <th>kappa_scores</th>\n",
       "      <th>mcc_scores</th>\n",
       "      <th>ppv_scores</th>\n",
       "      <th>sensitivity_scores</th>\n",
       "      <th>specificity_scores</th>\n",
       "      <th>threat_scores</th>\n",
       "      <th>balanced_accuracy_scores</th>\n",
       "    </tr>\n",
       "  </thead>\n",
       "  <tbody>\n",
       "    <tr>\n",
       "      <th>DecisionTree</th>\n",
       "      <td>0.993617</td>\n",
       "      <td>0.998788</td>\n",
       "      <td>0.001212</td>\n",
       "      <td>0.998788</td>\n",
       "      <td>0.001212</td>\n",
       "      <td>0.997577</td>\n",
       "      <td>0.997579</td>\n",
       "      <td>0.998791</td>\n",
       "      <td>0.998788</td>\n",
       "      <td>0.998788</td>\n",
       "      <td>0.997580</td>\n",
       "      <td>0.998788</td>\n",
       "    </tr>\n",
       "    <tr>\n",
       "      <th>RandomForest</th>\n",
       "      <td>0.996263</td>\n",
       "      <td>0.998805</td>\n",
       "      <td>0.001195</td>\n",
       "      <td>0.998805</td>\n",
       "      <td>0.001195</td>\n",
       "      <td>0.997611</td>\n",
       "      <td>0.997614</td>\n",
       "      <td>0.998808</td>\n",
       "      <td>0.998805</td>\n",
       "      <td>0.998805</td>\n",
       "      <td>0.997614</td>\n",
       "      <td>0.998805</td>\n",
       "    </tr>\n",
       "    <tr>\n",
       "      <th>LightGBM</th>\n",
       "      <td>0.996177</td>\n",
       "      <td>0.999607</td>\n",
       "      <td>0.000393</td>\n",
       "      <td>0.999607</td>\n",
       "      <td>0.000393</td>\n",
       "      <td>0.999215</td>\n",
       "      <td>0.999215</td>\n",
       "      <td>0.999608</td>\n",
       "      <td>0.999607</td>\n",
       "      <td>0.999607</td>\n",
       "      <td>0.999215</td>\n",
       "      <td>0.999607</td>\n",
       "    </tr>\n",
       "    <tr>\n",
       "      <th>NB</th>\n",
       "      <td>0.989095</td>\n",
       "      <td>0.993959</td>\n",
       "      <td>0.006041</td>\n",
       "      <td>0.993958</td>\n",
       "      <td>0.006041</td>\n",
       "      <td>0.987917</td>\n",
       "      <td>0.987989</td>\n",
       "      <td>0.994031</td>\n",
       "      <td>0.993959</td>\n",
       "      <td>0.993959</td>\n",
       "      <td>0.987989</td>\n",
       "      <td>0.993959</td>\n",
       "    </tr>\n",
       "  </tbody>\n",
       "</table>\n",
       "</div>"
      ],
      "text/plain": [
       "              cross_val_scores  accuracy_scores  error_scores  f1_scores  \\\n",
       "DecisionTree          0.993617         0.998788      0.001212   0.998788   \n",
       "RandomForest          0.996263         0.998805      0.001195   0.998805   \n",
       "LightGBM              0.996177         0.999607      0.000393   0.999607   \n",
       "NB                    0.989095         0.993959      0.006041   0.993958   \n",
       "\n",
       "              fpr_scores  kappa_scores  mcc_scores  ppv_scores  \\\n",
       "DecisionTree    0.001212      0.997577    0.997579    0.998791   \n",
       "RandomForest    0.001195      0.997611    0.997614    0.998808   \n",
       "LightGBM        0.000393      0.999215    0.999215    0.999608   \n",
       "NB              0.006041      0.987917    0.987989    0.994031   \n",
       "\n",
       "              sensitivity_scores  specificity_scores  threat_scores  \\\n",
       "DecisionTree            0.998788            0.998788       0.997580   \n",
       "RandomForest            0.998805            0.998805       0.997614   \n",
       "LightGBM                0.999607            0.999607       0.999215   \n",
       "NB                      0.993959            0.993959       0.987989   \n",
       "\n",
       "              balanced_accuracy_scores  \n",
       "DecisionTree                  0.998788  \n",
       "RandomForest                  0.998805  \n",
       "LightGBM                      0.999607  \n",
       "NB                            0.993959  "
      ]
     },
     "execution_count": 50,
     "metadata": {},
     "output_type": "execute_result"
    }
   ],
   "source": [
    "performance_metrics = {\n",
    "    'cross_val_scores': cross_val_scores,\n",
    "    'accuracy_scores': accuracy_scores,\n",
    "    'error_scores': error_scores,\n",
    "    'f1_scores': f1_scores,\n",
    "    'fpr_scores': fpr_scores,\n",
    "    'kappa_scores': kappa_scores,\n",
    "    'mcc_scores': mcc_scores,\n",
    "    'ppv_scores': ppv_scores,\n",
    "    'sensitivity_scores': sensitivity_scores,\n",
    "    'specificity_scores': specificity_scores,\n",
    "    'threat_scores': threat_scores,\n",
    "    'balanced_accuracy_scores': balanced_accuracy_scores\n",
    "}\n",
    "\n",
    "pd.DataFrame(performance_metrics)"
   ]
  },
  {
   "cell_type": "code",
   "execution_count": 51,
   "id": "b93c5803",
   "metadata": {},
   "outputs": [],
   "source": [
    "perfo_m=pd.DataFrame(performance_metrics)\n",
    "perfo_m.to_csv('performance_metrics_smote.csv')"
   ]
  },
  {
   "cell_type": "markdown",
   "id": "70471a68",
   "metadata": {},
   "source": [
    "## Deep learning Model Build "
   ]
  },
  {
   "cell_type": "markdown",
   "id": "c5d9366d",
   "metadata": {},
   "source": [
    "### Model_5:ANN"
   ]
  },
  {
   "cell_type": "code",
   "execution_count": 30,
   "id": "b7994213",
   "metadata": {},
   "outputs": [
    {
     "name": "stdout",
     "output_type": "stream",
     "text": [
      "Epoch 1/10\n",
      "1648/1648 [==============================] - 2s 985us/step - loss: 2.2098 - accuracy: 0.9370 - val_loss: 0.0452 - val_accuracy: 0.9971\n",
      "Epoch 2/10\n",
      "1648/1648 [==============================] - 1s 886us/step - loss: 1.1265 - accuracy: 0.9711 - val_loss: 0.0752 - val_accuracy: 0.9968\n",
      "Epoch 3/10\n",
      "1648/1648 [==============================] - 1s 897us/step - loss: 0.7468 - accuracy: 0.9766 - val_loss: 0.0570 - val_accuracy: 0.9962\n",
      "Epoch 4/10\n",
      "1648/1648 [==============================] - 1s 878us/step - loss: 0.7810 - accuracy: 0.9755 - val_loss: 0.0777 - val_accuracy: 0.9916\n",
      "Epoch 5/10\n",
      "1648/1648 [==============================] - 1s 883us/step - loss: 0.5105 - accuracy: 0.9801 - val_loss: 9.0467e-09 - val_accuracy: 1.0000\n",
      "Epoch 6/10\n",
      "1648/1648 [==============================] - 2s 936us/step - loss: 0.3722 - accuracy: 0.9837 - val_loss: 0.0012 - val_accuracy: 0.9997\n",
      "Epoch 7/10\n",
      "1648/1648 [==============================] - 2s 943us/step - loss: 0.2372 - accuracy: 0.9847 - val_loss: 0.0056 - val_accuracy: 0.9985\n",
      "Epoch 8/10\n",
      "1648/1648 [==============================] - 1s 889us/step - loss: 0.1726 - accuracy: 0.9837 - val_loss: 3.9530e-04 - val_accuracy: 0.9998\n",
      "Epoch 9/10\n",
      "1648/1648 [==============================] - 2s 936us/step - loss: 0.1348 - accuracy: 0.9849 - val_loss: 0.0162 - val_accuracy: 0.9961\n",
      "Epoch 10/10\n",
      "1648/1648 [==============================] - 2s 963us/step - loss: 0.1022 - accuracy: 0.9886 - val_loss: 0.0092 - val_accuracy: 0.9978\n"
     ]
    },
    {
     "data": {
      "text/plain": [
       "<keras.callbacks.History at 0x7f9f580af520>"
      ]
     },
     "execution_count": 30,
     "metadata": {},
     "output_type": "execute_result"
    }
   ],
   "source": [
    "# Create the ANN model\n",
    "model_ann = Sequential()\n",
    "\n",
    "# Add layers to the model\n",
    "model_ann.add(Dense(units=64, activation='relu', input_shape=(X_train.shape[1],)))\n",
    "model_ann.add(Dense(units=32, activation='relu'))\n",
    "model_ann.add(Dense(units=1, activation='sigmoid'))\n",
    "\n",
    "# Compile the model\n",
    "model_ann.compile(optimizer=Adam(learning_rate=0.001), loss='binary_crossentropy', metrics=['accuracy'])\n",
    "\n",
    "# Train the model\n",
    "model_ann.fit(X_train, y_train, epochs=10, batch_size=32, validation_split=0.1)\n"
   ]
  },
  {
   "cell_type": "code",
   "execution_count": 31,
   "id": "0c39dac6",
   "metadata": {},
   "outputs": [
    {
     "name": "stdout",
     "output_type": "stream",
     "text": [
      "1832/1832 [==============================] - 1s 668us/step - loss: 13620.8496 - accuracy: 0.9567\n",
      "Test accuracy: 0.95669\n"
     ]
    }
   ],
   "source": [
    " # Evaluate the model on the test set\n",
    "loss, accuracy_ann = model_ann.evaluate(X_test, y_test)\n",
    "print(f'Test accuracy: {accuracy_ann:.5f}')"
   ]
  },
  {
   "cell_type": "code",
   "execution_count": 32,
   "id": "31c7a002",
   "metadata": {},
   "outputs": [
    {
     "name": "stdout",
     "output_type": "stream",
     "text": [
      "1832/1832 [==============================] - 1s 594us/step\n"
     ]
    },
    {
     "data": {
      "image/png": "[encoded data removed]",
      "text/plain": [
       "<Figure size 720x720 with 1 Axes>"
      ]
     },
     "metadata": {
      "needs_background": "light"
     },
     "output_type": "display_data"
    }
   ],
   "source": [
    "# Save the ANN model to disk\n",
    "model_ann.save('Binary_security_ann_sm.keras')\n",
    "\n",
    "# Load the saved ANN model\n",
    "load_model_ann = load_model('Binary_security_ann_sm.keras')\n",
    "\n",
    "# Predict using the loaded ANN model\n",
    "load_pred_ann = load_model_ann.predict(X_test)\n",
    "load_pred_ann_classes = (load_pred_ann > 0.5).astype(int)  # Convert probabilities to binary classes\n",
    "\n",
    "plot_cm(y_test, load_pred_ann_classes)\n",
    "plt.savefig('cm.eps', dpi=600)"
   ]
  },
  {
   "cell_type": "markdown",
   "id": "78b3edd4",
   "metadata": {},
   "source": [
    "### Model_7:CNN"
   ]
  },
  {
   "cell_type": "code",
   "execution_count": 33,
   "id": "37c5fa58",
   "metadata": {},
   "outputs": [
    {
     "name": "stdout",
     "output_type": "stream",
     "text": [
      "Epoch 1/10\n"
     ]
    },
    {
     "name": "stderr",
     "output_type": "stream",
     "text": [
      "/home/masharifin/.local/lib/python3.10/site-packages/sklearn/base.py:493: FutureWarning: The feature names should match those that were passed during fit. Starting version 1.2, an error will be raised.\n",
      "Feature names unseen at fit time:\n",
      "- apihooks.nhooks\n",
      "- apihooks.nhooksInline\n",
      "- apihooks.nhooksUsermode\n",
      "Feature names seen at fit time, yet now missing:\n",
      "- ldrmodules.not_in_init_avg\n",
      "- ldrmodules.not_in_load_avg\n",
      "- ldrmodules.not_in_mem_avg\n",
      "\n",
      "  warnings.warn(message, FutureWarning)\n"
     ]
    },
    {
     "name": "stdout",
     "output_type": "stream",
     "text": [
      "1648/1648 [==============================] - 5s 3ms/step - loss: 0.0322 - accuracy: 0.9943 - val_loss: 0.0154 - val_accuracy: 0.9993\n",
      "Epoch 2/10\n",
      "1648/1648 [==============================] - 4s 3ms/step - loss: 0.0216 - accuracy: 0.9964 - val_loss: 0.0090 - val_accuracy: 1.0000\n",
      "Epoch 3/10\n",
      "1648/1648 [==============================] - 4s 3ms/step - loss: 0.0202 - accuracy: 0.9968 - val_loss: 0.0045 - val_accuracy: 1.0000\n",
      "Epoch 4/10\n",
      "1648/1648 [==============================] - 4s 3ms/step - loss: 0.0189 - accuracy: 0.9970 - val_loss: 0.0028 - val_accuracy: 0.9993\n",
      "Epoch 5/10\n",
      "1648/1648 [==============================] - 4s 2ms/step - loss: 0.0192 - accuracy: 0.9971 - val_loss: 7.5818e-04 - val_accuracy: 1.0000\n",
      "Epoch 6/10\n",
      "1648/1648 [==============================] - 4s 2ms/step - loss: 0.0172 - accuracy: 0.9971 - val_loss: 0.0037 - val_accuracy: 1.0000\n",
      "Epoch 7/10\n",
      "1648/1648 [==============================] - 4s 2ms/step - loss: 0.0166 - accuracy: 0.9972 - val_loss: 0.0044 - val_accuracy: 0.9995\n",
      "Epoch 8/10\n",
      "1648/1648 [==============================] - 4s 2ms/step - loss: 0.0166 - accuracy: 0.9972 - val_loss: 0.0036 - val_accuracy: 1.0000\n",
      "Epoch 9/10\n",
      "1648/1648 [==============================] - 4s 2ms/step - loss: 0.0161 - accuracy: 0.9973 - val_loss: 0.0014 - val_accuracy: 1.0000\n",
      "Epoch 10/10\n",
      "1648/1648 [==============================] - 4s 2ms/step - loss: 0.0159 - accuracy: 0.9973 - val_loss: 0.0025 - val_accuracy: 1.0000\n",
      "1832/1832 [==============================] - 2s 1ms/step - loss: 0.0020 - accuracy: 0.9999\n",
      "Test accuracy: 0.9999\n"
     ]
    }
   ],
   "source": [
    "# Normalize the input features\n",
    "scaler = StandardScaler()\n",
    "X_train_scaled = scaler.fit_transform(X_train)\n",
    "X_test_scaled = scaler.transform(X_test)\n",
    "\n",
    "# Reshape X_train and X_test to be 3D tensors for CNN\n",
    "X_train_reshaped = X_train_scaled.reshape(X_train_scaled.shape[0], X_train_scaled.shape[1], 1)\n",
    "X_test_reshaped = X_test_scaled.reshape(X_test_scaled.shape[0], X_test_scaled.shape[1], 1)\n",
    "\n",
    "# Create the CNN model\n",
    "model_cnn = Sequential()\n",
    "\n",
    "# Add convolutional layers\n",
    "model_cnn.add(Conv1D(filters=32, kernel_size=3, activation='relu', input_shape=(X_train_scaled.shape[1], 1)))\n",
    "model_cnn.add(MaxPooling1D(pool_size=2))\n",
    "\n",
    "model_cnn.add(Conv1D(filters=64, kernel_size=3, activation='relu'))\n",
    "model_cnn.add(MaxPooling1D(pool_size=2))\n",
    "\n",
    "# Add fully connected layers\n",
    "model_cnn.add(Flatten())\n",
    "model_cnn.add(Dense(units=128, activation='relu'))\n",
    "model_cnn.add(Dense(units=1, activation='sigmoid'))\n",
    "\n",
    "# Compile the model\n",
    "model_cnn.compile(optimizer=Adam(learning_rate=0.001), loss='binary_crossentropy', metrics=['accuracy'])\n",
    "\n",
    "# Train the model\n",
    "model_cnn.fit(X_train_reshaped, y_train, epochs=10, batch_size=32, validation_split=0.1)\n",
    "\n",
    "# Evaluate the model on the test set\n",
    "loss, accuracy_cnn = model_cnn.evaluate(X_test_reshaped, y_test)\n",
    "print(f'Test accuracy: {accuracy_cnn:.4f}')\n"
   ]
  },
  {
   "cell_type": "markdown",
   "id": "ca0c129a",
   "metadata": {},
   "source": [
    "### FGSM Attack On CNN"
   ]
  },
  {
   "cell_type": "code",
   "execution_count": 34,
   "id": "48c0e932",
   "metadata": {},
   "outputs": [],
   "source": [
    "# Save the model to an keras file\n",
    "model_cnn.save('smote-malmemcnn.keras')"
   ]
  },
  {
   "cell_type": "code",
   "execution_count": 35,
   "id": "f1730805",
   "metadata": {},
   "outputs": [],
   "source": [
    "# FGSM Attack\n",
    "epsilon = 103 # Perturbation magnitude\n",
    "\n",
    "def fgsm_attack(input_image, epsilon, gradient):\n",
    "    perturbed_image = input_image + epsilon * tf.sign(gradient)\n",
    "    perturbed_image = tf.clip_by_value(perturbed_image, 0, 255)\n",
    "    return perturbed_image"
   ]
  },
  {
   "cell_type": "code",
   "execution_count": 36,
   "id": "9f4e8a8a",
   "metadata": {},
   "outputs": [],
   "source": [
    "# Select a random test example for the attack\n",
    "random_index = np.random.randint(0, len(X_test_reshaped))\n",
    "test_example = X_test_reshaped[random_index : random_index + 1]"
   ]
  },
  {
   "cell_type": "code",
   "execution_count": 37,
   "id": "2dbdb644",
   "metadata": {},
   "outputs": [],
   "source": [
    "# Select a random test example for the attack\n",
    "random_index = np.random.randint(0, len(X_test_reshaped))\n",
    "test_example = X_test_reshaped[random_index : random_index + 1]\n",
    "\n",
    "# Convert the NumPy array to a TensorFlow tensor\n",
    "test_example_tensor = tf.convert_to_tensor(test_example)\n",
    "#test_example_tensor"
   ]
  },
  {
   "cell_type": "code",
   "execution_count": 38,
   "id": "78366598",
   "metadata": {},
   "outputs": [
    {
     "name": "stdout",
     "output_type": "stream",
     "text": [
      "1/1 [==============================] - 0s 15ms/step - loss: 8.3084e-32 - accuracy: 1.0000\n",
      "Adversarial accuracy: 1.000000\n"
     ]
    }
   ],
   "source": [
    "# Calculate gradients\n",
    "with tf.GradientTape() as tape:\n",
    "    tape.watch(test_example_tensor)\n",
    "    prediction = model_cnn(test_example_tensor)\n",
    "    # Convert Pandas Series to NumPy array and reshape\n",
    "    y_test_slice = y_test[random_index : random_index + 1].to_numpy().reshape(prediction.shape)\n",
    "    loss = tf.keras.losses.binary_crossentropy(y_test_slice, prediction)\n",
    "\n",
    "gradient = tape.gradient(loss, test_example_tensor)\n",
    "\n",
    "# Create adversarial example using FGSM\n",
    "adversarial_example = fgsm_attack(test_example_tensor, epsilon, gradient)\n",
    "\n",
    "# Convert the adversarial example back to a NumPy array\n",
    "adversarial_example_np = adversarial_example.numpy()\n",
    "\n",
    "# Evaluate the model on the adversarial example\n",
    "adversarial_accuracy = model_cnn.evaluate(adversarial_example_np, y_test_slice)[1]\n",
    "print(f'Adversarial accuracy: {adversarial_accuracy:.6f}')\n"
   ]
  },
  {
   "cell_type": "markdown",
   "id": "5d78bb9b",
   "metadata": {},
   "source": [
    "The result  provided is related to the Fast Gradient Sign Method (FGSM) applied to CNN model. Let's break down the output:\n",
    "\n",
    "\"1/1 [==============================] - 0s 15ms/step\": This part of the output indicates the progress of the FGSM attack. It suggests that one attack was performed, and it took approximately 15 milliseconds to execute.\n",
    "\n",
    "\"loss: 8.3084e-32\": The \"loss\" is a measure of how well the model's predictions match the true labels. In this case, the loss value is extremely low, at 8.3084e-32, which is effectively zero. This suggests that the adversarial examples generated by FGSM are causing the model to make predictions that are very different from the true labels.\n",
    "\n",
    "\"accuracy: 1.0000\": The \"accuracy\" is a measure of how well the model is performing. An accuracy of 1.0000 (100%) means that the model is correctly classifying all the examples, including the adversarial ones.\n",
    "\n",
    "\"Adversarial accuracy: 1.000000\": This line indicates the accuracy of the model on the adversarial examples specifically. An adversarial accuracy of 1.000000 (100%) means that the model is correctly classifying all the adversarial examples generated by FGSM.\n",
    "\n",
    "In summary, the result suggests that the FGSM attack successfully perturbed the input data in such a way that the model's accuracy remains perfect (100%) even on the adversarial examples. This indicates that the FGSM attack was successful in crafting adversarial examples that the model still confidently classifies, which is a concerning result for the security of the model."
   ]
  },
  {
   "cell_type": "markdown",
   "id": "290d48d6",
   "metadata": {},
   "source": [
    "### JSMA Attack On CNN"
   ]
  },
  {
   "cell_type": "code",
   "execution_count": 39,
   "id": "f283c154",
   "metadata": {},
   "outputs": [],
   "source": [
    "# Load your trained model\n",
    "model = load_model('smote-malmemcnn.keras')\n",
    "\n",
    "# Define the target class for the attack\n",
    "target_class = 0  # Change this to the desired target class index\n",
    "\n",
    "# Define the maximum perturbation limit (epsilon)\n",
    "epsilon = 16 # Adjust as needed\n",
    "\n",
    "# Define the number of features in your input data\n",
    "num_features = X_train_reshaped.shape[1]"
   ]
  },
  {
   "cell_type": "code",
   "execution_count": 40,
   "id": "3f77da32",
   "metadata": {},
   "outputs": [],
   "source": [
    "# Define a function to compute the saliency map\n",
    "def compute_saliency_map(input_image, target_class):\n",
    "    with tf.GradientTape() as tape:\n",
    "        tape.watch(input_image)\n",
    "        prediction = model(input_image)\n",
    "        target_probability = prediction[0, target_class]\n",
    "    \n",
    "    gradient = tape.gradient(target_probability, input_image)\n",
    "    saliency_map = tf.abs(gradient)\n",
    "    \n",
    "    return saliency_map\n",
    "\n",
    "def jsma_attack(input_image, target_class, epsilon, max_iters=100):\n",
    "    input_image = tf.convert_to_tensor(input_image)\n",
    "    \n",
    "    perturbation = np.zeros_like(input_image)\n",
    "    for _ in range(max_iters):\n",
    "        saliency_map = compute_saliency_map(input_image, target_class)\n",
    "        \n",
    "        # Find the index of the pixel with the highest saliency\n",
    "        max_pixel_index = tf.argmax(saliency_map)\n",
    "        \n",
    "        # Apply perturbation to the pixel with the highest saliency\n",
    "        perturbation[max_pixel_index] += epsilon\n",
    "        \n",
    "        # Apply perturbation to the input image\n",
    "        adversarial_image = input_image + perturbation\n",
    "        \n",
    "        # Check if the attack is successful (changed predicted class)\n",
    "        prediction = model.predict(adversarial_image)\n",
    "        if np.argmax(prediction) != target_class:\n",
    "            break\n",
    "        \n",
    "    return adversarial_image.numpy()"
   ]
  },
  {
   "cell_type": "code",
   "execution_count": 41,
   "id": "bd0626ba",
   "metadata": {},
   "outputs": [],
   "source": [
    "# Select a random test example for the attack\n",
    "random_index = np.random.randint(1, len(X_test_reshaped))\n",
    "test_example = X_test_reshaped[random_index : random_index + 1]"
   ]
  },
  {
   "cell_type": "code",
   "execution_count": 42,
   "id": "d8e83025",
   "metadata": {},
   "outputs": [
    {
     "name": "stdout",
     "output_type": "stream",
     "text": [
      "1/1 [==============================] - 0s 45ms/step\n",
      "1/1 [==============================] - 0s 13ms/step\n",
      "1/1 [==============================] - 0s 13ms/step\n",
      "1/1 [==============================] - 0s 13ms/step\n",
      "1/1 [==============================] - 0s 13ms/step\n",
      "1/1 [==============================] - 0s 13ms/step\n",
      "1/1 [==============================] - 0s 12ms/step\n",
      "1/1 [==============================] - 0s 13ms/step\n",
      "1/1 [==============================] - 0s 12ms/step\n",
      "1/1 [==============================] - 0s 13ms/step\n",
      "1/1 [==============================] - 0s 14ms/step\n",
      "1/1 [==============================] - 0s 12ms/step\n",
      "1/1 [==============================] - 0s 13ms/step\n",
      "1/1 [==============================] - 0s 13ms/step\n",
      "1/1 [==============================] - 0s 13ms/step\n",
      "1/1 [==============================] - 0s 14ms/step\n",
      "1/1 [==============================] - 0s 13ms/step\n",
      "1/1 [==============================] - 0s 13ms/step\n",
      "1/1 [==============================] - 0s 12ms/step\n",
      "1/1 [==============================] - 0s 14ms/step\n",
      "1/1 [==============================] - 0s 13ms/step\n",
      "1/1 [==============================] - 0s 13ms/step\n",
      "1/1 [==============================] - 0s 13ms/step\n",
      "1/1 [==============================] - 0s 14ms/step\n",
      "1/1 [==============================] - 0s 13ms/step\n",
      "1/1 [==============================] - 0s 13ms/step\n",
      "1/1 [==============================] - 0s 13ms/step\n",
      "1/1 [==============================] - 0s 14ms/step\n",
      "1/1 [==============================] - 0s 13ms/step\n",
      "1/1 [==============================] - 0s 12ms/step\n",
      "1/1 [==============================] - 0s 13ms/step\n",
      "1/1 [==============================] - 0s 13ms/step\n",
      "1/1 [==============================] - 0s 13ms/step\n",
      "1/1 [==============================] - 0s 13ms/step\n",
      "1/1 [==============================] - 0s 13ms/step\n",
      "1/1 [==============================] - 0s 12ms/step\n",
      "1/1 [==============================] - 0s 13ms/step\n",
      "1/1 [==============================] - 0s 12ms/step\n",
      "1/1 [==============================] - 0s 13ms/step\n",
      "1/1 [==============================] - 0s 12ms/step\n",
      "1/1 [==============================] - 0s 13ms/step\n",
      "1/1 [==============================] - 0s 14ms/step\n",
      "1/1 [==============================] - 0s 12ms/step\n",
      "1/1 [==============================] - 0s 13ms/step\n",
      "1/1 [==============================] - 0s 12ms/step\n",
      "1/1 [==============================] - 0s 13ms/step\n",
      "1/1 [==============================] - 0s 14ms/step\n",
      "1/1 [==============================] - 0s 13ms/step\n",
      "1/1 [==============================] - 0s 13ms/step\n",
      "1/1 [==============================] - 0s 12ms/step\n",
      "1/1 [==============================] - 0s 12ms/step\n",
      "1/1 [==============================] - 0s 14ms/step\n",
      "1/1 [==============================] - 0s 13ms/step\n",
      "1/1 [==============================] - 0s 12ms/step\n",
      "1/1 [==============================] - 0s 14ms/step\n",
      "1/1 [==============================] - 0s 13ms/step\n",
      "1/1 [==============================] - 0s 14ms/step\n",
      "1/1 [==============================] - 0s 13ms/step\n",
      "1/1 [==============================] - 0s 12ms/step\n",
      "1/1 [==============================] - 0s 13ms/step\n",
      "1/1 [==============================] - 0s 13ms/step\n",
      "1/1 [==============================] - 0s 13ms/step\n",
      "1/1 [==============================] - 0s 12ms/step\n",
      "1/1 [==============================] - 0s 13ms/step\n",
      "1/1 [==============================] - 0s 13ms/step\n",
      "1/1 [==============================] - 0s 12ms/step\n",
      "1/1 [==============================] - 0s 13ms/step\n",
      "1/1 [==============================] - 0s 13ms/step\n",
      "1/1 [==============================] - 0s 13ms/step\n",
      "1/1 [==============================] - 0s 13ms/step\n",
      "1/1 [==============================] - 0s 12ms/step\n",
      "1/1 [==============================] - 0s 13ms/step\n",
      "1/1 [==============================] - 0s 13ms/step\n",
      "1/1 [==============================] - 0s 13ms/step\n",
      "1/1 [==============================] - 0s 12ms/step\n",
      "1/1 [==============================] - 0s 13ms/step\n",
      "1/1 [==============================] - 0s 13ms/step\n",
      "1/1 [==============================] - 0s 13ms/step\n",
      "1/1 [==============================] - 0s 13ms/step\n",
      "1/1 [==============================] - 0s 12ms/step\n",
      "1/1 [==============================] - 0s 13ms/step\n",
      "1/1 [==============================] - 0s 13ms/step\n",
      "1/1 [==============================] - 0s 12ms/step\n",
      "1/1 [==============================] - 0s 13ms/step\n",
      "1/1 [==============================] - 0s 14ms/step\n",
      "1/1 [==============================] - 0s 13ms/step\n",
      "1/1 [==============================] - 0s 14ms/step\n",
      "1/1 [==============================] - 0s 13ms/step\n",
      "1/1 [==============================] - 0s 13ms/step\n",
      "1/1 [==============================] - 0s 13ms/step\n",
      "1/1 [==============================] - 0s 13ms/step\n",
      "1/1 [==============================] - 0s 13ms/step\n",
      "1/1 [==============================] - 0s 13ms/step\n",
      "1/1 [==============================] - 0s 13ms/step\n",
      "1/1 [==============================] - 0s 13ms/step\n",
      "1/1 [==============================] - 0s 14ms/step\n",
      "1/1 [==============================] - 0s 13ms/step\n",
      "1/1 [==============================] - 0s 14ms/step\n",
      "1/1 [==============================] - 0s 13ms/step\n",
      "1/1 [==============================] - 0s 14ms/step\n"
     ]
    }
   ],
   "source": [
    "# Generate adversarial example using JSMA\n",
    "adversarial_example = jsma_attack(test_example, target_class, epsilon)"
   ]
  },
  {
   "cell_type": "code",
   "execution_count": 43,
   "id": "5d758e20",
   "metadata": {},
   "outputs": [
    {
     "name": "stdout",
     "output_type": "stream",
     "text": [
      "1/1 [==============================] - 0s 48ms/step\n",
      "1/1 [==============================] - 0s 13ms/step\n",
      "Original prediction: [[0.00026733]]\n",
      "Adversarial prediction: [[0.]]\n"
     ]
    }
   ],
   "source": [
    "# Evaluate the model on the adversarial example\n",
    "original_prediction = model.predict(test_example)\n",
    "adversarial_prediction = model.predict(adversarial_example)\n",
    "\n",
    "print(f'Original prediction: {original_prediction}')\n",
    "print(f'Adversarial prediction: {adversarial_prediction}')"
   ]
  },
  {
   "cell_type": "markdown",
   "id": "1e660cea",
   "metadata": {},
   "source": [
    "The result  appears to be related to  the Jacobian-based Saliency Map Attack (JSMA). Let's break down the output:\n",
    "\n",
    "\"Original prediction: [[0.00026733]]\": This is the prediction made by the target machine learning model for an input sample before the adversarial attack. In this case, the model predicted a low probability of approximately 0.00026733 for the class or label it assigns to the input. It suggests that the model initially predicted a specific class with this probability.\n",
    "\n",
    "\"Adversarial prediction: [[0.]]\": After the JSMA attack, the prediction of the model changed to 0, indicating that the model now predicts a probability of 0 for the previously assigned class. In other words, the adversarial example generated by JSMA has manipulated the input in such a way that the model now confidently predicts a different class or outcome than it did originally.\n",
    "\n",
    "In summary, the output suggests that the JSMA attack was successful in causing the model to change its prediction from a low probability to a probability of 0, which is a common goal of adversarial attacks: to fool the model into making incorrect predictions."
   ]
  }
 ],
 "metadata": {
  "kernelspec": {
   "display_name": "Python 3 (ipykernel)",
   "language": "python",
   "name": "python3"
  },
  "language_info": {
   "codemirror_mode": {
    "name": "ipython",
    "version": 3
   },
   "file_extension": ".py",
   "mimetype": "text/x-python",
   "name": "python",
   "nbconvert_exporter": "python",
   "pygments_lexer": "ipython3",
   "version": "3.10.12"
  }
 },
 "nbformat": 4,
 "nbformat_minor": 5
}
