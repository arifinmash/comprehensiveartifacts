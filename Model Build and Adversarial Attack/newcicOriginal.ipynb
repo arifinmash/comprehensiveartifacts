{
 "cells": [
  {
   "cell_type": "markdown",
   "id": "4f607ebc",
   "metadata": {},
   "source": [
    "### Package Loading "
   ]
  },
  {
   "cell_type": "code",
   "execution_count": 1,
   "id": "0d70729b",
   "metadata": {},
   "outputs": [
    {
     "name": "stderr",
     "output_type": "stream",
     "text": [
      "2023-10-25 04:59:28.152397: I tensorflow/core/util/port.cc:110] oneDNN custom operations are on. You may see slightly different numerical results due to floating-point round-off errors from different computation orders. To turn them off, set the environment variable `TF_ENABLE_ONEDNN_OPTS=0`.\n",
      "2023-10-25 04:59:28.153915: I tensorflow/tsl/cuda/cudart_stub.cc:28] Could not find cuda drivers on your machine, GPU will not be used.\n",
      "2023-10-25 04:59:28.185704: I tensorflow/tsl/cuda/cudart_stub.cc:28] Could not find cuda drivers on your machine, GPU will not be used.\n",
      "2023-10-25 04:59:28.186647: I tensorflow/core/platform/cpu_feature_guard.cc:182] This TensorFlow binary is optimized to use available CPU instructions in performance-critical operations.\n",
      "To enable the following instructions: AVX2 AVX512F AVX512_VNNI FMA, in other operations, rebuild TensorFlow with the appropriate compiler flags.\n",
      "2023-10-25 04:59:28.809000: W tensorflow/compiler/tf2tensorrt/utils/py_utils.cc:38] TF-TRT Warning: Could not find TensorRT\n"
     ]
    }
   ],
   "source": [
    "%run artifactpackage.ipynb\n",
    "%run Confusionmatrix.ipynb\n",
    "%run masrur_ploting_utils.ipynb"
   ]
  },
  {
   "cell_type": "markdown",
   "id": "bfb7ce53",
   "metadata": {},
   "source": [
    "### Data Loading & Train - Test Split"
   ]
  },
  {
   "cell_type": "code",
   "execution_count": 2,
   "id": "c683e1ee",
   "metadata": {},
   "outputs": [],
   "source": [
    "df = pd.read_csv('/home/masharifin/Documents/ComprehensiveExam/Datasets/ObfuscatedMalMem2022.csv')\n",
    "df['Class'] = df['Class'].replace({'Benign': 0, 'Malware': 1})\n",
    "features = df.drop('Class', axis=1).values\n",
    "Class = df['Class'].values\n",
    "x=df.drop(columns='Class')\n",
    "y=df['Class']\n",
    "scaler = MinMaxScaler()\n",
    "scaled_features = scaler.fit_transform(features)\n",
    "train_size = 0.7 # 70% for training, 30% for testing\n",
    "X_train, X_test, y_train, y_test = train_test_split(x, y, train_size=train_size, random_state=42)"
   ]
  },
  {
   "cell_type": "code",
   "execution_count": 3,
   "id": "0e5e736e",
   "metadata": {},
   "outputs": [
    {
     "data": {
      "text/html": [
       "<div>\n",
       "<style scoped>\n",
       "    .dataframe tbody tr th:only-of-type {\n",
       "        vertical-align: middle;\n",
       "    }\n",
       "\n",
       "    .dataframe tbody tr th {\n",
       "        vertical-align: top;\n",
       "    }\n",
       "\n",
       "    .dataframe thead th {\n",
       "        text-align: right;\n",
       "    }\n",
       "</style>\n",
       "<table border=\"1\" class=\"dataframe\">\n",
       "  <thead>\n",
       "    <tr style=\"text-align: right;\">\n",
       "      <th></th>\n",
       "      <th>pslist.nproc</th>\n",
       "      <th>pslist.nppid</th>\n",
       "      <th>pslist.avg_threads</th>\n",
       "      <th>pslist.nprocs64bit</th>\n",
       "      <th>pslist.avg_handlers</th>\n",
       "      <th>dlllist.ndlls</th>\n",
       "      <th>dlllist.avg_dlls_per_proc</th>\n",
       "      <th>handles.nhandles</th>\n",
       "      <th>handles.avg_handles_per_proc</th>\n",
       "      <th>handles.nport</th>\n",
       "      <th>...</th>\n",
       "      <th>svcscan.kernel_drivers</th>\n",
       "      <th>svcscan.fs_drivers</th>\n",
       "      <th>svcscan.process_services</th>\n",
       "      <th>svcscan.shared_process_services</th>\n",
       "      <th>svcscan.interactive_process_services</th>\n",
       "      <th>svcscan.nactive</th>\n",
       "      <th>callbacks.ncallbacks</th>\n",
       "      <th>callbacks.nanonymous</th>\n",
       "      <th>callbacks.ngeneric</th>\n",
       "      <th>Class</th>\n",
       "    </tr>\n",
       "  </thead>\n",
       "  <tbody>\n",
       "    <tr>\n",
       "      <th>0</th>\n",
       "      <td>45</td>\n",
       "      <td>17</td>\n",
       "      <td>10.555556</td>\n",
       "      <td>0</td>\n",
       "      <td>202.844444</td>\n",
       "      <td>1694</td>\n",
       "      <td>38.500000</td>\n",
       "      <td>9129</td>\n",
       "      <td>212.302326</td>\n",
       "      <td>0</td>\n",
       "      <td>...</td>\n",
       "      <td>221</td>\n",
       "      <td>26</td>\n",
       "      <td>24</td>\n",
       "      <td>116</td>\n",
       "      <td>0</td>\n",
       "      <td>121</td>\n",
       "      <td>87</td>\n",
       "      <td>0</td>\n",
       "      <td>8</td>\n",
       "      <td>0</td>\n",
       "    </tr>\n",
       "    <tr>\n",
       "      <th>1</th>\n",
       "      <td>47</td>\n",
       "      <td>19</td>\n",
       "      <td>11.531915</td>\n",
       "      <td>0</td>\n",
       "      <td>242.234043</td>\n",
       "      <td>2074</td>\n",
       "      <td>44.127660</td>\n",
       "      <td>11385</td>\n",
       "      <td>242.234043</td>\n",
       "      <td>0</td>\n",
       "      <td>...</td>\n",
       "      <td>222</td>\n",
       "      <td>26</td>\n",
       "      <td>24</td>\n",
       "      <td>118</td>\n",
       "      <td>0</td>\n",
       "      <td>122</td>\n",
       "      <td>87</td>\n",
       "      <td>0</td>\n",
       "      <td>8</td>\n",
       "      <td>0</td>\n",
       "    </tr>\n",
       "    <tr>\n",
       "      <th>2</th>\n",
       "      <td>40</td>\n",
       "      <td>14</td>\n",
       "      <td>14.725000</td>\n",
       "      <td>0</td>\n",
       "      <td>288.225000</td>\n",
       "      <td>1932</td>\n",
       "      <td>48.300000</td>\n",
       "      <td>11529</td>\n",
       "      <td>288.225000</td>\n",
       "      <td>0</td>\n",
       "      <td>...</td>\n",
       "      <td>222</td>\n",
       "      <td>26</td>\n",
       "      <td>27</td>\n",
       "      <td>118</td>\n",
       "      <td>0</td>\n",
       "      <td>120</td>\n",
       "      <td>88</td>\n",
       "      <td>0</td>\n",
       "      <td>8</td>\n",
       "      <td>0</td>\n",
       "    </tr>\n",
       "    <tr>\n",
       "      <th>3</th>\n",
       "      <td>32</td>\n",
       "      <td>13</td>\n",
       "      <td>13.500000</td>\n",
       "      <td>0</td>\n",
       "      <td>264.281250</td>\n",
       "      <td>1445</td>\n",
       "      <td>45.156250</td>\n",
       "      <td>8457</td>\n",
       "      <td>264.281250</td>\n",
       "      <td>0</td>\n",
       "      <td>...</td>\n",
       "      <td>222</td>\n",
       "      <td>26</td>\n",
       "      <td>27</td>\n",
       "      <td>118</td>\n",
       "      <td>0</td>\n",
       "      <td>120</td>\n",
       "      <td>88</td>\n",
       "      <td>0</td>\n",
       "      <td>8</td>\n",
       "      <td>0</td>\n",
       "    </tr>\n",
       "    <tr>\n",
       "      <th>4</th>\n",
       "      <td>42</td>\n",
       "      <td>16</td>\n",
       "      <td>11.452381</td>\n",
       "      <td>0</td>\n",
       "      <td>281.333333</td>\n",
       "      <td>2067</td>\n",
       "      <td>49.214286</td>\n",
       "      <td>11816</td>\n",
       "      <td>281.333333</td>\n",
       "      <td>0</td>\n",
       "      <td>...</td>\n",
       "      <td>222</td>\n",
       "      <td>26</td>\n",
       "      <td>24</td>\n",
       "      <td>118</td>\n",
       "      <td>0</td>\n",
       "      <td>124</td>\n",
       "      <td>87</td>\n",
       "      <td>0</td>\n",
       "      <td>8</td>\n",
       "      <td>0</td>\n",
       "    </tr>\n",
       "    <tr>\n",
       "      <th>...</th>\n",
       "      <td>...</td>\n",
       "      <td>...</td>\n",
       "      <td>...</td>\n",
       "      <td>...</td>\n",
       "      <td>...</td>\n",
       "      <td>...</td>\n",
       "      <td>...</td>\n",
       "      <td>...</td>\n",
       "      <td>...</td>\n",
       "      <td>...</td>\n",
       "      <td>...</td>\n",
       "      <td>...</td>\n",
       "      <td>...</td>\n",
       "      <td>...</td>\n",
       "      <td>...</td>\n",
       "      <td>...</td>\n",
       "      <td>...</td>\n",
       "      <td>...</td>\n",
       "      <td>...</td>\n",
       "      <td>...</td>\n",
       "      <td>...</td>\n",
       "    </tr>\n",
       "    <tr>\n",
       "      <th>58591</th>\n",
       "      <td>37</td>\n",
       "      <td>15</td>\n",
       "      <td>10.108108</td>\n",
       "      <td>0</td>\n",
       "      <td>215.486487</td>\n",
       "      <td>1453</td>\n",
       "      <td>39.270270</td>\n",
       "      <td>7973</td>\n",
       "      <td>215.486487</td>\n",
       "      <td>0</td>\n",
       "      <td>...</td>\n",
       "      <td>221</td>\n",
       "      <td>26</td>\n",
       "      <td>24</td>\n",
       "      <td>116</td>\n",
       "      <td>0</td>\n",
       "      <td>120</td>\n",
       "      <td>86</td>\n",
       "      <td>0</td>\n",
       "      <td>8</td>\n",
       "      <td>1</td>\n",
       "    </tr>\n",
       "    <tr>\n",
       "      <th>58592</th>\n",
       "      <td>37</td>\n",
       "      <td>14</td>\n",
       "      <td>9.945946</td>\n",
       "      <td>0</td>\n",
       "      <td>190.216216</td>\n",
       "      <td>1347</td>\n",
       "      <td>36.405405</td>\n",
       "      <td>7038</td>\n",
       "      <td>190.216216</td>\n",
       "      <td>0</td>\n",
       "      <td>...</td>\n",
       "      <td>221</td>\n",
       "      <td>26</td>\n",
       "      <td>24</td>\n",
       "      <td>116</td>\n",
       "      <td>0</td>\n",
       "      <td>116</td>\n",
       "      <td>88</td>\n",
       "      <td>0</td>\n",
       "      <td>8</td>\n",
       "      <td>1</td>\n",
       "    </tr>\n",
       "    <tr>\n",
       "      <th>58593</th>\n",
       "      <td>38</td>\n",
       "      <td>15</td>\n",
       "      <td>9.842105</td>\n",
       "      <td>0</td>\n",
       "      <td>210.026316</td>\n",
       "      <td>1448</td>\n",
       "      <td>38.105263</td>\n",
       "      <td>7982</td>\n",
       "      <td>215.729730</td>\n",
       "      <td>0</td>\n",
       "      <td>...</td>\n",
       "      <td>221</td>\n",
       "      <td>26</td>\n",
       "      <td>24</td>\n",
       "      <td>116</td>\n",
       "      <td>0</td>\n",
       "      <td>120</td>\n",
       "      <td>88</td>\n",
       "      <td>0</td>\n",
       "      <td>8</td>\n",
       "      <td>1</td>\n",
       "    </tr>\n",
       "    <tr>\n",
       "      <th>58594</th>\n",
       "      <td>37</td>\n",
       "      <td>15</td>\n",
       "      <td>10.243243</td>\n",
       "      <td>0</td>\n",
       "      <td>215.513513</td>\n",
       "      <td>1452</td>\n",
       "      <td>39.243243</td>\n",
       "      <td>7974</td>\n",
       "      <td>215.513513</td>\n",
       "      <td>0</td>\n",
       "      <td>...</td>\n",
       "      <td>221</td>\n",
       "      <td>26</td>\n",
       "      <td>24</td>\n",
       "      <td>116</td>\n",
       "      <td>0</td>\n",
       "      <td>120</td>\n",
       "      <td>87</td>\n",
       "      <td>0</td>\n",
       "      <td>8</td>\n",
       "      <td>1</td>\n",
       "    </tr>\n",
       "    <tr>\n",
       "      <th>58595</th>\n",
       "      <td>38</td>\n",
       "      <td>15</td>\n",
       "      <td>9.868421</td>\n",
       "      <td>0</td>\n",
       "      <td>213.026316</td>\n",
       "      <td>1487</td>\n",
       "      <td>39.131579</td>\n",
       "      <td>8095</td>\n",
       "      <td>213.026316</td>\n",
       "      <td>0</td>\n",
       "      <td>...</td>\n",
       "      <td>221</td>\n",
       "      <td>26</td>\n",
       "      <td>24</td>\n",
       "      <td>116</td>\n",
       "      <td>0</td>\n",
       "      <td>120</td>\n",
       "      <td>86</td>\n",
       "      <td>0</td>\n",
       "      <td>8</td>\n",
       "      <td>1</td>\n",
       "    </tr>\n",
       "  </tbody>\n",
       "</table>\n",
       "<p>58596 rows × 56 columns</p>\n",
       "</div>"
      ],
      "text/plain": [
       "       pslist.nproc  pslist.nppid  pslist.avg_threads  pslist.nprocs64bit  \\\n",
       "0                45            17           10.555556                   0   \n",
       "1                47            19           11.531915                   0   \n",
       "2                40            14           14.725000                   0   \n",
       "3                32            13           13.500000                   0   \n",
       "4                42            16           11.452381                   0   \n",
       "...             ...           ...                 ...                 ...   \n",
       "58591            37            15           10.108108                   0   \n",
       "58592            37            14            9.945946                   0   \n",
       "58593            38            15            9.842105                   0   \n",
       "58594            37            15           10.243243                   0   \n",
       "58595            38            15            9.868421                   0   \n",
       "\n",
       "       pslist.avg_handlers  dlllist.ndlls  dlllist.avg_dlls_per_proc  \\\n",
       "0               202.844444           1694                  38.500000   \n",
       "1               242.234043           2074                  44.127660   \n",
       "2               288.225000           1932                  48.300000   \n",
       "3               264.281250           1445                  45.156250   \n",
       "4               281.333333           2067                  49.214286   \n",
       "...                    ...            ...                        ...   \n",
       "58591           215.486487           1453                  39.270270   \n",
       "58592           190.216216           1347                  36.405405   \n",
       "58593           210.026316           1448                  38.105263   \n",
       "58594           215.513513           1452                  39.243243   \n",
       "58595           213.026316           1487                  39.131579   \n",
       "\n",
       "       handles.nhandles  handles.avg_handles_per_proc  handles.nport  ...  \\\n",
       "0                  9129                    212.302326              0  ...   \n",
       "1                 11385                    242.234043              0  ...   \n",
       "2                 11529                    288.225000              0  ...   \n",
       "3                  8457                    264.281250              0  ...   \n",
       "4                 11816                    281.333333              0  ...   \n",
       "...                 ...                           ...            ...  ...   \n",
       "58591              7973                    215.486487              0  ...   \n",
       "58592              7038                    190.216216              0  ...   \n",
       "58593              7982                    215.729730              0  ...   \n",
       "58594              7974                    215.513513              0  ...   \n",
       "58595              8095                    213.026316              0  ...   \n",
       "\n",
       "       svcscan.kernel_drivers  svcscan.fs_drivers  svcscan.process_services  \\\n",
       "0                         221                  26                        24   \n",
       "1                         222                  26                        24   \n",
       "2                         222                  26                        27   \n",
       "3                         222                  26                        27   \n",
       "4                         222                  26                        24   \n",
       "...                       ...                 ...                       ...   \n",
       "58591                     221                  26                        24   \n",
       "58592                     221                  26                        24   \n",
       "58593                     221                  26                        24   \n",
       "58594                     221                  26                        24   \n",
       "58595                     221                  26                        24   \n",
       "\n",
       "       svcscan.shared_process_services  svcscan.interactive_process_services  \\\n",
       "0                                  116                                     0   \n",
       "1                                  118                                     0   \n",
       "2                                  118                                     0   \n",
       "3                                  118                                     0   \n",
       "4                                  118                                     0   \n",
       "...                                ...                                   ...   \n",
       "58591                              116                                     0   \n",
       "58592                              116                                     0   \n",
       "58593                              116                                     0   \n",
       "58594                              116                                     0   \n",
       "58595                              116                                     0   \n",
       "\n",
       "       svcscan.nactive  callbacks.ncallbacks  callbacks.nanonymous  \\\n",
       "0                  121                    87                     0   \n",
       "1                  122                    87                     0   \n",
       "2                  120                    88                     0   \n",
       "3                  120                    88                     0   \n",
       "4                  124                    87                     0   \n",
       "...                ...                   ...                   ...   \n",
       "58591              120                    86                     0   \n",
       "58592              116                    88                     0   \n",
       "58593              120                    88                     0   \n",
       "58594              120                    87                     0   \n",
       "58595              120                    86                     0   \n",
       "\n",
       "       callbacks.ngeneric  Class  \n",
       "0                       8      0  \n",
       "1                       8      0  \n",
       "2                       8      0  \n",
       "3                       8      0  \n",
       "4                       8      0  \n",
       "...                   ...    ...  \n",
       "58591                   8      1  \n",
       "58592                   8      1  \n",
       "58593                   8      1  \n",
       "58594                   8      1  \n",
       "58595                   8      1  \n",
       "\n",
       "[58596 rows x 56 columns]"
      ]
     },
     "execution_count": 3,
     "metadata": {},
     "output_type": "execute_result"
    }
   ],
   "source": [
    "df"
   ]
  },
  {
   "cell_type": "markdown",
   "id": "87c06773",
   "metadata": {},
   "source": [
    "## Machine Learning Model Build"
   ]
  },
  {
   "cell_type": "markdown",
   "id": "e64c5062",
   "metadata": {},
   "source": [
    "### Origin_Model_1: Decision Tree"
   ]
  },
  {
   "cell_type": "code",
   "execution_count": 4,
   "id": "fde35b56",
   "metadata": {},
   "outputs": [
    {
     "name": "stdout",
     "output_type": "stream",
     "text": [
      "Training Accuracy: 1.0\n",
      "Test Accuracy: 0.9999431139427726\n"
     ]
    }
   ],
   "source": [
    "Dt_classifier= DecisionTreeClassifier(random_state=29)\n",
    "Dt_classifier.fit(X_train, y_train)\n",
    "\n",
    "# Predict on training and test sets\n",
    "y_pred_train_dt = Dt_classifier.predict(X_train)\n",
    "y_pred_test_dt = Dt_classifier.predict(X_test)\n",
    "\n",
    "# Calculate accuracy on training and test sets\n",
    "accuracy_train_dt = accuracy_score(y_train, y_pred_train_dt)\n",
    "accuracy_test_dt = accuracy_score(y_test, y_pred_test_dt)\n",
    "\n",
    "print(f\"Training Accuracy: {accuracy_train_dt}\")\n",
    "print(f\"Test Accuracy: {accuracy_test_dt}\")"
   ]
  },
  {
   "cell_type": "code",
   "execution_count": 5,
   "id": "f90cba0e",
   "metadata": {},
   "outputs": [],
   "source": [
    "filename_dt= 'Binary_security_dt_og.sav'\n",
    "pickle.dump(Dt_classifier, open(filename_dt, 'wb'))\n",
    "load_model_dt=pickle.load(open('Binary_security_dt_og.sav','rb'))\n",
    "load_pred_dt=load_model_dt.predict(X_test)"
   ]
  },
  {
   "cell_type": "code",
   "execution_count": 6,
   "id": "b286c434",
   "metadata": {},
   "outputs": [
    {
     "data": {
      "image/png": "[encoded data removed]",
      "text/plain": [
       "<Figure size 720x720 with 1 Axes>"
      ]
     },
     "metadata": {
      "needs_background": "light"
     },
     "output_type": "display_data"
    }
   ],
   "source": [
    "plot_cm(y_test, load_pred_dt)\n",
    "plt.savefig('cm.eps',dpi=600)"
   ]
  },
  {
   "cell_type": "code",
   "execution_count": 7,
   "id": "b279322a",
   "metadata": {},
   "outputs": [
    {
     "name": "stdout",
     "output_type": "stream",
     "text": [
      "                                   Feature  Importance\n",
      "45                       svcscan.nservices    0.987346\n",
      "48                svcscan.process_services    0.006502\n",
      "8             handles.avg_handles_per_proc    0.002993\n",
      "52                    callbacks.ncallbacks    0.001006\n",
      "7                         handles.nhandles    0.000877\n",
      "26                     malfind.ninjections    0.000584\n",
      "30                   psxview.not_in_pslist    0.000205\n",
      "11                          handles.nevent    0.000204\n",
      "19                         handles.nmutant    0.000097\n",
      "12                        handles.ndesktop    0.000097\n",
      "34            psxview.not_in_csrss_handles    0.000090\n",
      "33              psxview.not_in_pspcid_list    0.000000\n",
      "35                  psxview.not_in_session    0.000000\n",
      "36                 psxview.not_in_deskthrd    0.000000\n",
      "32             psxview.not_in_ethread_pool    0.000000\n",
      "37         psxview.not_in_pslist_false_avg    0.000000\n",
      "38  psxview.not_in_eprocess_pool_false_avg    0.000000\n",
      "39   psxview.not_in_ethread_pool_false_avg    0.000000\n",
      "40    psxview.not_in_pspcid_list_false_avg    0.000000\n",
      "0                             pslist.nproc    0.000000\n",
      "41  psxview.not_in_csrss_handles_false_avg    0.000000\n",
      "42        psxview.not_in_session_false_avg    0.000000\n",
      "43       psxview.not_in_deskthrd_false_avg    0.000000\n",
      "31            psxview.not_in_eprocess_pool    0.000000\n",
      "46                  svcscan.kernel_drivers    0.000000\n",
      "47                      svcscan.fs_drivers    0.000000\n",
      "49         svcscan.shared_process_services    0.000000\n",
      "50    svcscan.interactive_process_services    0.000000\n",
      "51                         svcscan.nactive    0.000000\n",
      "53                    callbacks.nanonymous    0.000000\n",
      "44                        modules.nmodules    0.000000\n",
      "27                    malfind.commitCharge    0.000000\n",
      "29                malfind.uniqueInjections    0.000000\n",
      "15                      handles.ndirectory    0.000000\n",
      "2                       pslist.avg_threads    0.000000\n",
      "3                       pslist.nprocs64bit    0.000000\n",
      "4                      pslist.avg_handlers    0.000000\n",
      "5                            dlllist.ndlls    0.000000\n",
      "6                dlllist.avg_dlls_per_proc    0.000000\n",
      "9                            handles.nport    0.000000\n",
      "10                           handles.nfile    0.000000\n",
      "13                            handles.nkey    0.000000\n",
      "14                         handles.nthread    0.000000\n",
      "16                      handles.nsemaphore    0.000000\n",
      "28                      malfind.protection    0.000000\n",
      "17                          handles.ntimer    0.000000\n",
      "18                        handles.nsection    0.000000\n",
      "20                  ldrmodules.not_in_load    0.000000\n",
      "21                  ldrmodules.not_in_init    0.000000\n",
      "22                   ldrmodules.not_in_mem    0.000000\n",
      "23              ldrmodules.not_in_load_avg    0.000000\n",
      "24              ldrmodules.not_in_init_avg    0.000000\n",
      "25               ldrmodules.not_in_mem_avg    0.000000\n",
      "1                             pslist.nppid    0.000000\n",
      "54                      callbacks.ngeneric    0.000000\n"
     ]
    },
    {
     "data": {
      "image/png": "[encoded data removed]",
      "text/plain": [
       "<Figure size 720x432 with 1 Axes>"
      ]
     },
     "metadata": {
      "needs_background": "light"
     },
     "output_type": "display_data"
    }
   ],
   "source": [
    "# Get the feature importance scores from the trained Decision Tree model\n",
    "feature_importance = Dt_classifier.feature_importances_\n",
    "\n",
    "# Create a DataFrame to store the feature names and their importance scores\n",
    "feature_importance_df = pd.DataFrame({'Feature': X_test.columns, 'Importance': feature_importance})\n",
    "\n",
    "# Sort the DataFrame by importance in descending order\n",
    "feature_importance_df = feature_importance_df.sort_values(by='Importance', ascending=False)\n",
    "\n",
    "# Print the ranked list of features with their importance scores\n",
    "print(feature_importance_df)\n",
    "\n",
    "# Plot the feature importances\n",
    "plt.figure(figsize=(10, 6))\n",
    "plt.bar(feature_importance_df['Feature'], feature_importance_df['Importance'])\n",
    "plt.xticks(rotation=90)\n",
    "plt.xlabel('Feature')\n",
    "plt.ylabel('Importance')\n",
    "plt.title('Feature Importances - Decision Tree')\n",
    "plt.tight_layout()\n",
    "plt.show()"
   ]
  },
  {
   "cell_type": "code",
   "execution_count": 8,
   "id": "6ee9087e",
   "metadata": {},
   "outputs": [
    {
     "name": "stdout",
     "output_type": "stream",
     "text": [
      "Cross-Validation Scores: [0.99971559 0.99886234 0.99943117 1.         1.        ]\n",
      "Mean Score: 0.9996018202502844\n",
      "Standard Deviation: 0.0004256720576534804\n"
     ]
    }
   ],
   "source": [
    "# Initialize the model\n",
    "Dt_classifier = DecisionTreeClassifier(random_state=29)\n",
    "\n",
    "# Define the number of folds for cross-validation\n",
    "num_folds = 5\n",
    "\n",
    "# Perform cross-validation\n",
    "cross_val_scores = cross_val_score(Dt_classifier, X_test, y_test, cv=num_folds)\n",
    "\n",
    "# Print the cross-validation scores\n",
    "print(\"Cross-Validation Scores:\", cross_val_scores)\n",
    "\n",
    "# Calculate the mean and standard deviation of the cross-validation scores\n",
    "mean_score = cross_val_scores.mean()\n",
    "std_score = cross_val_scores.std()\n",
    "\n",
    "# Print the mean and standard deviation\n",
    "print(\"Mean Score:\", mean_score)\n",
    "print(\"Standard Deviation:\", std_score)"
   ]
  },
  {
   "cell_type": "markdown",
   "id": "8edb6ecb",
   "metadata": {},
   "source": [
    "### Origin_Model_2: Random forest"
   ]
  },
  {
   "cell_type": "code",
   "execution_count": 9,
   "id": "9baf50f3",
   "metadata": {},
   "outputs": [
    {
     "name": "stdout",
     "output_type": "stream",
     "text": [
      "Training Accuracy: 1.0\n",
      "Test Accuracy: 0.9999431139427726\n"
     ]
    }
   ],
   "source": [
    "rf_classifier=RandomForestClassifier(n_estimators=100)\n",
    "rf_classifier.fit(X_train, y_train)\n",
    "y_pred_rf=rf_classifier.predict(X_test)\n",
    "# Predict on training and test sets\n",
    "y_pred_train_rf = rf_classifier.predict(X_train)\n",
    "y_pred_test_rf = rf_classifier.predict(X_test)\n",
    "\n",
    "# Calculate accuracy on training and test sets\n",
    "accuracy_train_rf = accuracy_score(y_train, y_pred_train_rf)\n",
    "accuracy_test_rf = accuracy_score(y_test, y_pred_test_rf)\n",
    "\n",
    "print(f\"Training Accuracy: {accuracy_train_rf}\")\n",
    "print(f\"Test Accuracy: {accuracy_test_rf}\")"
   ]
  },
  {
   "cell_type": "code",
   "execution_count": 11,
   "id": "63d2818a",
   "metadata": {},
   "outputs": [],
   "source": [
    "filename_rf= 'Binary_security_rf_og.sav'\n",
    "pickle.dump(rf_classifier, open(filename_rf, 'wb'))\n",
    "load_model_dt=pickle.load(open('Binary_security_rf_og.sav','rb'))\n",
    "load_pred_rf=load_model_dt.predict(X_test)"
   ]
  },
  {
   "cell_type": "code",
   "execution_count": 12,
   "id": "5ee727d2",
   "metadata": {},
   "outputs": [
    {
     "data": {
      "image/png": "[encoded data removed]",
      "text/plain": [
       "<Figure size 720x720 with 1 Axes>"
      ]
     },
     "metadata": {
      "needs_background": "light"
     },
     "output_type": "display_data"
    }
   ],
   "source": [
    "plot_cm(y_test, load_pred_rf)\n",
    "plt.savefig('cm.eps',dpi=600)"
   ]
  },
  {
   "cell_type": "code",
   "execution_count": 13,
   "id": "4b3afd83",
   "metadata": {},
   "outputs": [
    {
     "name": "stdout",
     "output_type": "stream",
     "text": [
      "                                   Feature    Importance\n",
      "45                       svcscan.nservices  1.518828e-01\n",
      "6                dlllist.avg_dlls_per_proc  1.157632e-01\n",
      "46                  svcscan.kernel_drivers  8.783107e-02\n",
      "49         svcscan.shared_process_services  8.428551e-02\n",
      "19                         handles.nmutant  7.894074e-02\n",
      "8             handles.avg_handles_per_proc  7.838235e-02\n",
      "18                        handles.nsection  7.709739e-02\n",
      "4                      pslist.avg_handlers  6.067243e-02\n",
      "13                            handles.nkey  4.708024e-02\n",
      "5                            dlllist.ndlls  2.872453e-02\n",
      "16                      handles.nsemaphore  2.792461e-02\n",
      "22                   ldrmodules.not_in_mem  2.561673e-02\n",
      "17                          handles.ntimer  2.511381e-02\n",
      "11                          handles.nevent  2.178992e-02\n",
      "21                  ldrmodules.not_in_init  1.945438e-02\n",
      "14                         handles.nthread  1.901063e-02\n",
      "7                         handles.nhandles  9.911854e-03\n",
      "20                  ldrmodules.not_in_load  8.746992e-03\n",
      "25               ldrmodules.not_in_mem_avg  7.578998e-03\n",
      "48                svcscan.process_services  6.912662e-03\n",
      "27                    malfind.commitCharge  5.637191e-03\n",
      "24              ldrmodules.not_in_init_avg  1.917318e-03\n",
      "0                             pslist.nproc  1.620985e-03\n",
      "36                 psxview.not_in_deskthrd  9.352728e-04\n",
      "2                       pslist.avg_threads  9.100151e-04\n",
      "15                      handles.ndirectory  7.501819e-04\n",
      "51                         svcscan.nactive  7.410035e-04\n",
      "1                             pslist.nppid  7.129262e-04\n",
      "52                    callbacks.ncallbacks  6.221628e-04\n",
      "23              ldrmodules.not_in_load_avg  6.202516e-04\n",
      "10                           handles.nfile  4.673372e-04\n",
      "32             psxview.not_in_ethread_pool  4.615674e-04\n",
      "43       psxview.not_in_deskthrd_false_avg  3.686354e-04\n",
      "28                      malfind.protection  2.784610e-04\n",
      "26                     malfind.ninjections  2.359556e-04\n",
      "12                        handles.ndesktop  2.094618e-04\n",
      "41  psxview.not_in_csrss_handles_false_avg  2.093622e-04\n",
      "29                malfind.uniqueInjections  1.338964e-04\n",
      "37         psxview.not_in_pslist_false_avg  9.303156e-05\n",
      "39   psxview.not_in_ethread_pool_false_avg  9.267715e-05\n",
      "42        psxview.not_in_session_false_avg  6.937895e-05\n",
      "34            psxview.not_in_csrss_handles  4.616060e-05\n",
      "30                   psxview.not_in_pslist  4.154939e-05\n",
      "40    psxview.not_in_pspcid_list_false_avg  3.935978e-05\n",
      "33              psxview.not_in_pspcid_list  2.527131e-05\n",
      "44                        modules.nmodules  2.189525e-05\n",
      "35                  psxview.not_in_session  1.702173e-05\n",
      "53                    callbacks.nanonymous  8.459499e-07\n",
      "38  psxview.not_in_eprocess_pool_false_avg  0.000000e+00\n",
      "9                            handles.nport  0.000000e+00\n",
      "47                      svcscan.fs_drivers  0.000000e+00\n",
      "3                       pslist.nprocs64bit  0.000000e+00\n",
      "50    svcscan.interactive_process_services  0.000000e+00\n",
      "31            psxview.not_in_eprocess_pool  0.000000e+00\n",
      "54                      callbacks.ngeneric  0.000000e+00\n"
     ]
    },
    {
     "data": {
      "image/png": "[encoded data removed]",
      "text/plain": [
       "<Figure size 720x432 with 1 Axes>"
      ]
     },
     "metadata": {
      "needs_background": "light"
     },
     "output_type": "display_data"
    }
   ],
   "source": [
    "# Get the feature importance scores from the trained Random Forest model\n",
    "feature_importance = rf_classifier.feature_importances_\n",
    "\n",
    "# Create a DataFrame to store the feature names and their importance scores\n",
    "feature_importance_df = pd.DataFrame({'Feature': X_test.columns, 'Importance': feature_importance})\n",
    "\n",
    "# Sort the DataFrame by importance in descending order\n",
    "feature_importance_df = feature_importance_df.sort_values(by='Importance', ascending=False)\n",
    "\n",
    "# Print the ranked list of features with their importance scores\n",
    "print(feature_importance_df)\n",
    "\n",
    "# Plot the feature importances\n",
    "plt.figure(figsize=(10, 6))\n",
    "plt.bar(feature_importance_df['Feature'], feature_importance_df['Importance'])\n",
    "plt.xticks(rotation=90)\n",
    "plt.xlabel('Feature')\n",
    "plt.ylabel('Importance')\n",
    "plt.title('Feature Importances - Random Forest')\n",
    "plt.tight_layout()\n",
    "plt.show()"
   ]
  },
  {
   "cell_type": "code",
   "execution_count": 14,
   "id": "488cf58e",
   "metadata": {},
   "outputs": [
    {
     "name": "stdout",
     "output_type": "stream",
     "text": [
      "Cross-Validation Scores: [0.99943117 0.99914676 0.99943117 0.99971559 0.99943101]\n",
      "Mean Score: 0.9994311394203617\n",
      "Standard Deviation: 0.00017987928696959517\n"
     ]
    }
   ],
   "source": [
    "# Define the number of folds for cross-validation\n",
    "num_folds = 5\n",
    "\n",
    "# Perform cross-validation\n",
    "cross_val_scores = cross_val_score(rf_classifier, X_test, y_test, cv=num_folds)\n",
    "\n",
    "# Print the cross-validation scores\n",
    "print(\"Cross-Validation Scores:\", cross_val_scores)\n",
    "\n",
    "# Calculate the mean and standard deviation of the cross-validation scores\n",
    "mean_score = cross_val_scores.mean()\n",
    "std_score = cross_val_scores.std()\n",
    "\n",
    "# Print the mean and standard deviation\n",
    "print(\"Mean Score:\", mean_score)\n",
    "print(\"Standard Deviation:\", std_score)"
   ]
  },
  {
   "cell_type": "markdown",
   "id": "174cfa0a",
   "metadata": {},
   "source": [
    "### Origin_Model_3: LGBM"
   ]
  },
  {
   "cell_type": "code",
   "execution_count": 15,
   "id": "05777759",
   "metadata": {},
   "outputs": [
    {
     "name": "stdout",
     "output_type": "stream",
     "text": [
      "[1 0 1 ... 1 1 1]\n"
     ]
    },
    {
     "data": {
      "text/plain": [
       "0.9998862255295815"
      ]
     },
     "execution_count": 15,
     "metadata": {},
     "output_type": "execute_result"
    }
   ],
   "source": [
    "lgb_nor=lgb.LGBMClassifier(n_jobs= -1)\n",
    "lgb_nor.fit(X_train,y_train)\n",
    "y_pred_lgbm =lgb_nor.predict(X_test)\n",
    "print(y_pred_lgbm)\n",
    "cohen_kappa_score(y_test,y_pred_lgbm)"
   ]
  },
  {
   "cell_type": "code",
   "execution_count": 16,
   "id": "4972334d",
   "metadata": {},
   "outputs": [
    {
     "name": "stdout",
     "output_type": "stream",
     "text": [
      "Training Accuracy: 1.0\n",
      "Test Accuracy: 0.9999431139427726\n"
     ]
    }
   ],
   "source": [
    "# Predict on training and test sets\n",
    "y_pred_train_lgb = lgb_nor.predict(X_train)\n",
    "y_pred_test_lgb = lgb_nor.predict(X_test)\n",
    "\n",
    "# Calculate accuracy on training and test sets\n",
    "accuracy_train_lgb = accuracy_score(y_train, y_pred_train_lgb)\n",
    "accuracy_test_lgb = accuracy_score(y_test, y_pred_test_lgb)\n",
    "\n",
    "print(f\"Training Accuracy: {accuracy_train_lgb}\")\n",
    "print(f\"Test Accuracy: {accuracy_test_lgb}\")"
   ]
  },
  {
   "cell_type": "code",
   "execution_count": 17,
   "id": "ca6fa254",
   "metadata": {},
   "outputs": [
    {
     "name": "stdout",
     "output_type": "stream",
     "text": [
      "               precision    recall  f1-score   support\n",
      "\n",
      "           0       1.00      1.00      1.00      8750\n",
      "           1       1.00      1.00      1.00      8829\n",
      "\n",
      "    accuracy                           1.00     17579\n",
      "   macro avg       1.00      1.00      1.00     17579\n",
      "weighted avg       1.00      1.00      1.00     17579\n",
      "\n"
     ]
    }
   ],
   "source": [
    "print(\"\",classification_report(y_test,y_pred_lgbm))"
   ]
  },
  {
   "cell_type": "code",
   "execution_count": 18,
   "id": "10bb955f",
   "metadata": {},
   "outputs": [
    {
     "name": "stdout",
     "output_type": "stream",
     "text": [
      "Accuracy: 0.9999431139427726\n"
     ]
    }
   ],
   "source": [
    "accuracy = lgb_nor.score(X_test, y_test)\n",
    "print(\"Accuracy:\", accuracy)"
   ]
  },
  {
   "cell_type": "code",
   "execution_count": 20,
   "id": "a500e80d",
   "metadata": {},
   "outputs": [],
   "source": [
    "filename_lgbm= 'Binary_security_lgbm_og.sav'\n",
    "pickle.dump(lgb_nor, open(filename_lgbm, 'wb'))\n",
    "load_model_lgbm=pickle.load(open('Binary_security_lgbm_og.sav','rb'))\n",
    "load_pred_lgbm=load_model_lgbm.predict(X_test)"
   ]
  },
  {
   "cell_type": "code",
   "execution_count": 21,
   "id": "945ed016",
   "metadata": {},
   "outputs": [
    {
     "data": {
      "image/png": "[encoded data removed]",
      "text/plain": [
       "<Figure size 720x720 with 1 Axes>"
      ]
     },
     "metadata": {
      "needs_background": "light"
     },
     "output_type": "display_data"
    }
   ],
   "source": [
    "plot_cm(y_test, load_pred_lgbm)\n",
    "plt.savefig('cm.eps',dpi=600)"
   ]
  },
  {
   "cell_type": "code",
   "execution_count": 23,
   "id": "4ac7b06b",
   "metadata": {},
   "outputs": [
    {
     "name": "stdout",
     "output_type": "stream",
     "text": [
      "                                   Feature    Importance\n",
      "45                       svcscan.nservices  1.518828e-01\n",
      "6                dlllist.avg_dlls_per_proc  1.157632e-01\n",
      "46                  svcscan.kernel_drivers  8.783107e-02\n",
      "49         svcscan.shared_process_services  8.428551e-02\n",
      "19                         handles.nmutant  7.894074e-02\n",
      "8             handles.avg_handles_per_proc  7.838235e-02\n",
      "18                        handles.nsection  7.709739e-02\n",
      "4                      pslist.avg_handlers  6.067243e-02\n",
      "13                            handles.nkey  4.708024e-02\n",
      "5                            dlllist.ndlls  2.872453e-02\n",
      "16                      handles.nsemaphore  2.792461e-02\n",
      "22                   ldrmodules.not_in_mem  2.561673e-02\n",
      "17                          handles.ntimer  2.511381e-02\n",
      "11                          handles.nevent  2.178992e-02\n",
      "21                  ldrmodules.not_in_init  1.945438e-02\n",
      "14                         handles.nthread  1.901063e-02\n",
      "7                         handles.nhandles  9.911854e-03\n",
      "20                  ldrmodules.not_in_load  8.746992e-03\n",
      "25               ldrmodules.not_in_mem_avg  7.578998e-03\n",
      "48                svcscan.process_services  6.912662e-03\n",
      "27                    malfind.commitCharge  5.637191e-03\n",
      "24              ldrmodules.not_in_init_avg  1.917318e-03\n",
      "0                             pslist.nproc  1.620985e-03\n",
      "36                 psxview.not_in_deskthrd  9.352728e-04\n",
      "2                       pslist.avg_threads  9.100151e-04\n",
      "15                      handles.ndirectory  7.501819e-04\n",
      "51                         svcscan.nactive  7.410035e-04\n",
      "1                             pslist.nppid  7.129262e-04\n",
      "52                    callbacks.ncallbacks  6.221628e-04\n",
      "23              ldrmodules.not_in_load_avg  6.202516e-04\n",
      "10                           handles.nfile  4.673372e-04\n",
      "32             psxview.not_in_ethread_pool  4.615674e-04\n",
      "43       psxview.not_in_deskthrd_false_avg  3.686354e-04\n",
      "28                      malfind.protection  2.784610e-04\n",
      "26                     malfind.ninjections  2.359556e-04\n",
      "12                        handles.ndesktop  2.094618e-04\n",
      "41  psxview.not_in_csrss_handles_false_avg  2.093622e-04\n",
      "29                malfind.uniqueInjections  1.338964e-04\n",
      "37         psxview.not_in_pslist_false_avg  9.303156e-05\n",
      "39   psxview.not_in_ethread_pool_false_avg  9.267715e-05\n",
      "42        psxview.not_in_session_false_avg  6.937895e-05\n",
      "34            psxview.not_in_csrss_handles  4.616060e-05\n",
      "30                   psxview.not_in_pslist  4.154939e-05\n",
      "40    psxview.not_in_pspcid_list_false_avg  3.935978e-05\n",
      "33              psxview.not_in_pspcid_list  2.527131e-05\n",
      "44                        modules.nmodules  2.189525e-05\n",
      "35                  psxview.not_in_session  1.702173e-05\n",
      "53                    callbacks.nanonymous  8.459499e-07\n",
      "38  psxview.not_in_eprocess_pool_false_avg  0.000000e+00\n",
      "9                            handles.nport  0.000000e+00\n",
      "47                      svcscan.fs_drivers  0.000000e+00\n",
      "3                       pslist.nprocs64bit  0.000000e+00\n",
      "50    svcscan.interactive_process_services  0.000000e+00\n",
      "31            psxview.not_in_eprocess_pool  0.000000e+00\n",
      "54                      callbacks.ngeneric  0.000000e+00\n"
     ]
    },
    {
     "data": {
      "image/png": "[encoded data removed]",
      "text/plain": [
       "<Figure size 720x432 with 1 Axes>"
      ]
     },
     "metadata": {
      "needs_background": "light"
     },
     "output_type": "display_data"
    }
   ],
   "source": [
    "# Get the feature importance scores from the trained LGBM model\n",
    "feature_importance = lgb_nor.feature_importances_\n",
    "\n",
    "# Create a DataFrame to store the feature names and their importance scores\n",
    "feature_importance_lgb = pd.DataFrame({'Feature': X_train.columns, 'Importance': feature_importance})\n",
    "\n",
    "# Sort the DataFrame by importance in descending order\n",
    "feature_importance_lgb = feature_importance_df.sort_values(by='Importance', ascending=False)\n",
    "\n",
    "# Print the ranked list of features with their importance scores\n",
    "print(feature_importance_lgb)\n",
    "\n",
    "# Plot the feature importances\n",
    "plt.figure(figsize=(10, 6))\n",
    "plt.bar(feature_importance_df['Feature'], feature_importance_df['Importance'])\n",
    "plt.xticks(rotation=90)\n",
    "plt.xlabel('Feature')\n",
    "plt.ylabel('Importance')\n",
    "plt.title('Feature Importances - LGBM')\n",
    "plt.tight_layout()\n",
    "plt.show()"
   ]
  },
  {
   "cell_type": "code",
   "execution_count": 24,
   "id": "748f51fa",
   "metadata": {},
   "outputs": [
    {
     "name": "stdout",
     "output_type": "stream",
     "text": [
      "Cross-Validation Scores: [1.         0.99943117 0.99971559 1.         0.99943101]\n",
      "Mean Score: 0.9997155535273012\n",
      "Standard Deviation: 0.00025442390243073516\n"
     ]
    }
   ],
   "source": [
    "# Define the number of folds for cross-validation\n",
    "num_folds = 5\n",
    "\n",
    "# Perform cross-validation\n",
    "cross_val_scores = cross_val_score(lgb_nor, X_test, y_test, cv=num_folds)\n",
    "\n",
    "# Print the cross-validation scores\n",
    "print(\"Cross-Validation Scores:\", cross_val_scores)\n",
    "\n",
    "# Calculate the mean and standard deviation of the cross-validation scores\n",
    "mean_score = cross_val_scores.mean()\n",
    "std_score = cross_val_scores.std()\n",
    "\n",
    "# Print the mean and standard deviation\n",
    "print(\"Mean Score:\", mean_score)\n",
    "print(\"Standard Deviation:\", std_score)"
   ]
  },
  {
   "cell_type": "markdown",
   "id": "8d416bc4",
   "metadata": {},
   "source": [
    "### Random Model_4: GaussianNB"
   ]
  },
  {
   "cell_type": "code",
   "execution_count": 25,
   "id": "708b577f",
   "metadata": {},
   "outputs": [
    {
     "name": "stdout",
     "output_type": "stream",
     "text": [
      "Training Accuracy: 0.9922714971840944\n",
      "Test Accuracy: 0.992377268331532\n"
     ]
    }
   ],
   "source": [
    "# Create a Gaussian Naive Bayes classifier\n",
    "nb_classifier = GaussianNB()\n",
    "\n",
    "# Train the classifier\n",
    "nb_classifier.fit(X_train, y_train)\n",
    "\n",
    "# Predict on training and test sets\n",
    "y_pred_train_nb = nb_classifier.predict(X_train)\n",
    "y_pred_test_nb = nb_classifier.predict(X_test)\n",
    "\n",
    "# Calculate accuracy on training and test sets\n",
    "accuracy_train_nb = accuracy_score(y_train, y_pred_train_nb)\n",
    "accuracy_test_nb = accuracy_score(y_test, y_pred_test_nb)\n",
    "\n",
    "print(f\"Training Accuracy: {accuracy_train_nb}\")\n",
    "print(f\"Test Accuracy: {accuracy_test_nb}\")"
   ]
  },
  {
   "cell_type": "code",
   "execution_count": 26,
   "id": "3652334b",
   "metadata": {},
   "outputs": [],
   "source": [
    "filename_nb= 'Binary_security_nb.sav'\n",
    "pickle.dump(nb_classifier, open(filename_nb, 'wb'))\n",
    "load_model_nb=pickle.load(open('Binary_security_nb.sav','rb'))\n",
    "load_pred_nb=load_model_nb.predict(X_test)"
   ]
  },
  {
   "cell_type": "code",
   "execution_count": 27,
   "id": "61834d17",
   "metadata": {},
   "outputs": [
    {
     "data": {
      "image/png": "[encoded data removed]",
      "text/plain": [
       "<Figure size 720x720 with 1 Axes>"
      ]
     },
     "metadata": {
      "needs_background": "light"
     },
     "output_type": "display_data"
    }
   ],
   "source": [
    "plot_cm(y_test, load_pred_nb)\n",
    "plt.savefig('cm.eps',dpi=600)"
   ]
  },
  {
   "cell_type": "code",
   "execution_count": 28,
   "id": "a246ad34",
   "metadata": {},
   "outputs": [
    {
     "name": "stdout",
     "output_type": "stream",
     "text": [
      "Cross-Validation Scores: [0.99232082 0.99431172 0.99232082 0.99260523 0.99061166]\n",
      "Mean Score: 0.992434050720381\n",
      "Standard Deviation: 0.0011748763691533236\n"
     ]
    }
   ],
   "source": [
    "# Define the number of folds for cross-validation\n",
    "num_folds = 5\n",
    "\n",
    "# Perform cross-validation\n",
    "cross_val_scores = cross_val_score(nb_classifier, X_test, y_test, cv=num_folds)\n",
    "\n",
    "# Print the cross-validation scores\n",
    "print(\"Cross-Validation Scores:\", cross_val_scores)\n",
    "\n",
    "# Calculate the mean and standard deviation of the cross-validation scores\n",
    "mean_score = cross_val_scores.mean()\n",
    "std_score = cross_val_scores.std()\n",
    "\n",
    "# Print the mean and standard deviation\n",
    "print(\"Mean Score:\", mean_score)\n",
    "print(\"Standard Deviation:\", std_score)"
   ]
  },
  {
   "cell_type": "code",
   "execution_count": 43,
   "id": "4c46261f",
   "metadata": {},
   "outputs": [
    {
     "data": {
      "text/html": [
       "<style>#sk-container-id-1 {color: black;background-color: white;}#sk-container-id-1 pre{padding: 0;}#sk-container-id-1 div.sk-toggleable {background-color: white;}#sk-container-id-1 label.sk-toggleable__label {cursor: pointer;display: block;width: 100%;margin-bottom: 0;padding: 0.3em;box-sizing: border-box;text-align: center;}#sk-container-id-1 label.sk-toggleable__label-arrow:before {content: \"▸\";float: left;margin-right: 0.25em;color: #696969;}#sk-container-id-1 label.sk-toggleable__label-arrow:hover:before {color: black;}#sk-container-id-1 div.sk-estimator:hover label.sk-toggleable__label-arrow:before {color: black;}#sk-container-id-1 div.sk-toggleable__content {max-height: 0;max-width: 0;overflow: hidden;text-align: left;background-color: #f0f8ff;}#sk-container-id-1 div.sk-toggleable__content pre {margin: 0.2em;color: black;border-radius: 0.25em;background-color: #f0f8ff;}#sk-container-id-1 input.sk-toggleable__control:checked~div.sk-toggleable__content {max-height: 200px;max-width: 100%;overflow: auto;}#sk-container-id-1 input.sk-toggleable__control:checked~label.sk-toggleable__label-arrow:before {content: \"▾\";}#sk-container-id-1 div.sk-estimator input.sk-toggleable__control:checked~label.sk-toggleable__label {background-color: #d4ebff;}#sk-container-id-1 div.sk-label input.sk-toggleable__control:checked~label.sk-toggleable__label {background-color: #d4ebff;}#sk-container-id-1 input.sk-hidden--visually {border: 0;clip: rect(1px 1px 1px 1px);clip: rect(1px, 1px, 1px, 1px);height: 1px;margin: -1px;overflow: hidden;padding: 0;position: absolute;width: 1px;}#sk-container-id-1 div.sk-estimator {font-family: monospace;background-color: #f0f8ff;border: 1px dotted black;border-radius: 0.25em;box-sizing: border-box;margin-bottom: 0.5em;}#sk-container-id-1 div.sk-estimator:hover {background-color: #d4ebff;}#sk-container-id-1 div.sk-parallel-item::after {content: \"\";width: 100%;border-bottom: 1px solid gray;flex-grow: 1;}#sk-container-id-1 div.sk-label:hover label.sk-toggleable__label {background-color: #d4ebff;}#sk-container-id-1 div.sk-serial::before {content: \"\";position: absolute;border-left: 1px solid gray;box-sizing: border-box;top: 0;bottom: 0;left: 50%;z-index: 0;}#sk-container-id-1 div.sk-serial {display: flex;flex-direction: column;align-items: center;background-color: white;padding-right: 0.2em;padding-left: 0.2em;position: relative;}#sk-container-id-1 div.sk-item {position: relative;z-index: 1;}#sk-container-id-1 div.sk-parallel {display: flex;align-items: stretch;justify-content: center;background-color: white;position: relative;}#sk-container-id-1 div.sk-item::before, #sk-container-id-1 div.sk-parallel-item::before {content: \"\";position: absolute;border-left: 1px solid gray;box-sizing: border-box;top: 0;bottom: 0;left: 50%;z-index: -1;}#sk-container-id-1 div.sk-parallel-item {display: flex;flex-direction: column;z-index: 1;position: relative;background-color: white;}#sk-container-id-1 div.sk-parallel-item:first-child::after {align-self: flex-end;width: 50%;}#sk-container-id-1 div.sk-parallel-item:last-child::after {align-self: flex-start;width: 50%;}#sk-container-id-1 div.sk-parallel-item:only-child::after {width: 0;}#sk-container-id-1 div.sk-dashed-wrapped {border: 1px dashed gray;margin: 0 0.4em 0.5em 0.4em;box-sizing: border-box;padding-bottom: 0.4em;background-color: white;}#sk-container-id-1 div.sk-label label {font-family: monospace;font-weight: bold;display: inline-block;line-height: 1.2em;}#sk-container-id-1 div.sk-label-container {text-align: center;}#sk-container-id-1 div.sk-container {/* jupyter's `normalize.less` sets `[hidden] { display: none; }` but bootstrap.min.css set `[hidden] { display: none !important; }` so we also need the `!important` here to be able to override the default hidden behavior on the sphinx rendered scikit-learn.org. See: https://github.com/scikit-learn/scikit-learn/issues/21755 */display: inline-block !important;position: relative;}#sk-container-id-1 div.sk-text-repr-fallback {display: none;}</style><div id=\"sk-container-id-1\" class=\"sk-top-container\"><div class=\"sk-text-repr-fallback\"><pre>LGBMClassifier()</pre><b>In a Jupyter environment, please rerun this cell to show the HTML representation or trust the notebook. <br />On GitHub, the HTML representation is unable to render, please try loading this page with nbviewer.org.</b></div><div class=\"sk-container\" hidden><div class=\"sk-item\"><div class=\"sk-estimator sk-toggleable\"><input class=\"sk-toggleable__control sk-hidden--visually\" id=\"sk-estimator-id-1\" type=\"checkbox\" checked><label for=\"sk-estimator-id-1\" class=\"sk-toggleable__label sk-toggleable__label-arrow\">LGBMClassifier</label><div class=\"sk-toggleable__content\"><pre>LGBMClassifier()</pre></div></div></div></div></div>"
      ],
      "text/plain": [
       "LGBMClassifier()"
      ]
     },
     "execution_count": 43,
     "metadata": {},
     "output_type": "execute_result"
    }
   ],
   "source": [
    "# Fit the classifiers with training data\n",
    "Dt_classifier.fit(X_train, y_train)\n",
    "rf_classifier.fit(X_train, y_train)\n",
    "lgb_nor.fit(X_train, y_train)"
   ]
  },
  {
   "cell_type": "markdown",
   "id": "d19fd647",
   "metadata": {},
   "source": [
    "### ROC "
   ]
  },
  {
   "cell_type": "code",
   "execution_count": 44,
   "id": "2e0e5d22",
   "metadata": {},
   "outputs": [],
   "source": [
    "proba_df = pd.DataFrame({\n",
    "       \n",
    "    'DECISIONTREE':Dt_classifier.predict_proba(X_test)[:,1],\n",
    "    'RANDOMFORREST':rf_classifier.predict_proba(X_test)[:,1],\n",
    "    'LGBM':lgb_nor.predict_proba(X_test)[:,1],\n",
    "    'NB':nb_classifier.predict_proba(X_test)[:,1],\n",
    "    })"
   ]
  },
  {
   "cell_type": "code",
   "execution_count": 45,
   "id": "d01ffcd5",
   "metadata": {
    "scrolled": true
   },
   "outputs": [
    {
     "data": {
      "text/html": [
       "<div>\n",
       "<style scoped>\n",
       "    .dataframe tbody tr th:only-of-type {\n",
       "        vertical-align: middle;\n",
       "    }\n",
       "\n",
       "    .dataframe tbody tr th {\n",
       "        vertical-align: top;\n",
       "    }\n",
       "\n",
       "    .dataframe thead th {\n",
       "        text-align: right;\n",
       "    }\n",
       "</style>\n",
       "<table border=\"1\" class=\"dataframe\">\n",
       "  <thead>\n",
       "    <tr style=\"text-align: right;\">\n",
       "      <th></th>\n",
       "      <th>DECISIONTREE</th>\n",
       "      <th>RANDOMFORREST</th>\n",
       "      <th>LGBM</th>\n",
       "      <th>NB</th>\n",
       "    </tr>\n",
       "  </thead>\n",
       "  <tbody>\n",
       "    <tr>\n",
       "      <th>0</th>\n",
       "      <td>1.0</td>\n",
       "      <td>1.0</td>\n",
       "      <td>0.999978</td>\n",
       "      <td>1.000000e+00</td>\n",
       "    </tr>\n",
       "    <tr>\n",
       "      <th>1</th>\n",
       "      <td>0.0</td>\n",
       "      <td>0.0</td>\n",
       "      <td>0.000022</td>\n",
       "      <td>6.760736e-82</td>\n",
       "    </tr>\n",
       "    <tr>\n",
       "      <th>2</th>\n",
       "      <td>1.0</td>\n",
       "      <td>1.0</td>\n",
       "      <td>0.999978</td>\n",
       "      <td>1.000000e+00</td>\n",
       "    </tr>\n",
       "    <tr>\n",
       "      <th>3</th>\n",
       "      <td>0.0</td>\n",
       "      <td>0.0</td>\n",
       "      <td>0.000022</td>\n",
       "      <td>6.954264e-51</td>\n",
       "    </tr>\n",
       "    <tr>\n",
       "      <th>4</th>\n",
       "      <td>1.0</td>\n",
       "      <td>1.0</td>\n",
       "      <td>0.999978</td>\n",
       "      <td>1.000000e+00</td>\n",
       "    </tr>\n",
       "    <tr>\n",
       "      <th>...</th>\n",
       "      <td>...</td>\n",
       "      <td>...</td>\n",
       "      <td>...</td>\n",
       "      <td>...</td>\n",
       "    </tr>\n",
       "    <tr>\n",
       "      <th>17574</th>\n",
       "      <td>0.0</td>\n",
       "      <td>0.0</td>\n",
       "      <td>0.000022</td>\n",
       "      <td>6.795941e-67</td>\n",
       "    </tr>\n",
       "    <tr>\n",
       "      <th>17575</th>\n",
       "      <td>0.0</td>\n",
       "      <td>0.0</td>\n",
       "      <td>0.000022</td>\n",
       "      <td>7.524527e-67</td>\n",
       "    </tr>\n",
       "    <tr>\n",
       "      <th>17576</th>\n",
       "      <td>1.0</td>\n",
       "      <td>1.0</td>\n",
       "      <td>0.999978</td>\n",
       "      <td>1.000000e+00</td>\n",
       "    </tr>\n",
       "    <tr>\n",
       "      <th>17577</th>\n",
       "      <td>1.0</td>\n",
       "      <td>1.0</td>\n",
       "      <td>0.999978</td>\n",
       "      <td>1.000000e+00</td>\n",
       "    </tr>\n",
       "    <tr>\n",
       "      <th>17578</th>\n",
       "      <td>1.0</td>\n",
       "      <td>1.0</td>\n",
       "      <td>0.999978</td>\n",
       "      <td>1.000000e+00</td>\n",
       "    </tr>\n",
       "  </tbody>\n",
       "</table>\n",
       "<p>17579 rows × 4 columns</p>\n",
       "</div>"
      ],
      "text/plain": [
       "       DECISIONTREE  RANDOMFORREST      LGBM            NB\n",
       "0               1.0            1.0  0.999978  1.000000e+00\n",
       "1               0.0            0.0  0.000022  6.760736e-82\n",
       "2               1.0            1.0  0.999978  1.000000e+00\n",
       "3               0.0            0.0  0.000022  6.954264e-51\n",
       "4               1.0            1.0  0.999978  1.000000e+00\n",
       "...             ...            ...       ...           ...\n",
       "17574           0.0            0.0  0.000022  6.795941e-67\n",
       "17575           0.0            0.0  0.000022  7.524527e-67\n",
       "17576           1.0            1.0  0.999978  1.000000e+00\n",
       "17577           1.0            1.0  0.999978  1.000000e+00\n",
       "17578           1.0            1.0  0.999978  1.000000e+00\n",
       "\n",
       "[17579 rows x 4 columns]"
      ]
     },
     "execution_count": 45,
     "metadata": {},
     "output_type": "execute_result"
    }
   ],
   "source": [
    "proba_df"
   ]
  },
  {
   "cell_type": "code",
   "execution_count": 46,
   "id": "8d665dc8",
   "metadata": {},
   "outputs": [],
   "source": [
    "proba_df.to_csv('probability.csv')"
   ]
  },
  {
   "cell_type": "code",
   "execution_count": 47,
   "id": "0ae3d514",
   "metadata": {},
   "outputs": [
    {
     "name": "stdout",
     "output_type": "stream",
     "text": [
      "DECISIONTREE\n",
      "  AUC: 1.0\n",
      "RANDOMFORREST\n",
      "  AUC: 1.0\n",
      "LGBM\n",
      "  AUC: 1.0\n",
      "NB\n",
      "  AUC: 0.996\n"
     ]
    },
    {
     "data": {
      "image/png": "[encoded data removed]",
      "text/plain": [
       "<Figure size 576x576 with 1 Axes>"
      ]
     },
     "metadata": {
      "needs_background": "light"
     },
     "output_type": "display_data"
    }
   ],
   "source": [
    "filename_ROC='ROC_curve_Binary_security.png'\n",
    "plot_roc_curves(proba_df, y_test,filename_ROC)"
   ]
  },
  {
   "cell_type": "markdown",
   "id": "78ad9713",
   "metadata": {},
   "source": [
    "# Performance Metrics"
   ]
  },
  {
   "cell_type": "code",
   "execution_count": 48,
   "id": "93a4a4e2",
   "metadata": {},
   "outputs": [],
   "source": [
    "#estimator and names fuction\n",
    "def est(clf,names):\n",
    "    estm=[]\n",
    "    for i in range(len(clf)):\n",
    "        n=names[i]\n",
    "        claf=clf[i]\n",
    "        estm.append((n,claf))\n",
    "    return estm\n",
    "clf=[Dt_classifier,rf_classifier,lgb_nor,nb_classifier]\n",
    "name=['DecisionTree','RandomForest','LightGBM','NB']\n",
    "est_1=est(clf,name)"
   ]
  },
  {
   "cell_type": "code",
   "execution_count": 49,
   "id": "d05998df",
   "metadata": {},
   "outputs": [
    {
     "name": "stdout",
     "output_type": "stream",
     "text": [
      "done for one\n",
      "done for one\n",
      "done for one\n",
      "done for one\n"
     ]
    }
   ],
   "source": [
    "cross_val_scores = {}\n",
    "accuracy_scores = {}\n",
    "error_scores = {}\n",
    "f1_scores = {}\n",
    "fpr_scores = {}\n",
    "kappa_scores = {}\n",
    "mcc_scores = {}\n",
    "ppv_scores = {}\n",
    "sensitivity_scores = {}\n",
    "specificity_scores = {}\n",
    "auc_scores = {}\n",
    "y_preds = {}\n",
    "y_probs = {}\n",
    "threat_scores = {}\n",
    "balanced_accuracy_scores = {}\n",
    "\n",
    "\n",
    "for algorithm, model in est_1:\n",
    "    y_pred = model.predict(X_test)\n",
    "    y_prob = model.predict_proba(X_test)\n",
    "    y_preds[algorithm] = y_pred\n",
    "    y_probs[algorithm] = y_prob\n",
    "    \n",
    "    cross_val_scores[algorithm] = cross_val_score(model, X_train, y_train, cv=10).mean()\n",
    "    accuracy_scores[algorithm] = accuracy_score(y_test, y_pred)\n",
    "    error_scores[algorithm] = 1 - accuracy_scores[algorithm]\n",
    "    f1_scores[algorithm] = f1_score(y_test, y_pred, average=\"weighted\")\n",
    "    kappa_scores[algorithm] = cohen_kappa_score(y_test, y_pred)\n",
    "    mcc_scores[algorithm] = matthews_corrcoef(y_test, y_pred)\n",
    "    ppv_scores[algorithm] = precision_score(y_test, y_pred, average=\"weighted\")\n",
    "    sensitivity_scores[algorithm] = recall_score(y_test, y_pred, average=\"weighted\")\n",
    "    confusion_matrix_= confusion_matrix(y_test, y_pred)\n",
    "    FP = confusion_matrix_.sum(axis=0) - np.diag(confusion_matrix_)  \n",
    "    FN = confusion_matrix_.sum(axis=1) - np.diag(confusion_matrix_)\n",
    "    TP = np.diag(confusion_matrix_)\n",
    "    TN = confusion_matrix_.sum() - (FP + FN + TP)\n",
    "    fpr_scores[algorithm] = (FP/(FP+TN)).mean()\n",
    "    specificity_scores[algorithm] = (TN/(TN+FP)).mean()\n",
    "    threat_scores[algorithm] = (TP/(TP+FN+FP)).mean()\n",
    "    balanced_accuracy_scores[algorithm] = ((sensitivity_scores[algorithm] + specificity_scores[algorithm])/2).mean()\n",
    "    print('done for one')\n"
   ]
  },
  {
   "cell_type": "code",
   "execution_count": 50,
   "id": "fbee44f7",
   "metadata": {},
   "outputs": [
    {
     "data": {
      "text/html": [
       "<div>\n",
       "<style scoped>\n",
       "    .dataframe tbody tr th:only-of-type {\n",
       "        vertical-align: middle;\n",
       "    }\n",
       "\n",
       "    .dataframe tbody tr th {\n",
       "        vertical-align: top;\n",
       "    }\n",
       "\n",
       "    .dataframe thead th {\n",
       "        text-align: right;\n",
       "    }\n",
       "</style>\n",
       "<table border=\"1\" class=\"dataframe\">\n",
       "  <thead>\n",
       "    <tr style=\"text-align: right;\">\n",
       "      <th></th>\n",
       "      <th>cross_val_scores</th>\n",
       "      <th>accuracy_scores</th>\n",
       "      <th>error_scores</th>\n",
       "      <th>f1_scores</th>\n",
       "      <th>fpr_scores</th>\n",
       "      <th>kappa_scores</th>\n",
       "      <th>mcc_scores</th>\n",
       "      <th>ppv_scores</th>\n",
       "      <th>sensitivity_scores</th>\n",
       "      <th>specificity_scores</th>\n",
       "      <th>threat_scores</th>\n",
       "      <th>balanced_accuracy_scores</th>\n",
       "    </tr>\n",
       "  </thead>\n",
       "  <tbody>\n",
       "    <tr>\n",
       "      <th>DecisionTree</th>\n",
       "      <td>0.999732</td>\n",
       "      <td>0.999943</td>\n",
       "      <td>0.000057</td>\n",
       "      <td>0.999943</td>\n",
       "      <td>0.000057</td>\n",
       "      <td>0.999886</td>\n",
       "      <td>0.999886</td>\n",
       "      <td>0.999943</td>\n",
       "      <td>0.999943</td>\n",
       "      <td>0.999943</td>\n",
       "      <td>0.999886</td>\n",
       "      <td>0.999943</td>\n",
       "    </tr>\n",
       "    <tr>\n",
       "      <th>RandomForest</th>\n",
       "      <td>0.999878</td>\n",
       "      <td>0.999943</td>\n",
       "      <td>0.000057</td>\n",
       "      <td>0.999943</td>\n",
       "      <td>0.000057</td>\n",
       "      <td>0.999886</td>\n",
       "      <td>0.999886</td>\n",
       "      <td>0.999943</td>\n",
       "      <td>0.999943</td>\n",
       "      <td>0.999943</td>\n",
       "      <td>0.999886</td>\n",
       "      <td>0.999943</td>\n",
       "    </tr>\n",
       "    <tr>\n",
       "      <th>LightGBM</th>\n",
       "      <td>0.999854</td>\n",
       "      <td>0.999943</td>\n",
       "      <td>0.000057</td>\n",
       "      <td>0.999943</td>\n",
       "      <td>0.000057</td>\n",
       "      <td>0.999886</td>\n",
       "      <td>0.999886</td>\n",
       "      <td>0.999943</td>\n",
       "      <td>0.999943</td>\n",
       "      <td>0.999943</td>\n",
       "      <td>0.999886</td>\n",
       "      <td>0.999943</td>\n",
       "    </tr>\n",
       "    <tr>\n",
       "      <th>NB</th>\n",
       "      <td>0.992223</td>\n",
       "      <td>0.992377</td>\n",
       "      <td>0.007623</td>\n",
       "      <td>0.992377</td>\n",
       "      <td>0.007636</td>\n",
       "      <td>0.984754</td>\n",
       "      <td>0.984771</td>\n",
       "      <td>0.992394</td>\n",
       "      <td>0.992377</td>\n",
       "      <td>0.992364</td>\n",
       "      <td>0.984869</td>\n",
       "      <td>0.992371</td>\n",
       "    </tr>\n",
       "  </tbody>\n",
       "</table>\n",
       "</div>"
      ],
      "text/plain": [
       "              cross_val_scores  accuracy_scores  error_scores  f1_scores  \\\n",
       "DecisionTree          0.999732         0.999943      0.000057   0.999943   \n",
       "RandomForest          0.999878         0.999943      0.000057   0.999943   \n",
       "LightGBM              0.999854         0.999943      0.000057   0.999943   \n",
       "NB                    0.992223         0.992377      0.007623   0.992377   \n",
       "\n",
       "              fpr_scores  kappa_scores  mcc_scores  ppv_scores  \\\n",
       "DecisionTree    0.000057      0.999886    0.999886    0.999943   \n",
       "RandomForest    0.000057      0.999886    0.999886    0.999943   \n",
       "LightGBM        0.000057      0.999886    0.999886    0.999943   \n",
       "NB              0.007636      0.984754    0.984771    0.992394   \n",
       "\n",
       "              sensitivity_scores  specificity_scores  threat_scores  \\\n",
       "DecisionTree            0.999943            0.999943       0.999886   \n",
       "RandomForest            0.999943            0.999943       0.999886   \n",
       "LightGBM                0.999943            0.999943       0.999886   \n",
       "NB                      0.992377            0.992364       0.984869   \n",
       "\n",
       "              balanced_accuracy_scores  \n",
       "DecisionTree                  0.999943  \n",
       "RandomForest                  0.999943  \n",
       "LightGBM                      0.999943  \n",
       "NB                            0.992371  "
      ]
     },
     "execution_count": 50,
     "metadata": {},
     "output_type": "execute_result"
    }
   ],
   "source": [
    "performance_metrics = {\n",
    "    'cross_val_scores': cross_val_scores,\n",
    "    'accuracy_scores': accuracy_scores,\n",
    "    'error_scores': error_scores,\n",
    "    'f1_scores': f1_scores,\n",
    "    'fpr_scores': fpr_scores,\n",
    "    'kappa_scores': kappa_scores,\n",
    "    'mcc_scores': mcc_scores,\n",
    "    'ppv_scores': ppv_scores,\n",
    "    'sensitivity_scores': sensitivity_scores,\n",
    "    'specificity_scores': specificity_scores,\n",
    "    'threat_scores': threat_scores,\n",
    "    'balanced_accuracy_scores': balanced_accuracy_scores\n",
    "}\n",
    "\n",
    "pd.DataFrame(performance_metrics)"
   ]
  },
  {
   "cell_type": "code",
   "execution_count": 51,
   "id": "b5d23057",
   "metadata": {},
   "outputs": [],
   "source": [
    "perfo_m=pd.DataFrame(performance_metrics)\n",
    "perfo_m.to_csv('performance_metrics.csv')"
   ]
  },
  {
   "cell_type": "markdown",
   "id": "224a948a",
   "metadata": {},
   "source": [
    "## Deep Learning Model Build"
   ]
  },
  {
   "cell_type": "markdown",
   "id": "c5d9366d",
   "metadata": {},
   "source": [
    "### Model_6:ANN"
   ]
  },
  {
   "cell_type": "code",
   "execution_count": 29,
   "id": "b7994213",
   "metadata": {},
   "outputs": [
    {
     "name": "stdout",
     "output_type": "stream",
     "text": [
      "Epoch 1/10\n",
      "1154/1154 [==============================] - 1s 1ms/step - loss: 3.5773 - accuracy: 0.9427 - val_loss: 0.1909 - val_accuracy: 0.9905\n",
      "Epoch 2/10\n",
      "1154/1154 [==============================] - 1s 925us/step - loss: 0.5066 - accuracy: 0.9801 - val_loss: 0.2243 - val_accuracy: 0.9912\n",
      "Epoch 3/10\n",
      "1154/1154 [==============================] - 1s 981us/step - loss: 0.4380 - accuracy: 0.9803 - val_loss: 0.1926 - val_accuracy: 0.9946\n",
      "Epoch 4/10\n",
      "1154/1154 [==============================] - 1s 978us/step - loss: 0.3160 - accuracy: 0.9875 - val_loss: 0.1383 - val_accuracy: 0.9949\n",
      "Epoch 5/10\n",
      "1154/1154 [==============================] - 1s 1ms/step - loss: 0.3342 - accuracy: 0.9836 - val_loss: 0.1725 - val_accuracy: 0.9915\n",
      "Epoch 6/10\n",
      "1154/1154 [==============================] - 1s 1ms/step - loss: 0.2104 - accuracy: 0.9884 - val_loss: 0.1917 - val_accuracy: 0.9876\n",
      "Epoch 7/10\n",
      "1154/1154 [==============================] - 1s 984us/step - loss: 0.1719 - accuracy: 0.9897 - val_loss: 0.0667 - val_accuracy: 0.9961\n",
      "Epoch 8/10\n",
      "1154/1154 [==============================] - 1s 975us/step - loss: 0.1480 - accuracy: 0.9895 - val_loss: 0.1073 - val_accuracy: 0.9937\n",
      "Epoch 9/10\n",
      "1154/1154 [==============================] - 1s 988us/step - loss: 0.1799 - accuracy: 0.9876 - val_loss: 0.0884 - val_accuracy: 0.9946\n",
      "Epoch 10/10\n",
      "1154/1154 [==============================] - 1s 1ms/step - loss: 0.1267 - accuracy: 0.9899 - val_loss: 0.0650 - val_accuracy: 0.9907\n"
     ]
    },
    {
     "data": {
      "text/plain": [
       "<keras.callbacks.History at 0x7fc94a2c1ed0>"
      ]
     },
     "execution_count": 29,
     "metadata": {},
     "output_type": "execute_result"
    }
   ],
   "source": [
    "\n",
    "# Create the ANN model\n",
    "model_ann = Sequential()\n",
    "\n",
    "# Add layers to the model\n",
    "model_ann.add(Dense(units=64, activation='relu', input_shape=(X_train.shape[1],)))\n",
    "model_ann.add(Dense(units=32, activation='relu'))\n",
    "model_ann.add(Dense(units=1, activation='sigmoid'))\n",
    "\n",
    "# Compile the model\n",
    "model_ann.compile(optimizer=Adam(learning_rate=0.001), loss='binary_crossentropy', metrics=['accuracy'])\n",
    "\n",
    "# Train the model\n",
    "model_ann.fit(X_train, y_train, epochs=10, batch_size=32, validation_split=0.1)\n"
   ]
  },
  {
   "cell_type": "code",
   "execution_count": 30,
   "id": "0c39dac6",
   "metadata": {},
   "outputs": [
    {
     "name": "stdout",
     "output_type": "stream",
     "text": [
      "550/550 [==============================] - 0s 623us/step - loss: 0.0772 - accuracy: 0.9903\n",
      "Test accuracy: 0.99033\n"
     ]
    }
   ],
   "source": [
    " # Evaluate the model on the test set\n",
    "loss, accuracy_ann = model_ann.evaluate(X_test, y_test)\n",
    "print(f'Test accuracy: {accuracy_ann:.5f}')"
   ]
  },
  {
   "cell_type": "code",
   "execution_count": 31,
   "id": "31c7a002",
   "metadata": {},
   "outputs": [
    {
     "name": "stdout",
     "output_type": "stream",
     "text": [
      "550/550 [==============================] - 0s 565us/step\n"
     ]
    },
    {
     "data": {
      "image/png": "[encoded data removed]",
      "text/plain": [
       "<Figure size 720x720 with 1 Axes>"
      ]
     },
     "metadata": {
      "needs_background": "light"
     },
     "output_type": "display_data"
    }
   ],
   "source": [
    "# Save the ANN model to disk\n",
    "model_ann.save('Binary_security_ann.keras')\n",
    "\n",
    "# Load the saved ANN model\n",
    "load_model_ann = load_model('Binary_security_ann.keras')\n",
    "\n",
    "# Predict using the loaded ANN model\n",
    "load_pred_ann = load_model_ann.predict(X_test)\n",
    "load_pred_ann_classes = (load_pred_ann > 0.5).astype(int)  # Convert probabilities to binary classes\n",
    "\n",
    "plot_cm(y_test, load_pred_ann_classes)\n",
    "plt.savefig('cm.eps', dpi=600)"
   ]
  },
  {
   "cell_type": "markdown",
   "id": "78b3edd4",
   "metadata": {},
   "source": [
    "### Model_6:CNN"
   ]
  },
  {
   "cell_type": "code",
   "execution_count": 32,
   "id": "37c5fa58",
   "metadata": {},
   "outputs": [
    {
     "name": "stdout",
     "output_type": "stream",
     "text": [
      "Epoch 1/10\n",
      "1154/1154 [==============================] - 4s 3ms/step - loss: 0.0207 - accuracy: 0.9967 - val_loss: 0.0118 - val_accuracy: 0.9980\n",
      "Epoch 2/10\n",
      "1154/1154 [==============================] - 3s 3ms/step - loss: 0.0040 - accuracy: 0.9988 - val_loss: 0.0033 - val_accuracy: 0.9988\n",
      "Epoch 3/10\n",
      "1154/1154 [==============================] - 3s 3ms/step - loss: 0.0022 - accuracy: 0.9992 - val_loss: 0.0024 - val_accuracy: 0.9993\n",
      "Epoch 4/10\n",
      "1154/1154 [==============================] - 3s 3ms/step - loss: 0.0013 - accuracy: 0.9997 - val_loss: 0.0015 - val_accuracy: 0.9998\n",
      "Epoch 5/10\n",
      "1154/1154 [==============================] - 3s 3ms/step - loss: 0.0066 - accuracy: 0.9992 - val_loss: 0.0017 - val_accuracy: 0.9998\n",
      "Epoch 6/10\n",
      "1154/1154 [==============================] - 3s 3ms/step - loss: 0.0010 - accuracy: 0.9998 - val_loss: 8.5280e-04 - val_accuracy: 0.9998\n",
      "Epoch 7/10\n",
      "1154/1154 [==============================] - 3s 3ms/step - loss: 7.1971e-04 - accuracy: 0.9999 - val_loss: 6.6718e-04 - val_accuracy: 0.9998\n",
      "Epoch 8/10\n",
      "1154/1154 [==============================] - 3s 3ms/step - loss: 9.0816e-04 - accuracy: 0.9998 - val_loss: 6.5890e-04 - val_accuracy: 0.9998\n",
      "Epoch 9/10\n",
      "1154/1154 [==============================] - 3s 3ms/step - loss: 0.0020 - accuracy: 0.9996 - val_loss: 0.0028 - val_accuracy: 0.9995\n",
      "Epoch 10/10\n",
      "1154/1154 [==============================] - 3s 3ms/step - loss: 8.1903e-04 - accuracy: 0.9998 - val_loss: 8.0298e-04 - val_accuracy: 0.9998\n",
      "550/550 [==============================] - 1s 1ms/step - loss: 0.0027 - accuracy: 0.9997\n",
      "Test accuracy: 0.9997\n"
     ]
    }
   ],
   "source": [
    "# Normalize the input features\n",
    "scaler = StandardScaler()\n",
    "X_train_scaled = scaler.fit_transform(X_train)\n",
    "X_test_scaled = scaler.transform(X_test)\n",
    "\n",
    "# Reshape X_train and X_test to be 3D tensors for CNN\n",
    "X_train_reshaped = X_train_scaled.reshape(X_train_scaled.shape[0], X_train_scaled.shape[1], 1)\n",
    "X_test_reshaped = X_test_scaled.reshape(X_test_scaled.shape[0], X_test_scaled.shape[1], 1)\n",
    "\n",
    "# Create the CNN model\n",
    "model_cnn = Sequential()\n",
    "\n",
    "# Add convolutional layers\n",
    "model_cnn.add(Conv1D(filters=32, kernel_size=3, activation='relu', input_shape=(X_train_scaled.shape[1], 1)))\n",
    "model_cnn.add(MaxPooling1D(pool_size=2))\n",
    "\n",
    "model_cnn.add(Conv1D(filters=64, kernel_size=3, activation='relu'))\n",
    "model_cnn.add(MaxPooling1D(pool_size=2))\n",
    "\n",
    "# Add fully connected layers\n",
    "model_cnn.add(Flatten())\n",
    "model_cnn.add(Dense(units=128, activation='relu'))\n",
    "model_cnn.add(Dense(units=1, activation='sigmoid'))\n",
    "\n",
    "# Compile the model\n",
    "model_cnn.compile(optimizer=Adam(learning_rate=0.001), loss='binary_crossentropy', metrics=['accuracy'])\n",
    "\n",
    "# Train the model\n",
    "model_cnn.fit(X_train_reshaped, y_train, epochs=10, batch_size=32, validation_split=0.1)\n",
    "\n",
    "# Evaluate the model on the test set\n",
    "loss, accuracy_cnn = model_cnn.evaluate(X_test_reshaped, y_test)\n",
    "print(f'Test accuracy: {accuracy_cnn:.4f}')\n"
   ]
  },
  {
   "cell_type": "markdown",
   "id": "ca0c129a",
   "metadata": {},
   "source": [
    "# Attack On CNN"
   ]
  },
  {
   "cell_type": "markdown",
   "id": "e231b1be",
   "metadata": {},
   "source": [
    "### FGSM attack on CNN"
   ]
  },
  {
   "cell_type": "code",
   "execution_count": 33,
   "id": "48c0e932",
   "metadata": {},
   "outputs": [],
   "source": [
    "# Save the model to an Keras file\n",
    "model_cnn.save('malmemcnn.keras')\n"
   ]
  },
  {
   "cell_type": "code",
   "execution_count": 34,
   "id": "f1730805",
   "metadata": {},
   "outputs": [],
   "source": [
    "# FGSM Attack\n",
    "epsilon = 0.1 # Perturbation magnitude\n",
    "\n",
    "def fgsm_attack(input_image, epsilon, gradient):\n",
    "    perturbed_image = input_image + epsilon * tf.sign(gradient)\n",
    "    perturbed_image = tf.clip_by_value(perturbed_image, 0, 255)\n",
    "    return perturbed_image\n"
   ]
  },
  {
   "cell_type": "code",
   "execution_count": 35,
   "id": "9f4e8a8a",
   "metadata": {},
   "outputs": [],
   "source": [
    "# Select a random test example for the attack\n",
    "random_index = np.random.randint(0, len(X_test_reshaped))\n",
    "test_example = X_test_reshaped[random_index : random_index + 1]\n"
   ]
  },
  {
   "cell_type": "code",
   "execution_count": 36,
   "id": "2dbdb644",
   "metadata": {},
   "outputs": [],
   "source": [
    "# Select a random test example for the attack\n",
    "random_index = np.random.randint(0, len(X_test_reshaped))\n",
    "test_example = X_test_reshaped[random_index : random_index + 1]\n",
    "\n",
    "# Convert the NumPy array to a TensorFlow tensor\n",
    "test_example_tensor = tf.convert_to_tensor(test_example)\n",
    "#test_example_tensor"
   ]
  },
  {
   "cell_type": "code",
   "execution_count": 37,
   "id": "78366598",
   "metadata": {},
   "outputs": [
    {
     "name": "stdout",
     "output_type": "stream",
     "text": [
      "1/1 [==============================] - 0s 15ms/step - loss: 2.3367 - accuracy: 0.0000e+00\n",
      "Adversarial accuracy: 0.000000\n"
     ]
    }
   ],
   "source": [
    "# Calculate gradients\n",
    "with tf.GradientTape() as tape:\n",
    "    tape.watch(test_example_tensor)\n",
    "    prediction = model_cnn(test_example_tensor)\n",
    "    # Convert Pandas Series to NumPy array and reshape\n",
    "    y_test_slice = y_test[random_index : random_index + 1].to_numpy().reshape(prediction.shape)\n",
    "    loss = tf.keras.losses.binary_crossentropy(y_test_slice, prediction)\n",
    "\n",
    "gradient = tape.gradient(loss, test_example_tensor)\n",
    "\n",
    "# Create adversarial example using FGSM\n",
    "adversarial_example = fgsm_attack(test_example_tensor, epsilon, gradient)\n",
    "\n",
    "# Convert the adversarial example back to a NumPy array\n",
    "adversarial_example_np = adversarial_example.numpy()\n",
    "\n",
    "# Evaluate the model on the adversarial example\n",
    "adversarial_accuracy = model_cnn.evaluate(adversarial_example_np, y_test_slice)[1]\n",
    "print(f'Adversarial accuracy: {adversarial_accuracy:.6f}')\n"
   ]
  },
  {
   "cell_type": "markdown",
   "id": "886dd613",
   "metadata": {},
   "source": [
    "The result  is related to the Fast Gradient Sign Method (FGSM). Let's break down the output:\n",
    "\n",
    "\"1/1 [==============================] - 0s 15ms/step\": This indicates that a single input sample was used for the FGSM attack.\n",
    "\n",
    "\"loss: 2.3367\": The loss value of 2.3367 is typically the measure of how well the model performed on the adversarial examples. A high loss value suggests that the attack was successful in perturbing the input such that the model's prediction was significantly different from the original.\n",
    "\n",
    "\"accuracy: 0.0000e+00\": This is the accuracy of the model on the adversarial examples generated by the FGSM attack. An accuracy of 0.0000e+00 means that the model's predictions on these adversarial examples were completely incorrect, with no correct predictions.\n",
    "\n",
    "\"Adversarial accuracy: 0.000000\": This explicitly states that the model's accuracy on the adversarial examples is 0.000000, which means that the FGSM attack was very successful in causing the model to make incorrect predictions.\n",
    "\n",
    "In summary, the output indicates that the FGSM attack was highly effective in causing the model to make incorrect predictions with an accuracy of 0.000000, meaning the model failed to correctly classify the adversarial examples. This is a common goal of adversarial attacks: to make the model's predictions unreliable or completely wrong.\n",
    "\n"
   ]
  },
  {
   "cell_type": "markdown",
   "id": "290d48d6",
   "metadata": {},
   "source": [
    "### JSMA Attack On CNN"
   ]
  },
  {
   "cell_type": "code",
   "execution_count": 38,
   "id": "f283c154",
   "metadata": {},
   "outputs": [],
   "source": [
    "# Load your trained model\n",
    "model = load_model('malmemcnn.keras')\n",
    "\n",
    "# Define the target class for the attack\n",
    "target_class = 0  # Change this to the desired target class index\n",
    "\n",
    "# Define the maximum perturbation limit (epsilon)\n",
    "epsilon = 0.1 # Adjust as needed\n",
    "\n",
    "# Define the number of features in your input data\n",
    "num_features = X_train_reshaped.shape[1]\n"
   ]
  },
  {
   "cell_type": "code",
   "execution_count": 39,
   "id": "3f77da32",
   "metadata": {},
   "outputs": [],
   "source": [
    "# Define a function to compute the saliency map\n",
    "def compute_saliency_map(input_image, target_class):\n",
    "    with tf.GradientTape() as tape:\n",
    "        tape.watch(input_image)\n",
    "        prediction = model(input_image)\n",
    "        target_probability = prediction[0, target_class]\n",
    "    \n",
    "    gradient = tape.gradient(target_probability, input_image)\n",
    "    saliency_map = tf.abs(gradient)\n",
    "    \n",
    "    return saliency_map\n",
    "\n",
    "\n",
    "# Define a function to generate adversarial examples using JSMA\n",
    "def jsma_attack(input_image, target_class, epsilon, max_iters=100):\n",
    "    input_image = tf.convert_to_tensor(input_image)\n",
    "    \n",
    "    perturbation = np.zeros_like(input_image)\n",
    "    for _ in range(max_iters):\n",
    "        saliency_map = compute_saliency_map(input_image, target_class)\n",
    "        \n",
    "        # Find the index of the pixel with the highest saliency\n",
    "        max_pixel_index = tf.argmax(saliency_map)\n",
    "        \n",
    "        # Apply perturbation to the pixel with the highest saliency\n",
    "        perturbation[max_pixel_index] += epsilon\n",
    "        \n",
    "        # Apply perturbation to the input image\n",
    "        adversarial_image = input_image + perturbation\n",
    "        \n",
    "        # Check if the attack is successful (changed predicted class)\n",
    "        prediction = model.predict(adversarial_image)\n",
    "        if np.argmax(prediction) != target_class:\n",
    "            break\n",
    "        \n",
    "    return adversarial_image.numpy()\n"
   ]
  },
  {
   "cell_type": "code",
   "execution_count": 40,
   "id": "bd0626ba",
   "metadata": {},
   "outputs": [],
   "source": [
    "# Select a random test example for the attack\n",
    "random_index = np.random.randint(1, len(X_test_reshaped))\n",
    "test_example = X_test_reshaped[random_index : random_index + 1]\n"
   ]
  },
  {
   "cell_type": "code",
   "execution_count": 41,
   "id": "d8e83025",
   "metadata": {},
   "outputs": [
    {
     "name": "stdout",
     "output_type": "stream",
     "text": [
      "1/1 [==============================] - 0s 47ms/step\n",
      "1/1 [==============================] - 0s 14ms/step\n",
      "1/1 [==============================] - 0s 13ms/step\n",
      "1/1 [==============================] - 0s 14ms/step\n",
      "1/1 [==============================] - 0s 13ms/step\n",
      "1/1 [==============================] - 0s 14ms/step\n",
      "1/1 [==============================] - 0s 13ms/step\n",
      "1/1 [==============================] - 0s 13ms/step\n",
      "1/1 [==============================] - 0s 13ms/step\n",
      "1/1 [==============================] - 0s 13ms/step\n",
      "1/1 [==============================] - 0s 12ms/step\n",
      "1/1 [==============================] - 0s 13ms/step\n",
      "1/1 [==============================] - 0s 13ms/step\n",
      "1/1 [==============================] - 0s 13ms/step\n",
      "1/1 [==============================] - 0s 13ms/step\n",
      "1/1 [==============================] - 0s 14ms/step\n",
      "1/1 [==============================] - 0s 13ms/step\n",
      "1/1 [==============================] - 0s 15ms/step\n",
      "1/1 [==============================] - 0s 14ms/step\n",
      "1/1 [==============================] - 0s 14ms/step\n",
      "1/1 [==============================] - 0s 14ms/step\n",
      "1/1 [==============================] - 0s 16ms/step\n",
      "1/1 [==============================] - 0s 13ms/step\n",
      "1/1 [==============================] - 0s 14ms/step\n",
      "1/1 [==============================] - 0s 13ms/step\n",
      "1/1 [==============================] - 0s 13ms/step\n",
      "1/1 [==============================] - 0s 13ms/step\n",
      "1/1 [==============================] - 0s 13ms/step\n",
      "1/1 [==============================] - 0s 13ms/step\n",
      "1/1 [==============================] - 0s 13ms/step\n",
      "1/1 [==============================] - 0s 13ms/step\n",
      "1/1 [==============================] - 0s 15ms/step\n",
      "1/1 [==============================] - 0s 15ms/step\n",
      "1/1 [==============================] - 0s 13ms/step\n",
      "1/1 [==============================] - 0s 14ms/step\n",
      "1/1 [==============================] - 0s 13ms/step\n",
      "1/1 [==============================] - 0s 14ms/step\n",
      "1/1 [==============================] - 0s 14ms/step\n",
      "1/1 [==============================] - 0s 12ms/step\n",
      "1/1 [==============================] - 0s 13ms/step\n",
      "1/1 [==============================] - 0s 13ms/step\n",
      "1/1 [==============================] - 0s 14ms/step\n",
      "1/1 [==============================] - 0s 14ms/step\n",
      "1/1 [==============================] - 0s 13ms/step\n",
      "1/1 [==============================] - 0s 15ms/step\n",
      "1/1 [==============================] - 0s 14ms/step\n",
      "1/1 [==============================] - 0s 14ms/step\n",
      "1/1 [==============================] - 0s 13ms/step\n",
      "1/1 [==============================] - 0s 13ms/step\n",
      "1/1 [==============================] - 0s 14ms/step\n",
      "1/1 [==============================] - 0s 14ms/step\n",
      "1/1 [==============================] - 0s 16ms/step\n",
      "1/1 [==============================] - 0s 14ms/step\n",
      "1/1 [==============================] - 0s 13ms/step\n",
      "1/1 [==============================] - 0s 14ms/step\n",
      "1/1 [==============================] - 0s 14ms/step\n",
      "1/1 [==============================] - 0s 13ms/step\n",
      "1/1 [==============================] - 0s 13ms/step\n",
      "1/1 [==============================] - 0s 13ms/step\n",
      "1/1 [==============================] - 0s 13ms/step\n",
      "1/1 [==============================] - 0s 13ms/step\n",
      "1/1 [==============================] - 0s 13ms/step\n",
      "1/1 [==============================] - 0s 13ms/step\n",
      "1/1 [==============================] - 0s 14ms/step\n",
      "1/1 [==============================] - 0s 14ms/step\n",
      "1/1 [==============================] - 0s 13ms/step\n",
      "1/1 [==============================] - 0s 13ms/step\n",
      "1/1 [==============================] - 0s 13ms/step\n",
      "1/1 [==============================] - 0s 14ms/step\n",
      "1/1 [==============================] - 0s 14ms/step\n",
      "1/1 [==============================] - 0s 13ms/step\n",
      "1/1 [==============================] - 0s 13ms/step\n",
      "1/1 [==============================] - 0s 13ms/step\n",
      "1/1 [==============================] - 0s 13ms/step\n",
      "1/1 [==============================] - 0s 13ms/step\n",
      "1/1 [==============================] - 0s 13ms/step\n",
      "1/1 [==============================] - 0s 14ms/step\n",
      "1/1 [==============================] - 0s 13ms/step\n",
      "1/1 [==============================] - 0s 14ms/step\n",
      "1/1 [==============================] - 0s 16ms/step\n",
      "1/1 [==============================] - 0s 16ms/step\n",
      "1/1 [==============================] - 0s 16ms/step\n",
      "1/1 [==============================] - 0s 15ms/step\n",
      "1/1 [==============================] - 0s 14ms/step\n",
      "1/1 [==============================] - 0s 14ms/step\n",
      "1/1 [==============================] - 0s 17ms/step\n",
      "1/1 [==============================] - 0s 14ms/step\n",
      "1/1 [==============================] - 0s 16ms/step\n",
      "1/1 [==============================] - 0s 16ms/step\n",
      "1/1 [==============================] - 0s 15ms/step\n",
      "1/1 [==============================] - 0s 15ms/step\n",
      "1/1 [==============================] - 0s 15ms/step\n",
      "1/1 [==============================] - 0s 14ms/step\n",
      "1/1 [==============================] - 0s 13ms/step\n",
      "1/1 [==============================] - 0s 14ms/step\n",
      "1/1 [==============================] - 0s 13ms/step\n",
      "1/1 [==============================] - 0s 13ms/step\n",
      "1/1 [==============================] - 0s 16ms/step\n",
      "1/1 [==============================] - 0s 16ms/step\n",
      "1/1 [==============================] - 0s 12ms/step\n"
     ]
    }
   ],
   "source": [
    "# Generate adversarial example using JSMA\n",
    "adversarial_example = jsma_attack(test_example, target_class, epsilon)"
   ]
  },
  {
   "cell_type": "code",
   "execution_count": 42,
   "id": "5d758e20",
   "metadata": {},
   "outputs": [
    {
     "name": "stdout",
     "output_type": "stream",
     "text": [
      "1/1 [==============================] - 0s 47ms/step\n",
      "1/1 [==============================] - 0s 16ms/step\n",
      "Original prediction: [[1.2290381e-08]]\n",
      "Adversarial prediction: [[0.]]\n"
     ]
    }
   ],
   "source": [
    "# Evaluate the model on the adversarial example\n",
    "original_prediction = model.predict(test_example)\n",
    "adversarial_prediction = model.predict(adversarial_example)\n",
    "\n",
    "print(f'Original prediction: {original_prediction}')\n",
    "print(f'Adversarial prediction: {adversarial_prediction}')"
   ]
  },
  {
   "cell_type": "markdown",
   "id": "e01a4c11",
   "metadata": {},
   "source": [
    "The result appears to be related to  the Jacobian-based Saliency Map Attack (JSMA). Let's interpret the output:\n",
    "\n",
    "\"Original prediction: [[1.2290381e-08]]\": This is the prediction made by the target machine learning model for an input sample before the adversarial attack. In this case, the model predicted a very low probability, approximately 1.2290381e-08, for a specific class or label, indicating that the model assigned a very low likelihood to this class.\n",
    "\n",
    "\"Adversarial prediction: [[0.]]\": After the JSMA attack, the prediction of the model changed to 0.0, indicating that the model now predicts a probability of 0 for the class or label it previously assigned a very low probability. In other words, the adversarial example generated by JSMA has successfully manipulated the input in such a way that the model now confidently predicts a different class or outcome than it did originally.\n",
    "\n",
    "In summary, the output suggests that the JSMA attack was successful in causing the model to change its prediction from a very low probability to a probability of 0, which means that the attack was able to manipulate the input to an extent where the model now confidently predicts a different class. This is a common goal of adversarial attacks: to trick the model into making incorrect predictions."
   ]
  }
 ],
 "metadata": {
  "kernelspec": {
   "display_name": "Python 3 (ipykernel)",
   "language": "python",
   "name": "python3"
  },
  "language_info": {
   "codemirror_mode": {
    "name": "ipython",
    "version": 3
   },
   "file_extension": ".py",
   "mimetype": "text/x-python",
   "name": "python",
   "nbconvert_exporter": "python",
   "pygments_lexer": "ipython3",
   "version": "3.10.12"
  }
 },
 "nbformat": 4,
 "nbformat_minor": 5
}
