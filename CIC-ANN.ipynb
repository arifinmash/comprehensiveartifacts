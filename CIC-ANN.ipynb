{
 "cells": [
  {
   "cell_type": "code",
   "execution_count": 1,
   "id": "b68a5809",
   "metadata": {},
   "outputs": [
    {
     "name": "stderr",
     "output_type": "stream",
     "text": [
      "2023-07-31 08:57:40.667680: I tensorflow/core/util/port.cc:110] oneDNN custom operations are on. You may see slightly different numerical results due to floating-point round-off errors from different computation orders. To turn them off, set the environment variable `TF_ENABLE_ONEDNN_OPTS=0`.\n",
      "2023-07-31 08:57:40.732766: I tensorflow/tsl/cuda/cudart_stub.cc:28] Could not find cuda drivers on your machine, GPU will not be used.\n",
      "2023-07-31 08:57:41.031907: I tensorflow/tsl/cuda/cudart_stub.cc:28] Could not find cuda drivers on your machine, GPU will not be used.\n",
      "2023-07-31 08:57:41.033415: I tensorflow/core/platform/cpu_feature_guard.cc:182] This TensorFlow binary is optimized to use available CPU instructions in performance-critical operations.\n",
      "To enable the following instructions: AVX2 AVX512F AVX512_VNNI FMA, in other operations, rebuild TensorFlow with the appropriate compiler flags.\n",
      "2023-07-31 08:57:42.030007: W tensorflow/compiler/tf2tensorrt/utils/py_utils.cc:38] TF-TRT Warning: Could not find TensorRT\n"
     ]
    }
   ],
   "source": [
    "import pandas as pd\n",
    "import numpy as np\n",
    "from sklearn.model_selection import train_test_split\n",
    "from sklearn.preprocessing import StandardScaler\n",
    "from keras.models import Sequential\n",
    "from keras.layers import Dense\n",
    "from keras.optimizers import Adam"
   ]
  },
  {
   "cell_type": "code",
   "execution_count": 8,
   "id": "97c0b6b2",
   "metadata": {},
   "outputs": [],
   "source": [
    "# Assuming you have your data in a DataFrame with features in 'X' and target in 'y'\n",
    "# Replace this with your actual data loading process\n",
    "data = pd.read_csv('/media/masharifin/D Drive/ComprehensiveExam/Datasets/novel_data_randomsample.csv')\n",
    "data['Class'] = data['Class'].replace({'Benign': 0, 'Malware': 1})\n",
    "X = data.drop(columns=['Class'])\n",
    "y = data['Class']\n",
    "\n",
    "# Split the data into training and testing sets\n",
    "X_train, X_test, y_train, y_test = train_test_split(X, y, test_size=0.2, random_state=42)\n",
    "\n",
    "# Normalize the input features\n",
    "scaler = StandardScaler()\n",
    "X_train_scaled = scaler.fit_transform(X_train)\n",
    "X_test_scaled = scaler.transform(X_test)"
   ]
  },
  {
   "cell_type": "code",
   "execution_count": 9,
   "id": "ee886866",
   "metadata": {},
   "outputs": [
    {
     "name": "stdout",
     "output_type": "stream",
     "text": [
      "Epoch 1/10\n",
      "1319/1319 [==============================] - 1s 827us/step - loss: 0.0099 - accuracy: 0.9981 - val_loss: 3.6173e-05 - val_accuracy: 1.0000\n",
      "Epoch 2/10\n",
      "1319/1319 [==============================] - 1s 753us/step - loss: 1.7111e-05 - accuracy: 1.0000 - val_loss: 7.7850e-06 - val_accuracy: 1.0000\n",
      "Epoch 3/10\n",
      "1319/1319 [==============================] - 1s 763us/step - loss: 4.6552e-06 - accuracy: 1.0000 - val_loss: 2.6963e-06 - val_accuracy: 1.0000\n",
      "Epoch 4/10\n",
      "1319/1319 [==============================] - 1s 768us/step - loss: 1.7497e-06 - accuracy: 1.0000 - val_loss: 1.1042e-06 - val_accuracy: 1.0000\n",
      "Epoch 5/10\n",
      "1319/1319 [==============================] - 1s 770us/step - loss: 7.4380e-07 - accuracy: 1.0000 - val_loss: 4.8917e-07 - val_accuracy: 1.0000\n",
      "Epoch 6/10\n",
      "1319/1319 [==============================] - 1s 758us/step - loss: 3.3571e-07 - accuracy: 1.0000 - val_loss: 2.2500e-07 - val_accuracy: 1.0000\n",
      "Epoch 7/10\n",
      "1319/1319 [==============================] - 1s 793us/step - loss: 1.5656e-07 - accuracy: 1.0000 - val_loss: 1.0654e-07 - val_accuracy: 1.0000\n",
      "Epoch 8/10\n",
      "1319/1319 [==============================] - 1s 825us/step - loss: 7.4633e-08 - accuracy: 1.0000 - val_loss: 5.1505e-08 - val_accuracy: 1.0000\n",
      "Epoch 9/10\n",
      "1319/1319 [==============================] - 1s 802us/step - loss: 3.6673e-08 - accuracy: 1.0000 - val_loss: 2.5862e-08 - val_accuracy: 1.0000\n",
      "Epoch 10/10\n",
      "1319/1319 [==============================] - 1s 800us/step - loss: 1.8750e-08 - accuracy: 1.0000 - val_loss: 1.3010e-08 - val_accuracy: 1.0000\n"
     ]
    },
    {
     "data": {
      "text/plain": [
       "<keras.callbacks.History at 0x7f4c6433f8e0>"
      ]
     },
     "execution_count": 9,
     "metadata": {},
     "output_type": "execute_result"
    }
   ],
   "source": [
    "# Create the ANN model\n",
    "model = Sequential()\n",
    "\n",
    "# Add layers to the model\n",
    "model.add(Dense(units=64, activation='relu', input_shape=(X_train_scaled.shape[1],)))\n",
    "model.add(Dense(units=32, activation='relu'))\n",
    "model.add(Dense(units=1, activation='sigmoid'))\n",
    "\n",
    "# Compile the model\n",
    "model.compile(optimizer=Adam(learning_rate=0.001), loss='binary_crossentropy', metrics=['accuracy'])\n",
    "\n",
    "# Train the model\n",
    "model.fit(X_train_scaled, y_train, epochs=10, batch_size=32, validation_split=0.1)\n"
   ]
  },
  {
   "cell_type": "code",
   "execution_count": 10,
   "id": "1c127ba0",
   "metadata": {},
   "outputs": [
    {
     "name": "stdout",
     "output_type": "stream",
     "text": [
      "367/367 [==============================] - 0s 503us/step - loss: 1.2863e-08 - accuracy: 1.0000\n",
      "Test accuracy: 1.0000\n"
     ]
    }
   ],
   "source": [
    "\n",
    "# Evaluate the model on the test set\n",
    "loss, accuracy = model.evaluate(X_test_scaled, y_test)\n",
    "print(f'Test accuracy: {accuracy:.4f}')\n"
   ]
  },
  {
   "cell_type": "code",
   "execution_count": 12,
   "id": "d9eb7150",
   "metadata": {},
   "outputs": [
    {
     "name": "stdout",
     "output_type": "stream",
     "text": [
      "Epoch 1/10\n",
      "1319/1319 [==============================] - 3s 2ms/step - loss: 0.0041 - accuracy: 0.9985 - val_loss: 1.0632e-06 - val_accuracy: 1.0000\n",
      "Epoch 2/10\n",
      "1319/1319 [==============================] - 3s 2ms/step - loss: 4.6282e-07 - accuracy: 1.0000 - val_loss: 1.8861e-07 - val_accuracy: 1.0000\n",
      "Epoch 3/10\n",
      "1319/1319 [==============================] - 3s 2ms/step - loss: 1.1192e-07 - accuracy: 1.0000 - val_loss: 6.2932e-08 - val_accuracy: 1.0000\n",
      "Epoch 4/10\n",
      "1319/1319 [==============================] - 3s 2ms/step - loss: 4.1865e-08 - accuracy: 1.0000 - val_loss: 2.6642e-08 - val_accuracy: 1.0000\n",
      "Epoch 5/10\n",
      "1319/1319 [==============================] - 3s 2ms/step - loss: 1.8894e-08 - accuracy: 1.0000 - val_loss: 1.2823e-08 - val_accuracy: 1.0000\n",
      "Epoch 6/10\n",
      "1319/1319 [==============================] - 3s 2ms/step - loss: 9.5360e-09 - accuracy: 1.0000 - val_loss: 6.9507e-09 - val_accuracy: 1.0000\n",
      "Epoch 7/10\n",
      "1319/1319 [==============================] - 3s 2ms/step - loss: 5.3625e-09 - accuracy: 1.0000 - val_loss: 4.0005e-09 - val_accuracy: 1.0000\n",
      "Epoch 8/10\n",
      "1319/1319 [==============================] - 3s 3ms/step - loss: 3.2339e-09 - accuracy: 1.0000 - val_loss: 2.5150e-09 - val_accuracy: 1.0000\n",
      "Epoch 9/10\n",
      "1319/1319 [==============================] - 3s 2ms/step - loss: 2.2298e-09 - accuracy: 1.0000 - val_loss: 1.9160e-09 - val_accuracy: 1.0000\n",
      "Epoch 10/10\n",
      "1319/1319 [==============================] - 3s 2ms/step - loss: 1.8006e-09 - accuracy: 1.0000 - val_loss: 1.5832e-09 - val_accuracy: 1.0000\n",
      "367/367 [==============================] - 0s 1ms/step - loss: 1.6825e-09 - accuracy: 1.0000\n",
      "Test accuracy: 1.0000\n"
     ]
    }
   ],
   "source": [
    "import pandas as pd\n",
    "import numpy as np\n",
    "from sklearn.model_selection import train_test_split\n",
    "from sklearn.preprocessing import StandardScaler\n",
    "from keras.models import Sequential\n",
    "from keras.layers import Conv1D, MaxPooling1D, Flatten, Dense\n",
    "from keras.optimizers import Adam\n",
    "\n",
    "\n",
    "# Normalize the input features\n",
    "scaler = StandardScaler()\n",
    "X_train_scaled = scaler.fit_transform(X_train)\n",
    "X_test_scaled = scaler.transform(X_test)\n",
    "\n",
    "# Reshape X_train and X_test to be 3D tensors for CNN\n",
    "X_train_reshaped = X_train_scaled.reshape(X_train_scaled.shape[0], X_train_scaled.shape[1], 1)\n",
    "X_test_reshaped = X_test_scaled.reshape(X_test_scaled.shape[0], X_test_scaled.shape[1], 1)\n",
    "\n",
    "# Create the CNN model\n",
    "model = Sequential()\n",
    "\n",
    "# Add convolutional layers\n",
    "model.add(Conv1D(filters=32, kernel_size=3, activation='relu', input_shape=(X_train_scaled.shape[1], 1)))\n",
    "model.add(MaxPooling1D(pool_size=2))\n",
    "\n",
    "model.add(Conv1D(filters=64, kernel_size=3, activation='relu'))\n",
    "model.add(MaxPooling1D(pool_size=2))\n",
    "\n",
    "# Add fully connected layers\n",
    "model.add(Flatten())\n",
    "model.add(Dense(units=128, activation='relu'))\n",
    "model.add(Dense(units=1, activation='sigmoid'))\n",
    "\n",
    "# Compile the model\n",
    "model.compile(optimizer=Adam(learning_rate=0.001), loss='binary_crossentropy', metrics=['accuracy'])\n",
    "\n",
    "# Train the model\n",
    "model.fit(X_train_reshaped, y_train, epochs=10, batch_size=32, validation_split=0.1)\n",
    "\n",
    "# Evaluate the model on the test set\n",
    "loss, accuracy = model.evaluate(X_test_reshaped, y_test)\n",
    "print(f'Test accuracy: {accuracy:.4f}')\n"
   ]
  },
  {
   "cell_type": "code",
   "execution_count": null,
   "id": "329e1eb0",
   "metadata": {},
   "outputs": [],
   "source": []
  }
 ],
 "metadata": {
  "kernelspec": {
   "display_name": "Python 3 (ipykernel)",
   "language": "python",
   "name": "python3"
  },
  "language_info": {
   "codemirror_mode": {
    "name": "ipython",
    "version": 3
   },
   "file_extension": ".py",
   "mimetype": "text/x-python",
   "name": "python",
   "nbconvert_exporter": "python",
   "pygments_lexer": "ipython3",
   "version": "3.10.6"
  }
 },
 "nbformat": 4,
 "nbformat_minor": 5
}
